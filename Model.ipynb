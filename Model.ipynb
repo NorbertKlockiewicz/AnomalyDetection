{
 "cells": [
  {
   "cell_type": "markdown",
   "metadata": {},
   "source": [
    "## Anomaly Detection - Project\n",
    "### Authors: Norbert Klockiewicz, Kacper Majchrzak, Patryk Kożuch\n",
    "\n",
    "#### Based on: <a href=\"https://arxiv.org/pdf/1802.04431.pdf\">Detecting Spacecraft Anomalies Using LSTMs and Nonparametric Dynamic Thresholding</a>"
   ]
  },
  {
   "cell_type": "markdown",
   "metadata": {},
   "source": [
    "Imports"
   ]
  },
  {
   "cell_type": "code",
   "execution_count": 1,
   "metadata": {
    "ExecuteTime": {
     "end_time": "2024-03-16T14:29:56.647423Z",
     "start_time": "2024-03-16T14:29:56.618358Z"
    }
   },
   "outputs": [
    {
     "ename": "ModuleNotFoundError",
     "evalue": "No module named 'matplotlib'",
     "output_type": "error",
     "traceback": [
      "\u001b[0;31m---------------------------------------------------------------------------\u001b[0m",
      "\u001b[0;31mModuleNotFoundError\u001b[0m                       Traceback (most recent call last)",
      "Cell \u001b[0;32mIn[1], line 3\u001b[0m\n\u001b[1;32m      1\u001b[0m \u001b[38;5;28;01mimport\u001b[39;00m \u001b[38;5;21;01mnumpy\u001b[39;00m \u001b[38;5;28;01mas\u001b[39;00m \u001b[38;5;21;01mnp\u001b[39;00m\n\u001b[1;32m      2\u001b[0m \u001b[38;5;28;01mimport\u001b[39;00m \u001b[38;5;21;01mos\u001b[39;00m\n\u001b[0;32m----> 3\u001b[0m \u001b[38;5;28;01mimport\u001b[39;00m \u001b[38;5;21;01mmatplotlib\u001b[39;00m\u001b[38;5;21;01m.\u001b[39;00m\u001b[38;5;21;01mpyplot\u001b[39;00m \u001b[38;5;28;01mas\u001b[39;00m \u001b[38;5;21;01mplt\u001b[39;00m\n\u001b[1;32m      4\u001b[0m \u001b[38;5;28;01mimport\u001b[39;00m \u001b[38;5;21;01mpandas\u001b[39;00m \u001b[38;5;28;01mas\u001b[39;00m \u001b[38;5;21;01mpd\u001b[39;00m\n\u001b[1;32m      5\u001b[0m \u001b[38;5;28;01mimport\u001b[39;00m \u001b[38;5;21;01mmore_itertools\u001b[39;00m \u001b[38;5;28;01mas\u001b[39;00m \u001b[38;5;21;01mmit\u001b[39;00m\n",
      "\u001b[0;31mModuleNotFoundError\u001b[0m: No module named 'matplotlib'"
     ]
    }
   ],
   "source": [
    "import numpy as np\n",
    "import os\n",
    "import matplotlib.pyplot as plt\n",
    "import pandas as pd\n",
    "import more_itertools as mit\n",
    "from keras.models import Sequential, load_model\n",
    "from keras.callbacks import History, EarlyStopping\n",
    "from keras.layers import Dense, Activation, Dropout, LSTM"
   ]
  },
  {
   "cell_type": "code",
   "execution_count": null,
   "metadata": {
    "ExecuteTime": {
     "end_time": "2024-03-16T14:29:56.664809Z",
     "start_time": "2024-03-16T14:29:56.650375Z"
    }
   },
   "outputs": [],
   "source": [
    "CHANNEL = \"D-12\""
   ]
  },
  {
   "cell_type": "markdown",
   "metadata": {},
   "source": [
    "### Class channel - load and prepare data to train model"
   ]
  },
  {
   "cell_type": "code",
   "execution_count": null,
   "metadata": {
    "ExecuteTime": {
     "end_time": "2024-03-16T14:29:56.666169Z",
     "start_time": "2024-03-16T14:29:56.657681Z"
    },
    "collapsed": false
   },
   "outputs": [],
   "source": [
    "class Channel:\n",
    "    def __init__(self, chan_id):\n",
    "        self.id = chan_id\n",
    "        self.train = None\n",
    "        self.test = None\n",
    "        self.l_s = 250\n",
    "        self.n_predictions = 10\n",
    "        self.X_train = None\n",
    "        self.y_train = None\n",
    "        self.X_test = None\n",
    "        self.y_test = None\n",
    "        self.y_hat = None\n",
    "\n",
    "    def shape_data(self, arr, training=True):\n",
    "        data = []\n",
    "        for i in range(len(arr) - self.l_s - self.n_predictions):\n",
    "            data.append(arr[i: i + self.l_s + self.n_predictions])\n",
    "            \n",
    "        data = np.array(data)\n",
    "\n",
    "        if training:\n",
    "            np.random.shuffle(data)\n",
    "            self.X_train = data[:, :-self.n_predictions, :]\n",
    "            self.y_train = data[:, -self.n_predictions:, 0]\n",
    "        else:\n",
    "            self.X_test = data[:, :-self.n_predictions, :]\n",
    "            self.y_test = data[:, -self.n_predictions:, 0]\n",
    "\n",
    "    def load_data(self):\n",
    "        try:\n",
    "            self.train = np.load(os.path.join(\"data\", \"train\", \"{}.npy\".format(self.id)))\n",
    "            self.test = np.load(os.path.join(\"data\", \"test\", \"{}.npy\".format(self.id)))\n",
    "        except FileNotFoundError as e:\n",
    "            print(e)\n",
    "\n",
    "        self.shape_data(self.train)\n",
    "        self.shape_data(self.test, training=False)"
   ]
  },
  {
   "cell_type": "code",
   "execution_count": null,
   "metadata": {
    "ExecuteTime": {
     "end_time": "2024-03-16T14:29:56.783369Z",
     "start_time": "2024-03-16T14:29:56.663905Z"
    },
    "collapsed": false
   },
   "outputs": [],
   "source": [
    "new_channel = Channel(CHANNEL)\n",
    "new_channel.load_data()"
   ]
  },
  {
   "cell_type": "markdown",
   "metadata": {},
   "source": [
    "### Class Model - create and train recurrent neural network"
   ]
  },
  {
   "cell_type": "code",
   "execution_count": null,
   "metadata": {
    "ExecuteTime": {
     "end_time": "2024-03-16T14:29:56.804057Z",
     "start_time": "2024-03-16T14:29:56.782811Z"
    }
   },
   "outputs": [],
   "source": [
    "class Model:\n",
    "    def __init__(self, channel):\n",
    "        self.chan_id = channel.id\n",
    "        self.y_hat = np.array([])\n",
    "        self.model = None\n",
    "        self.train_new(channel)\n",
    "        \n",
    "\n",
    "    def train_new(self, channel):\n",
    "        cbs = [History(), EarlyStopping(monitor='val_loss',\n",
    "                                        patience=10,\n",
    "                                        min_delta=0.0003,\n",
    "                                        verbose=0)]\n",
    "\n",
    "        self.model = Sequential()\n",
    "\n",
    "        self.model.add(LSTM(\n",
    "            80,\n",
    "            input_shape=(None, channel.X_train.shape[2]),\n",
    "            return_sequences=True))\n",
    "        self.model.add(Dropout(0.3))\n",
    "\n",
    "        self.model.add(LSTM(\n",
    "            80,\n",
    "            return_sequences=False))\n",
    "        self.model.add(Dropout(0.3))\n",
    "\n",
    "        self.model.add(Dense(\n",
    "            channel.n_predictions))\n",
    "        self.model.add(Activation('linear'))\n",
    "\n",
    "        self.model.compile(loss='mse',\n",
    "                           optimizer='adam')\n",
    "\n",
    "        self.model.fit(channel.X_train,\n",
    "                       channel.y_train,\n",
    "                       batch_size=64,\n",
    "                       epochs=35,\n",
    "                       validation_split=0.2,\n",
    "                       callbacks=cbs,\n",
    "                       verbose=True)\n",
    "        \n",
    "    def aggregate_predictions(self, y_hat_batch, method='first'):\n",
    "        agg_y_hat_batch = np.array([])\n",
    "\n",
    "        for t in range(len(y_hat_batch)):\n",
    "\n",
    "            start_idx = t - 10\n",
    "            start_idx = start_idx if start_idx >= 0 else 0\n",
    "\n",
    "            # predictions pertaining to a specific timestep lie along diagonal\n",
    "            y_hat_t = np.flipud(y_hat_batch[start_idx:t+1]).diagonal()\n",
    "\n",
    "            if method == 'first':\n",
    "                agg_y_hat_batch = np.append(agg_y_hat_batch, [y_hat_t[0]])\n",
    "            elif method == 'mean':\n",
    "                agg_y_hat_batch = np.append(agg_y_hat_batch, np.mean(y_hat_t))\n",
    "\n",
    "        agg_y_hat_batch = agg_y_hat_batch.reshape(len(agg_y_hat_batch), 1)\n",
    "        self.y_hat = np.append(self.y_hat, agg_y_hat_batch)\n",
    "              \n",
    "    def batch_predict(self, channel):\n",
    "        num_batches = int((channel.y_test.shape[0] - 250)\n",
    "                          / 70)\n",
    "\n",
    "        for i in range(0, num_batches + 1):\n",
    "            prior_idx = i * 70\n",
    "            idx = (i + 1) * 70\n",
    "\n",
    "            if i + 1 == num_batches + 1:\n",
    "                idx = channel.y_test.shape[0]\n",
    "\n",
    "            X_test_batch = channel.X_test[prior_idx:idx]\n",
    "            y_hat_batch = self.model.predict(X_test_batch)\n",
    "            self.aggregate_predictions(y_hat_batch)\n",
    "\n",
    "        self.y_hat = np.reshape(self.y_hat, (self.y_hat.size,))\n",
    "\n",
    "        channel.y_hat = self.y_hat\n",
    "\n",
    "        return channel\n"
   ]
  },
  {
   "cell_type": "code",
   "execution_count": null,
   "metadata": {
    "ExecuteTime": {
     "end_time": "2024-03-16T14:30:39.483576Z",
     "start_time": "2024-03-16T14:29:56.795185Z"
    }
   },
   "outputs": [
    {
     "name": "stdout",
     "output_type": "stream",
     "text": [
      "Epoch 1/35\n"
     ]
    },
    {
     "name": "stderr",
     "output_type": "stream",
     "text": [
      "2024-03-16 15:29:58.790874: I tensorflow/core/grappler/optimizers/custom_graph_optimizer_registry.cc:113] Plugin optimizer for device_type GPU is enabled.\n",
      "2024-03-16 15:29:59.015242: I tensorflow/core/grappler/optimizers/custom_graph_optimizer_registry.cc:113] Plugin optimizer for device_type GPU is enabled.\n",
      "2024-03-16 15:30:00.783808: I tensorflow/core/grappler/optimizers/custom_graph_optimizer_registry.cc:113] Plugin optimizer for device_type GPU is enabled.\n",
      "2024-03-16 15:30:02.538393: I tensorflow/core/grappler/optimizers/custom_graph_optimizer_registry.cc:113] Plugin optimizer for device_type GPU is enabled.\n",
      "2024-03-16 15:30:16.752063: I tensorflow/core/grappler/optimizers/custom_graph_optimizer_registry.cc:113] Plugin optimizer for device_type GPU is enabled.\n"
     ]
    },
    {
     "name": "stdout",
     "output_type": "stream",
     "text": [
      "1/1 [==============================] - ETA: 0s - loss: 0.9531"
     ]
    },
    {
     "name": "stderr",
     "output_type": "stream",
     "text": [
      "2024-03-16 15:30:31.102176: I tensorflow/core/grappler/optimizers/custom_graph_optimizer_registry.cc:113] Plugin optimizer for device_type GPU is enabled.\n",
      "2024-03-16 15:30:31.177791: I tensorflow/core/grappler/optimizers/custom_graph_optimizer_registry.cc:113] Plugin optimizer for device_type GPU is enabled.\n",
      "2024-03-16 15:30:32.970087: I tensorflow/core/grappler/optimizers/custom_graph_optimizer_registry.cc:113] Plugin optimizer for device_type GPU is enabled.\n"
     ]
    },
    {
     "name": "stdout",
     "output_type": "stream",
     "text": [
      "1/1 [==============================] - 38s 38s/step - loss: 0.9531 - val_loss: 0.8283\n",
      "Epoch 2/35\n",
      "1/1 [==============================] - 0s 257ms/step - loss: 0.8330 - val_loss: 0.7093\n",
      "Epoch 3/35\n",
      "1/1 [==============================] - 0s 223ms/step - loss: 0.7160 - val_loss: 0.5828\n",
      "Epoch 4/35\n",
      "1/1 [==============================] - 0s 224ms/step - loss: 0.5929 - val_loss: 0.4423\n",
      "Epoch 5/35\n",
      "1/1 [==============================] - 0s 224ms/step - loss: 0.4582 - val_loss: 0.2884\n",
      "Epoch 6/35\n",
      "1/1 [==============================] - 0s 224ms/step - loss: 0.3136 - val_loss: 0.1411\n",
      "Epoch 7/35\n",
      "1/1 [==============================] - 0s 220ms/step - loss: 0.1803 - val_loss: 0.0520\n",
      "Epoch 8/35\n",
      "1/1 [==============================] - 0s 221ms/step - loss: 0.1086 - val_loss: 0.0612\n",
      "Epoch 9/35\n",
      "1/1 [==============================] - 0s 224ms/step - loss: 0.1329 - val_loss: 0.0835\n",
      "Epoch 10/35\n",
      "1/1 [==============================] - 0s 217ms/step - loss: 0.1605 - val_loss: 0.0637\n",
      "Epoch 11/35\n",
      "1/1 [==============================] - 0s 215ms/step - loss: 0.1386 - val_loss: 0.0290\n",
      "Epoch 12/35\n",
      "1/1 [==============================] - 0s 215ms/step - loss: 0.0978 - val_loss: 0.0086\n",
      "Epoch 13/35\n",
      "1/1 [==============================] - 0s 219ms/step - loss: 0.0698 - val_loss: 0.0103\n",
      "Epoch 14/35\n",
      "1/1 [==============================] - 0s 220ms/step - loss: 0.0638 - val_loss: 0.0247\n",
      "Epoch 15/35\n",
      "1/1 [==============================] - 0s 219ms/step - loss: 0.0719 - val_loss: 0.0395\n",
      "Epoch 16/35\n",
      "1/1 [==============================] - 0s 219ms/step - loss: 0.0821 - val_loss: 0.0475\n",
      "Epoch 17/35\n",
      "1/1 [==============================] - 0s 218ms/step - loss: 0.0872 - val_loss: 0.0473\n",
      "Epoch 18/35\n",
      "1/1 [==============================] - 0s 217ms/step - loss: 0.0856 - val_loss: 0.0407\n",
      "Epoch 19/35\n",
      "1/1 [==============================] - 0s 223ms/step - loss: 0.0787 - val_loss: 0.0309\n",
      "Epoch 20/35\n",
      "1/1 [==============================] - 0s 216ms/step - loss: 0.0693 - val_loss: 0.0210\n",
      "Epoch 21/35\n",
      "1/1 [==============================] - 0s 226ms/step - loss: 0.0601 - val_loss: 0.0132\n",
      "Epoch 22/35\n",
      "1/1 [==============================] - 0s 217ms/step - loss: 0.0532 - val_loss: 0.0085\n"
     ]
    }
   ],
   "source": [
    "model = Model(new_channel)"
   ]
  },
  {
   "cell_type": "code",
   "execution_count": null,
   "metadata": {
    "ExecuteTime": {
     "end_time": "2024-03-16T14:31:18.049307Z",
     "start_time": "2024-03-16T14:30:39.482614Z"
    }
   },
   "outputs": [
    {
     "name": "stderr",
     "output_type": "stream",
     "text": [
      "2024-03-16 15:30:39.734821: I tensorflow/core/grappler/optimizers/custom_graph_optimizer_registry.cc:113] Plugin optimizer for device_type GPU is enabled.\n",
      "2024-03-16 15:30:39.796605: I tensorflow/core/grappler/optimizers/custom_graph_optimizer_registry.cc:113] Plugin optimizer for device_type GPU is enabled.\n",
      "2024-03-16 15:30:41.574104: I tensorflow/core/grappler/optimizers/custom_graph_optimizer_registry.cc:113] Plugin optimizer for device_type GPU is enabled.\n"
     ]
    },
    {
     "data": {
      "text/plain": [
       "<__main__.Channel at 0x381eb6820>"
      ]
     },
     "execution_count": 48,
     "metadata": {},
     "output_type": "execute_result"
    }
   ],
   "source": [
    "model.batch_predict(new_channel)"
   ]
  },
  {
   "cell_type": "code",
   "execution_count": null,
   "metadata": {
    "ExecuteTime": {
     "end_time": "2024-03-16T14:31:18.186160Z",
     "start_time": "2024-03-16T14:31:18.048494Z"
    }
   },
   "outputs": [
    {
     "data": {
      "text/plain": [
       "[<matplotlib.lines.Line2D at 0x3ace1ca30>]"
      ]
     },
     "execution_count": 49,
     "metadata": {},
     "output_type": "execute_result"
    },
    {
     "data": {
      "image/png": "[encoded data removed]",
      "text/plain": [
       "<Figure size 1080x360 with 2 Axes>"
      ]
     },
     "metadata": {
      "needs_background": "light"
     },
     "output_type": "display_data"
    }
   ],
   "source": [
    "fig, ax = plt.subplots(1, 2)\n",
    "\n",
    "fig.set_size_inches(15, 5)\n",
    "\n",
    "fig.suptitle(\"Actuals vs Predictions\")\n",
    "\n",
    "ax[0].plot(new_channel.y_test[:, 0])\n",
    "\n",
    "ax[1].plot(new_channel.y_hat)"
   ]
  },
  {
   "cell_type": "markdown",
   "metadata": {},
   "source": [
    "### Class Plotter - visualize input data, predictions and errors"
   ]
  },
  {
   "cell_type": "code",
   "execution_count": null,
   "metadata": {
    "ExecuteTime": {
     "end_time": "2024-03-16T14:31:18.186668Z",
     "start_time": "2024-03-16T14:31:18.179817Z"
    }
   },
   "outputs": [],
   "source": [
    "class Plotter:\n",
    "    def __init__(self, channel):\n",
    "        self.channel = channel\n",
    "\n",
    "    def plot_predictions(self, plot_real_data=True):\n",
    "        if plot_real_data:\n",
    "            plt.plot(self.channel.y_test[:, 0])\n",
    "        else:\n",
    "            plt.plot(self.channel.y_hat)\n",
    "\n",
    "        anomalies = pd.read_csv(\"data/labeled_anomalies.csv\")\n",
    "        anomalies = anomalies[anomalies[\"chan_id\"] == self.channel.id]\n",
    "        anomalies_plot = anomalies['anomaly_sequences']\n",
    "        anomalies_plot = eval(anomalies_plot.iloc[0])\n",
    "\n",
    "        for rect in anomalies_plot:\n",
    "            plt.axvspan(rect[0], rect[1], alpha=0.3, color='red')\n",
    "        plt.show()\n",
    "        \n",
    "    \n",
    "    def plot_custom_range_predictions(self, start, end, plot_real_data=True):\n",
    "        if plot_real_data:\n",
    "            plt.plot([i for i in range(start, end)], self.channel.y_test[:, 0][start:end])\n",
    "        else:\n",
    "             plt.plot([i for i in range(start, end)], self.channel.y_hat[start:end])\n",
    "\n",
    "        anomalies = pd.read_csv(\"data/labeled_anomalies.csv\")\n",
    "        anomalies = anomalies[anomalies[\"chan_id\"] == self.channel.id]\n",
    "        anomalies_plot = anomalies['anomaly_sequences']\n",
    "        anomalies_plot = eval(anomalies_plot.iloc[0])\n",
    "\n",
    "        for rect in anomalies_plot:\n",
    "            plt.axvspan(rect[0], rect[1], alpha=0.3, color='red')\n",
    "        plt.show()\n",
    "        \n",
    "    def plot_threshold(self, error, threshold):\n",
    "        plt.figure(figsize=(20,10))\n",
    "        plt.plot(error)\n",
    "        plt.plot([threshold for i in range(len(error))])\n",
    "\n",
    "        anomalies = pd.read_csv(\"data/labeled_anomalies.csv\")\n",
    "        anomalies = anomalies[anomalies[\"chan_id\"] == self.channel.id]\n",
    "        anomalies_plot = anomalies['anomaly_sequences']\n",
    "        anomalies_plot = eval(anomalies_plot.iloc[0])\n",
    "\n",
    "        for rect in anomalies_plot:\n",
    "            plt.axvspan(rect[0], rect[1], alpha=0.3, color='red')\n",
    "        plt.show()"
   ]
  },
  {
   "cell_type": "code",
   "execution_count": null,
   "metadata": {
    "ExecuteTime": {
     "end_time": "2024-03-16T14:31:18.286130Z",
     "start_time": "2024-03-16T14:31:18.188869Z"
    }
   },
   "outputs": [
    {
     "data": {
      "image/png": "[encoded data removed]",
      "text/plain": [
       "<Figure size 432x288 with 1 Axes>"
      ]
     },
     "metadata": {
      "needs_background": "light"
     },
     "output_type": "display_data"
    },
    {
     "data": {
      "image/png": "[encoded data removed]",
      "text/plain": [
       "<Figure size 432x288 with 1 Axes>"
      ]
     },
     "metadata": {
      "needs_background": "light"
     },
     "output_type": "display_data"
    }
   ],
   "source": [
    "plotter = Plotter(new_channel)\n",
    "plotter.plot_predictions()\n",
    "plotter.plot_custom_range_predictions(4000, 5000)"
   ]
  },
  {
   "cell_type": "markdown",
   "metadata": {},
   "source": [
    "### Calculate error between real and predicted data, create smoothed error"
   ]
  },
  {
   "cell_type": "code",
   "execution_count": null,
   "metadata": {
    "ExecuteTime": {
     "end_time": "2024-03-16T14:31:18.301377Z",
     "start_time": "2024-03-16T14:31:18.285263Z"
    }
   },
   "outputs": [],
   "source": [
    "class ErrorWindow:\n",
    "    def __init__(self, channel, e_s, window_size, window_number):\n",
    "        self.channel = channel\n",
    "        self.e_s = e_s\n",
    "        self.window_num = window_number\n",
    "        self.window_size = window_size\n",
    "        self.E_seq = np.array([])\n",
    "        \n",
    "        self.mean = np.mean(self.e_s)\n",
    "        self.std = np.std(self.e_s)\n",
    "        self.epsilon = self.mean + 12 * self.std\n",
    "        self.indices_anomalies = np.array([])\n",
    "        # self.non_anom_max = np.max(self.e_s[self.e_s < self.epsilon])\n",
    "\n",
    "    def calculate_epsilon(self):\n",
    "        epsilon = 0\n",
    "        max_score = float('-inf')\n",
    "\n",
    "        for z in np.arange(2, 10, 0.5):\n",
    "            epsilon = self.mean + (self.std * z)\n",
    "\n",
    "            delta_mean = self.mean - np.mean(self.e_s[self.e_s < epsilon])\n",
    "            delta_std = self.std - np.std(self.e_s[self.e_s < epsilon])\n",
    "            e_a = self.e_s[self.e_s >= epsilon]\n",
    "\n",
    "            if len(e_a) > 0:\n",
    "                anom = np.argwhere(self.e_s >= epsilon).reshape(-1)\n",
    "                E_seq =[list(g) for g in mit.consecutive_groups(anom)]\n",
    "                E_seq_len = len(anom)\n",
    "                \n",
    "                score = ((delta_mean/self.mean) + (delta_std/self.std)) / (E_seq_len**2 + len(e_a))\n",
    "                if score > max_score:\n",
    "                    max_score = score\n",
    "                    self.epsilon = epsilon\n",
    "                    self.E_seq = E_seq\n",
    "                    self.indices_anomalies = anom\n",
    "                    # self.non_anom_max = np.max(self.e_s[self.e_s < self.epsilon])\n",
    "        return epsilon"
   ]
  },
  {
   "cell_type": "code",
   "execution_count": null,
   "metadata": {
    "ExecuteTime": {
     "end_time": "2024-03-16T14:32:23.798601Z",
     "start_time": "2024-03-16T14:32:23.781650Z"
    }
   },
   "outputs": [],
   "source": [
    "class Errors:\n",
    "    def __init__(self, channel):\n",
    "        self.channel = channel\n",
    "        self.error = np.abs(channel.y_test[:, 0] - channel.y_hat)\n",
    "        self.normalized = np.mean(self.error / np.ptp(channel.y_test))\n",
    "        self.e_s = pd.DataFrame(self.error).ewm(span=105).mean().values.flatten()\n",
    "\n",
    "        self.window_size = 30\n",
    "        self.batch_size = 70\n",
    "\n",
    "        self.n_windows = int((channel.y_test.shape[0] - (self.batch_size * self.window_size)) / self.batch_size)\n",
    "        self.epsilons = []\n",
    "\n",
    "\n",
    "    def detect_anomalies(self):\n",
    "\n",
    "        for i in range(self.n_windows + 1):\n",
    "            prior_idx = i * self.batch_size\n",
    "            idx = self.window_size * self.batch_size + prior_idx\n",
    "\n",
    "            window = ErrorWindow(self.channel, self.e_s[prior_idx:idx], self.window_size, i)\n",
    "            self.epsilons.append(((prior_idx, idx), window.calculate_epsilon()))"
   ]
  },
  {
   "cell_type": "code",
   "execution_count": null,
   "metadata": {
    "ExecuteTime": {
     "end_time": "2024-03-16T14:32:25.216232Z",
     "start_time": "2024-03-16T14:32:25.041085Z"
    }
   },
   "outputs": [],
   "source": [
    "errors = Errors(new_channel)\n",
    "errors.detect_anomalies()\n",
    "epsilons = errors.epsilons"
   ]
  },
  {
   "cell_type": "code",
   "execution_count": null,
   "metadata": {
    "ExecuteTime": {
     "end_time": "2024-03-16T14:32:27.304843Z",
     "start_time": "2024-03-16T14:32:27.216611Z"
    }
   },
   "outputs": [
    {
     "ename": "ValueError",
     "evalue": "setting an array element with a sequence.",
     "output_type": "error",
     "traceback": [
      "\u001b[0;31m---------------------------------------------------------------------------\u001b[0m",
      "\u001b[0;31mTypeError\u001b[0m                                 Traceback (most recent call last)",
      "\u001b[0;31mTypeError\u001b[0m: float() argument must be a string or a number, not 'tuple'",
      "\nThe above exception was the direct cause of the following exception:\n",
      "\u001b[0;31mValueError\u001b[0m                                Traceback (most recent call last)",
      "Input \u001b[0;32mIn [60]\u001b[0m, in \u001b[0;36m<cell line: 1>\u001b[0;34m()\u001b[0m\n\u001b[0;32m----> 1\u001b[0m \u001b[43mplt\u001b[49m\u001b[38;5;241;43m.\u001b[39;49m\u001b[43mplot\u001b[49m\u001b[43m(\u001b[49m\u001b[43mepsilons\u001b[49m\u001b[43m)\u001b[49m\n\u001b[1;32m      2\u001b[0m plt\u001b[38;5;241m.\u001b[39mshow()\n\u001b[1;32m      3\u001b[0m plotter\u001b[38;5;241m.\u001b[39mplot_threshold(errors\u001b[38;5;241m.\u001b[39me_s, np\u001b[38;5;241m.\u001b[39mmedian(epsilons))\n",
      "File \u001b[0;32m/opt/homebrew/anaconda3/envs/ml/lib/python3.9/site-packages/matplotlib/pyplot.py:2769\u001b[0m, in \u001b[0;36mplot\u001b[0;34m(scalex, scaley, data, *args, **kwargs)\u001b[0m\n\u001b[1;32m   2767\u001b[0m \u001b[38;5;129m@_copy_docstring_and_deprecators\u001b[39m(Axes\u001b[38;5;241m.\u001b[39mplot)\n\u001b[1;32m   2768\u001b[0m \u001b[38;5;28;01mdef\u001b[39;00m \u001b[38;5;21mplot\u001b[39m(\u001b[38;5;241m*\u001b[39margs, scalex\u001b[38;5;241m=\u001b[39m\u001b[38;5;28;01mTrue\u001b[39;00m, scaley\u001b[38;5;241m=\u001b[39m\u001b[38;5;28;01mTrue\u001b[39;00m, data\u001b[38;5;241m=\u001b[39m\u001b[38;5;28;01mNone\u001b[39;00m, \u001b[38;5;241m*\u001b[39m\u001b[38;5;241m*\u001b[39mkwargs):\n\u001b[0;32m-> 2769\u001b[0m     \u001b[38;5;28;01mreturn\u001b[39;00m \u001b[43mgca\u001b[49m\u001b[43m(\u001b[49m\u001b[43m)\u001b[49m\u001b[38;5;241;43m.\u001b[39;49m\u001b[43mplot\u001b[49m\u001b[43m(\u001b[49m\n\u001b[1;32m   2770\u001b[0m \u001b[43m        \u001b[49m\u001b[38;5;241;43m*\u001b[39;49m\u001b[43margs\u001b[49m\u001b[43m,\u001b[49m\u001b[43m \u001b[49m\u001b[43mscalex\u001b[49m\u001b[38;5;241;43m=\u001b[39;49m\u001b[43mscalex\u001b[49m\u001b[43m,\u001b[49m\u001b[43m \u001b[49m\u001b[43mscaley\u001b[49m\u001b[38;5;241;43m=\u001b[39;49m\u001b[43mscaley\u001b[49m\u001b[43m,\u001b[49m\n\u001b[1;32m   2771\u001b[0m \u001b[43m        \u001b[49m\u001b[38;5;241;43m*\u001b[39;49m\u001b[38;5;241;43m*\u001b[39;49m\u001b[43m(\u001b[49m\u001b[43m{\u001b[49m\u001b[38;5;124;43m\"\u001b[39;49m\u001b[38;5;124;43mdata\u001b[39;49m\u001b[38;5;124;43m\"\u001b[39;49m\u001b[43m:\u001b[49m\u001b[43m \u001b[49m\u001b[43mdata\u001b[49m\u001b[43m}\u001b[49m\u001b[43m \u001b[49m\u001b[38;5;28;43;01mif\u001b[39;49;00m\u001b[43m \u001b[49m\u001b[43mdata\u001b[49m\u001b[43m \u001b[49m\u001b[38;5;129;43;01mis\u001b[39;49;00m\u001b[43m \u001b[49m\u001b[38;5;129;43;01mnot\u001b[39;49;00m\u001b[43m \u001b[49m\u001b[38;5;28;43;01mNone\u001b[39;49;00m\u001b[43m \u001b[49m\u001b[38;5;28;43;01melse\u001b[39;49;00m\u001b[43m \u001b[49m\u001b[43m{\u001b[49m\u001b[43m}\u001b[49m\u001b[43m)\u001b[49m\u001b[43m,\u001b[49m\u001b[43m \u001b[49m\u001b[38;5;241;43m*\u001b[39;49m\u001b[38;5;241;43m*\u001b[39;49m\u001b[43mkwargs\u001b[49m\u001b[43m)\u001b[49m\n",
      "File \u001b[0;32m/opt/homebrew/anaconda3/envs/ml/lib/python3.9/site-packages/matplotlib/axes/_axes.py:1634\u001b[0m, in \u001b[0;36mAxes.plot\u001b[0;34m(self, scalex, scaley, data, *args, **kwargs)\u001b[0m\n\u001b[1;32m   1632\u001b[0m lines \u001b[38;5;241m=\u001b[39m [\u001b[38;5;241m*\u001b[39m\u001b[38;5;28mself\u001b[39m\u001b[38;5;241m.\u001b[39m_get_lines(\u001b[38;5;241m*\u001b[39margs, data\u001b[38;5;241m=\u001b[39mdata, \u001b[38;5;241m*\u001b[39m\u001b[38;5;241m*\u001b[39mkwargs)]\n\u001b[1;32m   1633\u001b[0m \u001b[38;5;28;01mfor\u001b[39;00m line \u001b[38;5;129;01min\u001b[39;00m lines:\n\u001b[0;32m-> 1634\u001b[0m     \u001b[38;5;28;43mself\u001b[39;49m\u001b[38;5;241;43m.\u001b[39;49m\u001b[43madd_line\u001b[49m\u001b[43m(\u001b[49m\u001b[43mline\u001b[49m\u001b[43m)\u001b[49m\n\u001b[1;32m   1635\u001b[0m \u001b[38;5;28mself\u001b[39m\u001b[38;5;241m.\u001b[39m_request_autoscale_view(scalex\u001b[38;5;241m=\u001b[39mscalex, scaley\u001b[38;5;241m=\u001b[39mscaley)\n\u001b[1;32m   1636\u001b[0m \u001b[38;5;28;01mreturn\u001b[39;00m lines\n",
      "File \u001b[0;32m/opt/homebrew/anaconda3/envs/ml/lib/python3.9/site-packages/matplotlib/axes/_base.py:2288\u001b[0m, in \u001b[0;36m_AxesBase.add_line\u001b[0;34m(self, line)\u001b[0m\n\u001b[1;32m   2285\u001b[0m \u001b[38;5;28;01mif\u001b[39;00m line\u001b[38;5;241m.\u001b[39mget_clip_path() \u001b[38;5;129;01mis\u001b[39;00m \u001b[38;5;28;01mNone\u001b[39;00m:\n\u001b[1;32m   2286\u001b[0m     line\u001b[38;5;241m.\u001b[39mset_clip_path(\u001b[38;5;28mself\u001b[39m\u001b[38;5;241m.\u001b[39mpatch)\n\u001b[0;32m-> 2288\u001b[0m \u001b[38;5;28;43mself\u001b[39;49m\u001b[38;5;241;43m.\u001b[39;49m\u001b[43m_update_line_limits\u001b[49m\u001b[43m(\u001b[49m\u001b[43mline\u001b[49m\u001b[43m)\u001b[49m\n\u001b[1;32m   2289\u001b[0m \u001b[38;5;28;01mif\u001b[39;00m \u001b[38;5;129;01mnot\u001b[39;00m line\u001b[38;5;241m.\u001b[39mget_label():\n\u001b[1;32m   2290\u001b[0m     line\u001b[38;5;241m.\u001b[39mset_label(\u001b[38;5;124mf\u001b[39m\u001b[38;5;124m'\u001b[39m\u001b[38;5;124m_child\u001b[39m\u001b[38;5;132;01m{\u001b[39;00m\u001b[38;5;28mlen\u001b[39m(\u001b[38;5;28mself\u001b[39m\u001b[38;5;241m.\u001b[39m_children)\u001b[38;5;132;01m}\u001b[39;00m\u001b[38;5;124m'\u001b[39m)\n",
      "File \u001b[0;32m/opt/homebrew/anaconda3/envs/ml/lib/python3.9/site-packages/matplotlib/axes/_base.py:2311\u001b[0m, in \u001b[0;36m_AxesBase._update_line_limits\u001b[0;34m(self, line)\u001b[0m\n\u001b[1;32m   2307\u001b[0m \u001b[38;5;28;01mdef\u001b[39;00m \u001b[38;5;21m_update_line_limits\u001b[39m(\u001b[38;5;28mself\u001b[39m, line):\n\u001b[1;32m   2308\u001b[0m     \u001b[38;5;124;03m\"\"\"\u001b[39;00m\n\u001b[1;32m   2309\u001b[0m \u001b[38;5;124;03m    Figures out the data limit of the given line, updating self.dataLim.\u001b[39;00m\n\u001b[1;32m   2310\u001b[0m \u001b[38;5;124;03m    \"\"\"\u001b[39;00m\n\u001b[0;32m-> 2311\u001b[0m     path \u001b[38;5;241m=\u001b[39m \u001b[43mline\u001b[49m\u001b[38;5;241;43m.\u001b[39;49m\u001b[43mget_path\u001b[49m\u001b[43m(\u001b[49m\u001b[43m)\u001b[49m\n\u001b[1;32m   2312\u001b[0m     \u001b[38;5;28;01mif\u001b[39;00m path\u001b[38;5;241m.\u001b[39mvertices\u001b[38;5;241m.\u001b[39msize \u001b[38;5;241m==\u001b[39m \u001b[38;5;241m0\u001b[39m:\n\u001b[1;32m   2313\u001b[0m         \u001b[38;5;28;01mreturn\u001b[39;00m\n",
      "File \u001b[0;32m/opt/homebrew/anaconda3/envs/ml/lib/python3.9/site-packages/matplotlib/lines.py:999\u001b[0m, in \u001b[0;36mLine2D.get_path\u001b[0;34m(self)\u001b[0m\n\u001b[1;32m    997\u001b[0m \u001b[38;5;124;03m\"\"\"Return the `~matplotlib.path.Path` associated with this line.\"\"\"\u001b[39;00m\n\u001b[1;32m    998\u001b[0m \u001b[38;5;28;01mif\u001b[39;00m \u001b[38;5;28mself\u001b[39m\u001b[38;5;241m.\u001b[39m_invalidy \u001b[38;5;129;01mor\u001b[39;00m \u001b[38;5;28mself\u001b[39m\u001b[38;5;241m.\u001b[39m_invalidx:\n\u001b[0;32m--> 999\u001b[0m     \u001b[38;5;28;43mself\u001b[39;49m\u001b[38;5;241;43m.\u001b[39;49m\u001b[43mrecache\u001b[49m\u001b[43m(\u001b[49m\u001b[43m)\u001b[49m\n\u001b[1;32m   1000\u001b[0m \u001b[38;5;28;01mreturn\u001b[39;00m \u001b[38;5;28mself\u001b[39m\u001b[38;5;241m.\u001b[39m_path\n",
      "File \u001b[0;32m/opt/homebrew/anaconda3/envs/ml/lib/python3.9/site-packages/matplotlib/lines.py:657\u001b[0m, in \u001b[0;36mLine2D.recache\u001b[0;34m(self, always)\u001b[0m\n\u001b[1;32m    655\u001b[0m \u001b[38;5;28;01mif\u001b[39;00m always \u001b[38;5;129;01mor\u001b[39;00m \u001b[38;5;28mself\u001b[39m\u001b[38;5;241m.\u001b[39m_invalidy:\n\u001b[1;32m    656\u001b[0m     yconv \u001b[38;5;241m=\u001b[39m \u001b[38;5;28mself\u001b[39m\u001b[38;5;241m.\u001b[39mconvert_yunits(\u001b[38;5;28mself\u001b[39m\u001b[38;5;241m.\u001b[39m_yorig)\n\u001b[0;32m--> 657\u001b[0m     y \u001b[38;5;241m=\u001b[39m \u001b[43m_to_unmasked_float_array\u001b[49m\u001b[43m(\u001b[49m\u001b[43myconv\u001b[49m\u001b[43m)\u001b[49m\u001b[38;5;241m.\u001b[39mravel()\n\u001b[1;32m    658\u001b[0m \u001b[38;5;28;01melse\u001b[39;00m:\n\u001b[1;32m    659\u001b[0m     y \u001b[38;5;241m=\u001b[39m \u001b[38;5;28mself\u001b[39m\u001b[38;5;241m.\u001b[39m_y\n",
      "File \u001b[0;32m/opt/homebrew/anaconda3/envs/ml/lib/python3.9/site-packages/matplotlib/cbook/__init__.py:1298\u001b[0m, in \u001b[0;36m_to_unmasked_float_array\u001b[0;34m(x)\u001b[0m\n\u001b[1;32m   1296\u001b[0m     \u001b[38;5;28;01mreturn\u001b[39;00m np\u001b[38;5;241m.\u001b[39mma\u001b[38;5;241m.\u001b[39masarray(x, \u001b[38;5;28mfloat\u001b[39m)\u001b[38;5;241m.\u001b[39mfilled(np\u001b[38;5;241m.\u001b[39mnan)\n\u001b[1;32m   1297\u001b[0m \u001b[38;5;28;01melse\u001b[39;00m:\n\u001b[0;32m-> 1298\u001b[0m     \u001b[38;5;28;01mreturn\u001b[39;00m \u001b[43mnp\u001b[49m\u001b[38;5;241;43m.\u001b[39;49m\u001b[43masarray\u001b[49m\u001b[43m(\u001b[49m\u001b[43mx\u001b[49m\u001b[43m,\u001b[49m\u001b[43m \u001b[49m\u001b[38;5;28;43mfloat\u001b[39;49m\u001b[43m)\u001b[49m\n",
      "\u001b[0;31mValueError\u001b[0m: setting an array element with a sequence."
     ]
    },
    {
     "data": {
      "image/png": "[encoded data removed]",
      "text/plain": [
       "<Figure size 432x288 with 1 Axes>"
      ]
     },
     "metadata": {
      "needs_background": "light"
     },
     "output_type": "display_data"
    }
   ],
   "source": [
    "plt.plot(epsilons)\n",
    "plt.show()\n",
    "plotter.plot_threshold(errors.e_s, np.median(epsilons))\n",
    "plt.show()\n",
    "plotter.plot_predictions()"
   ]
  },
  {
   "cell_type": "code",
   "execution_count": null,
   "metadata": {
    "ExecuteTime": {
     "end_time": "2024-03-16T14:32:31.774134Z",
     "start_time": "2024-03-16T14:32:31.668367Z"
    },
    "collapsed": false
   },
   "outputs": [
    {
     "data": {
      "text/plain": [
       "[<matplotlib.lines.Line2D at 0x39b7305e0>]"
      ]
     },
     "execution_count": 61,
     "metadata": {},
     "output_type": "execute_result"
    },
    {
     "data": {
      "image/png": "[encoded data removed]",
      "text/plain": [
       "<Figure size 432x288 with 1 Axes>"
      ]
     },
     "metadata": {
      "needs_background": "light"
     },
     "output_type": "display_data"
    }
   ],
   "source": [
    "for (start, end), thr in epsilons:\n",
    "    plt.plot([_ for _ in range(start, end)], [thr for _ in range(start, end)])\n",
    "plt.plot(errors.e_s)"
   ]
  },
  {
   "cell_type": "code",
   "execution_count": null,
   "metadata": {
    "ExecuteTime": {
     "start_time": "2024-03-16T14:31:18.568833Z"
    }
   },
   "outputs": [],
   "source": [
    "plotter.plot_custom_range_predictions(4650, 4800)"
   ]
  },
  {
   "cell_type": "code",
   "execution_count": null,
   "metadata": {
    "ExecuteTime": {
     "end_time": "2024-03-16T14:35:02.472537Z",
     "start_time": "2024-03-16T14:35:02.376797Z"
    },
    "collapsed": false
   },
   "outputs": [
    {
     "data": {
      "image/png": "[encoded data removed]",
      "text/plain": [
       "<Figure size 1440x720 with 1 Axes>"
      ]
     },
     "metadata": {
      "needs_background": "light"
     },
     "output_type": "display_data"
    }
   ],
   "source": [
    "plotter.plot_threshold(errors.e_s, epsilons[1][1])"
   ]
  },
  {
   "cell_type": "code",
   "execution_count": null,
   "metadata": {
    "ExecuteTime": {
     "end_time": "2024-03-16T14:42:53.051402Z",
     "start_time": "2024-03-16T14:42:53.047474Z"
    },
    "collapsed": false
   },
   "outputs": [],
   "source": [
    "import numpy as np\n",
    "import pandas as pd\n",
    "import more_itertools as mit\n",
    "\n",
    "class Errors:\n",
    "    def __init__(self, channel):\n",
    "        \"\"\"\n",
    "        Batch processing of errors between actual and predicted values\n",
    "        for a channel.\n",
    "\n",
    "        Args:\n",
    "            channel (obj): Channel class object containing train/test data\n",
    "                for X,y for a single channel\n",
    "            config (obj): Config object containing parameters for processing\n",
    "            run_id (str): Datetime referencing set of predictions in use\n",
    "\n",
    "        Attributes:\n",
    "            config (obj): see Args\n",
    "            window_size (int): number of trailing batches to use in error\n",
    "                calculation\n",
    "            n_windows (int): number of windows in test values for channel\n",
    "            i_anom (arr): indices of anomalies in channel test values\n",
    "            E_seq (arr of tuples): array of (start, end) indices for each\n",
    "                continuous anomaly sequence in test values\n",
    "            anom_scores (arr): score indicating relative severity of each\n",
    "                anomaly sequence in E_seq\n",
    "            e (arr): errors in prediction (predicted - actual)\n",
    "            e_s (arr): exponentially-smoothed errors in prediction\n",
    "            normalized (arr): prediction errors as a percentage of the range\n",
    "                of the channel values\n",
    "                \n",
    "        \"\"\"\n",
    "        self.window_size = 30\n",
    "        self.batch_size = 70\n",
    "        self.smoothing_perc = 0.05\n",
    "        self.l_s = 250\n",
    "\n",
    "        self.window_size = self.window_size\n",
    "        self.n_windows = int((channel.y_test.shape[0] -\n",
    "                              (self.batch_size * self.window_size))\n",
    "                             / self.batch_size)\n",
    "        self.i_anom = np.array([])\n",
    "        self.E_seq = []\n",
    "        self.anom_scores = []\n",
    "\n",
    "        # raw prediction error\n",
    "        self.e = [abs(y_h-y_t[0]) for y_h, y_t in\n",
    "                  zip(channel.y_hat, channel.y_test)]\n",
    "\n",
    "        smoothing_window = int(self.batch_size * self.window_size\n",
    "                               * self.smoothing_perc)\n",
    "        if not len(channel.y_hat) == len(channel.y_test):\n",
    "            raise ValueError('len(y_hat) != len(y_test): {}, {}'\n",
    "                             .format(len(channel.y_hat), len(channel.y_test)))\n",
    "\n",
    "        # smoothed prediction error\n",
    "        self.e_s = pd.DataFrame(self.e).ewm(span=smoothing_window)\\\n",
    "            .mean().values.flatten()\n",
    "\n",
    "        # for values at beginning < sequence length, just use avg\n",
    "        if not channel.id == 'C-2':  # anomaly occurs early in window\n",
    "            self.e_s[:self.l_s] = \\\n",
    "                [np.mean(self.e_s[:self.l_s * 2])] * self.l_s\n",
    "\n",
    "\n",
    "        self.normalized = np.mean(self.e / np.ptp(channel.y_test))\n",
    "\n",
    "    def adjust_window_size(self, channel):\n",
    "        \"\"\"\n",
    "        Decrease the historical error window size (h) if number of test\n",
    "        values is limited.\n",
    "\n",
    "        Args:\n",
    "            channel (obj): Channel class object containing train/test data\n",
    "                for X,y for a single channel\n",
    "        \"\"\"\n",
    "\n",
    "        while self.n_windows < 0:\n",
    "            self.window_size -= 1\n",
    "            self.n_windows = int((channel.y_test.shape[0]\n",
    "                                 - (self.batch_size * self.window_size))\n",
    "                                 / self.batch_size)\n",
    "            if self.window_size == 1 and self.n_windows < 0:\n",
    "                raise ValueError('Batch_size ({}) larger than y_test (len={}). '\n",
    "                                 'Adjust in config.yaml.'\n",
    "                                 .format(self.batch_size,\n",
    "                                         channel.y_test.shape[0]))\n",
    "\n",
    "    def merge_scores(self):\n",
    "        \"\"\"\n",
    "        If anomalous sequences from subsequent batches are adjacent they\n",
    "        will automatically be combined. This combines the scores for these\n",
    "        initial adjacent sequences (scores are calculated as each batch is\n",
    "        processed) where applicable.\n",
    "        \"\"\"\n",
    "\n",
    "        merged_scores = []\n",
    "        score_end_indices = []\n",
    "\n",
    "        for i, score in enumerate(self.anom_scores):\n",
    "            if not score['start_idx']-1 in score_end_indices:\n",
    "                merged_scores.append(score['score'])\n",
    "                score_end_indices.append(score['end_idx'])\n",
    "\n",
    "    def process_batches(self, channel):\n",
    "        \"\"\"\n",
    "        Top-level function for the Error class that loops through batches\n",
    "        of values for a channel.\n",
    "\n",
    "        Args:\n",
    "            channel (obj): Channel class object containing train/test data\n",
    "                for X,y for a single channel\n",
    "        \"\"\"\n",
    "\n",
    "        self.adjust_window_size(channel)\n",
    "\n",
    "        for i in range(0, self.n_windows+1):\n",
    "            prior_idx = i * self.batch_size\n",
    "            idx = (self.window_size * self.batch_size) \\\n",
    "                  + (i * self.batch_size)\n",
    "            if i == self.n_windows:\n",
    "                idx = channel.y_test.shape[0]\n",
    "\n",
    "            window = ErrorWindow(channel, prior_idx, idx, self, i)\n",
    "\n",
    "            window.find_epsilon()\n",
    "            window.find_epsilon(inverse=True)\n",
    "\n",
    "            window.compare_to_epsilon(self)\n",
    "            window.compare_to_epsilon(self, inverse=True)\n",
    "\n",
    "            if len(window.i_anom) == 0 and len(window.i_anom_inv) == 0:\n",
    "                continue\n",
    "\n",
    "            window.prune_anoms()\n",
    "            window.prune_anoms(inverse=True)\n",
    "\n",
    "            if len(window.i_anom) == 0 and len(window.i_anom_inv) == 0:\n",
    "                continue\n",
    "\n",
    "            window.i_anom = np.sort(np.unique(\n",
    "                np.append(window.i_anom, window.i_anom_inv))).astype('int')\n",
    "            window.score_anomalies(prior_idx)\n",
    "\n",
    "            # update indices to reflect true indices in full set of values\n",
    "            self.i_anom = np.append(self.i_anom, window.i_anom + prior_idx)\n",
    "            self.anom_scores = self.anom_scores + window.anom_scores\n",
    "\n",
    "        if len(self.i_anom) > 0:\n",
    "            # group anomalous indices into continuous sequences\n",
    "            groups = [list(group) for group in\n",
    "                      mit.consecutive_groups(self.i_anom)]\n",
    "            self.E_seq = [(int(g[0]), int(g[-1])) for g in groups\n",
    "                          if not g[0] == g[-1]]\n",
    "\n",
    "            # additional shift is applied to indices so that they represent the\n",
    "            # position in the original data array, obtained from the .npy files,\n",
    "            # and not the position on y_test (See PR #27).\n",
    "            self.E_seq = [(e_seq[0] + self.l_s,\n",
    "                           e_seq[1] + self.l_s) for e_seq in self.E_seq]\n",
    "\n",
    "            self.merge_scores()\n",
    "\n",
    "\n",
    "class ErrorWindow:\n",
    "    def __init__(self, channel, start_idx, end_idx, errors, window_num):\n",
    "        \"\"\"\n",
    "        Data and calculations for a specific window of prediction errors.\n",
    "        Includes finding thresholds, pruning, and scoring anomalous sequences\n",
    "        for errors and inverted errors (flipped around mean) - significant drops\n",
    "        in values can also be anomalous.\n",
    "\n",
    "        Args:\n",
    "            channel (obj): Channel class object containing train/test data\n",
    "                for X,y for a single channel\n",
    "            config (obj): Config object containing parameters for processing\n",
    "            start_idx (int): Starting index for window within full set of\n",
    "                channel test values\n",
    "            end_idx (int): Ending index for window within full set of channel\n",
    "                test values\n",
    "            errors (arr): Errors class object\n",
    "            window_num (int): Current window number within channel test values\n",
    "\n",
    "        Attributes:\n",
    "            i_anom (arr): indices of anomalies in window\n",
    "            i_anom_inv (arr): indices of anomalies in window of inverted\n",
    "                telemetry values\n",
    "            E_seq (arr of tuples): array of (start, end) indices for each\n",
    "                continuous anomaly sequence in window\n",
    "            E_seq_inv (arr of tuples): array of (start, end) indices for each\n",
    "                continuous anomaly sequence in window of inverted telemetry\n",
    "                values\n",
    "            non_anom_max (float): highest smoothed error value below epsilon\n",
    "            non_anom_max_inv (float): highest smoothed error value below\n",
    "                epsilon_inv\n",
    "            config (obj): see Args\n",
    "            anom_scores (arr): score indicating relative severity of each\n",
    "                anomaly sequence in E_seq within a window\n",
    "            window_num (int): see Args\n",
    "            sd_lim (int): default number of standard deviations to use for\n",
    "                threshold if no winner or too many anomalous ranges when scoring\n",
    "                candidate thresholds\n",
    "            sd_threshold (float): number of standard deviations for calculation\n",
    "                of best anomaly threshold\n",
    "            sd_threshold_inv (float): same as above for inverted channel values\n",
    "            e_s (arr): exponentially-smoothed prediction errors in window\n",
    "            e_s_inv (arr): inverted e_s\n",
    "            sd_e_s (float): standard deviation of e_s\n",
    "            mean_e_s (float): mean of e_s\n",
    "            epsilon (float): threshold for e_s above which an error is\n",
    "                considered anomalous\n",
    "            epsilon_inv (float): threshold for inverted e_s above which an error\n",
    "                is considered anomalous\n",
    "            y_test (arr): Actual telemetry values for window\n",
    "            sd_values (float): st dev of y_test\n",
    "            perc_high (float): the 95th percentile of y_test values\n",
    "            perc_low (float): the 5th percentile of y_test values\n",
    "            inter_range (float): the range between perc_high - perc_low\n",
    "            num_to_ignore (int): number of values to ignore initially when\n",
    "                looking for anomalies\n",
    "        \"\"\"\n",
    "\n",
    "        self.i_anom = np.array([])\n",
    "        self.E_seq = np.array([])\n",
    "        self.non_anom_max = -1000000\n",
    "        self.i_anom_inv = np.array([])\n",
    "        self.E_seq_inv = np.array([])\n",
    "        self.non_anom_max_inv = -1000000\n",
    "\n",
    "        self.anom_scores = []\n",
    "\n",
    "        self.window_num = window_num\n",
    "\n",
    "        self.sd_lim = 12.0\n",
    "        self.error_buffer = 100\n",
    "        self.batch_size = 70\n",
    "        self.p = 0.13\n",
    "        self.sd_threshold = self.sd_lim\n",
    "        self.sd_threshold_inv = self.sd_lim\n",
    "\n",
    "        self.e_s = errors.e_s[start_idx:end_idx]\n",
    "\n",
    "        self.mean_e_s = np.mean(self.e_s)\n",
    "        self.sd_e_s = np.std(self.e_s)\n",
    "        self.e_s_inv = np.array([self.mean_e_s + (self.mean_e_s - e)\n",
    "                                 for e in self.e_s])\n",
    "\n",
    "        self.epsilon = self.mean_e_s + self.sd_lim * self.sd_e_s\n",
    "        self.epsilon_inv = self.mean_e_s + self.sd_lim * self.sd_e_s\n",
    "\n",
    "        self.y_test = channel.y_test[start_idx:end_idx]\n",
    "        self.sd_values = np.std(self.y_test)\n",
    "\n",
    "        self.perc_high, self.perc_low = np.percentile(self.y_test, [95, 5])\n",
    "        self.inter_range = self.perc_high - self.perc_low\n",
    "\n",
    "        # ignore initial error values until enough history for processing\n",
    "        self.l_s = 250\n",
    "        self.num_to_ignore = self.l_s * 2\n",
    "        # if y_test is small, ignore fewer\n",
    "        if len(channel.y_test) < 2500:\n",
    "            self.num_to_ignore = self.l_s\n",
    "        if len(channel.y_test) < 1800:\n",
    "            self.num_to_ignore = 0\n",
    "\n",
    "    def find_epsilon(self, inverse=False):\n",
    "        \"\"\"\n",
    "        Find the anomaly threshold that maximizes function representing\n",
    "        tradeoff between:\n",
    "            a) number of anomalies and anomalous ranges\n",
    "            b) the reduction in mean and st dev if anomalous points are removed\n",
    "            from errors\n",
    "        (see https://arxiv.org/pdf/1802.04431.pdf)\n",
    "\n",
    "        Args:\n",
    "            inverse (bool): If true, epsilon is calculated for inverted errors\n",
    "        \"\"\"\n",
    "        e_s = self.e_s if not inverse else self.e_s_inv\n",
    "\n",
    "        max_score = -10000000\n",
    "\n",
    "        for z in np.arange(2.5, self.sd_lim, 0.5):\n",
    "            epsilon = self.mean_e_s + (self.sd_e_s * z)\n",
    "\n",
    "            pruned_e_s = e_s[e_s < epsilon]\n",
    "\n",
    "            i_anom = np.argwhere(e_s >= epsilon).reshape(-1,)\n",
    "            buffer = np.arange(1, self.error_buffer)\n",
    "            i_anom = np.sort(np.concatenate((i_anom,\n",
    "                                            np.array([i+buffer for i in i_anom])\n",
    "                                             .flatten(),\n",
    "                                            np.array([i-buffer for i in i_anom])\n",
    "                                             .flatten())))\n",
    "            i_anom = i_anom[(i_anom < len(e_s)) & (i_anom >= 0)]\n",
    "            i_anom = np.sort(np.unique(i_anom))\n",
    "\n",
    "            if len(i_anom) > 0:\n",
    "                # group anomalous indices into continuous sequences\n",
    "                groups = [list(group) for group\n",
    "                          in mit.consecutive_groups(i_anom)]\n",
    "                E_seq = [(g[0], g[-1]) for g in groups if not g[0] == g[-1]]\n",
    "\n",
    "                mean_perc_decrease = (self.mean_e_s - np.mean(pruned_e_s)) \\\n",
    "                                     / self.mean_e_s\n",
    "                sd_perc_decrease = (self.sd_e_s - np.std(pruned_e_s)) \\\n",
    "                                   / self.sd_e_s\n",
    "                score = (mean_perc_decrease + sd_perc_decrease) \\\n",
    "                        / (len(E_seq) ** 2 + len(i_anom))\n",
    "\n",
    "                # sanity checks / guardrails\n",
    "                if score >= max_score and len(E_seq) <= 5 and \\\n",
    "                        len(i_anom) < (len(e_s) * 0.5):\n",
    "                    max_score = score\n",
    "                    if not inverse:\n",
    "                        self.sd_threshold = z\n",
    "                        self.epsilon = self.mean_e_s + z * self.sd_e_s\n",
    "                    else:\n",
    "                        self.sd_threshold_inv = z\n",
    "                        self.epsilon_inv = self.mean_e_s + z * self.sd_e_s\n",
    "\n",
    "    def compare_to_epsilon(self, errors_all, inverse=False):\n",
    "        \"\"\"\n",
    "        Compare smoothed error values to epsilon (error threshold) and group\n",
    "        consecutive errors together into sequences.\n",
    "\n",
    "        Args:\n",
    "            errors_all (obj): Errors class object containing list of all\n",
    "            previously identified anomalies in test set\n",
    "        \"\"\"\n",
    "\n",
    "        e_s = self.e_s if not inverse else self.e_s_inv\n",
    "        epsilon = self.epsilon if not inverse else self.epsilon_inv\n",
    "\n",
    "        # Check: scale of errors compared to values too small?\n",
    "        if not (self.sd_e_s > (.05 * self.sd_values) or max(self.e_s)\n",
    "                > (.05 * self.inter_range)) or not max(self.e_s) > 0.05:\n",
    "            return\n",
    "\n",
    "        i_anom = np.argwhere((e_s >= epsilon) &\n",
    "                             (e_s > 0.05 * self.inter_range)).reshape(-1,)\n",
    "\n",
    "        if len(i_anom) == 0:\n",
    "            return\n",
    "        buffer = np.arange(1, self.error_buffer+1)\n",
    "        i_anom = np.sort(np.concatenate((i_anom,\n",
    "                                         np.array([i + buffer for i in i_anom])\n",
    "                                         .flatten(),\n",
    "                                         np.array([i - buffer for i in i_anom])\n",
    "                                         .flatten())))\n",
    "        i_anom = i_anom[(i_anom < len(e_s)) & (i_anom >= 0)]\n",
    "\n",
    "        # if it is first window, ignore initial errors (need some history)\n",
    "        if self.window_num == 0:\n",
    "            i_anom = i_anom[i_anom >= self.num_to_ignore]\n",
    "        else:\n",
    "            i_anom = i_anom[i_anom >= len(e_s) - self.batch_size]\n",
    "\n",
    "        i_anom = np.sort(np.unique(i_anom))\n",
    "\n",
    "        # capture max of non-anomalous values below the threshold\n",
    "        # (used in filtering process)\n",
    "        batch_position = self.window_num * self.batch_size\n",
    "        window_indices = np.arange(0, len(e_s)) + batch_position\n",
    "        adj_i_anom = i_anom + batch_position\n",
    "        window_indices = np.setdiff1d(window_indices,\n",
    "                                      np.append(errors_all.i_anom, adj_i_anom))\n",
    "        candidate_indices = np.unique(window_indices - batch_position)\n",
    "        non_anom_max = np.max(np.take(e_s, candidate_indices))\n",
    "\n",
    "        # group anomalous indices into continuous sequences\n",
    "        groups = [list(group) for group in mit.consecutive_groups(i_anom)]\n",
    "        E_seq = [(g[0], g[-1]) for g in groups if not g[0] == g[-1]]\n",
    "\n",
    "        if inverse:\n",
    "            self.i_anom_inv = i_anom\n",
    "            self.E_seq_inv = E_seq\n",
    "            self.non_anom_max_inv = non_anom_max\n",
    "        else:\n",
    "            self.i_anom = i_anom\n",
    "            self.E_seq = E_seq\n",
    "            self.non_anom_max = non_anom_max\n",
    "\n",
    "    def prune_anoms(self, inverse=False):\n",
    "        \"\"\"\n",
    "        Remove anomalies that don't meet minimum separation from the next\n",
    "        closest anomaly or error value\n",
    "\n",
    "        Args:\n",
    "            inverse (bool): If true, epsilon is calculated for inverted errors\n",
    "        \"\"\"\n",
    "\n",
    "        E_seq = self.E_seq if not inverse else self.E_seq_inv\n",
    "        e_s = self.e_s if not inverse else self.e_s_inv\n",
    "        non_anom_max = self.non_anom_max if not inverse \\\n",
    "            else self.non_anom_max_inv\n",
    "\n",
    "        if len(E_seq) == 0:\n",
    "            return\n",
    "\n",
    "        E_seq_max = np.array([max(e_s[e[0]:e[1]+1]) for e in E_seq])\n",
    "        E_seq_max_sorted = np.sort(E_seq_max)[::-1]\n",
    "        E_seq_max_sorted = np.append(E_seq_max_sorted, [non_anom_max])\n",
    "\n",
    "        i_to_remove = np.array([])\n",
    "        for i in range(0, len(E_seq_max_sorted)-1):\n",
    "            if (E_seq_max_sorted[i] - E_seq_max_sorted[i+1]) \\\n",
    "                    / E_seq_max_sorted[i] < self.p:\n",
    "                i_to_remove = np.append(i_to_remove, np.argwhere(\n",
    "                    E_seq_max == E_seq_max_sorted[i]))\n",
    "            else:\n",
    "                i_to_remove = np.array([])\n",
    "        i_to_remove[::-1].sort()\n",
    "\n",
    "        if len(i_to_remove) > 0:\n",
    "            E_seq = np.delete(E_seq, i_to_remove, axis=0)\n",
    "\n",
    "        if len(E_seq) == 0 and inverse:\n",
    "            self.i_anom_inv = np.array([])\n",
    "            return\n",
    "        elif len(E_seq) == 0 and not inverse:\n",
    "            self.i_anom = np.array([])\n",
    "            return\n",
    "\n",
    "        indices_to_keep = np.concatenate([range(e_seq[0], e_seq[-1]+1)\n",
    "                                          for e_seq in E_seq])\n",
    "\n",
    "        if not inverse:\n",
    "            mask = np.isin(self.i_anom, indices_to_keep)\n",
    "            self.i_anom = self.i_anom[mask]\n",
    "        else:\n",
    "            mask_inv = np.isin(self.i_anom_inv, indices_to_keep)\n",
    "            self.i_anom_inv = self.i_anom_inv[mask_inv]\n",
    "\n",
    "    def score_anomalies(self, prior_idx):\n",
    "        \"\"\"\n",
    "        Calculate anomaly scores based on max distance from epsilon\n",
    "        for each anomalous sequence.\n",
    "\n",
    "        Args:\n",
    "            prior_idx (int): starting index of window within full set of test\n",
    "                values for channel\n",
    "        \"\"\"\n",
    "\n",
    "        groups = [list(group) for group in mit.consecutive_groups(self.i_anom)]\n",
    "\n",
    "        for e_seq in groups:\n",
    "\n",
    "            score_dict = {\n",
    "                \"start_idx\": e_seq[0] + prior_idx,\n",
    "                \"end_idx\": e_seq[-1] + prior_idx,\n",
    "                \"score\": 0\n",
    "            }\n",
    "\n",
    "            score = max([abs(self.e_s[i] - self.epsilon)\n",
    "                         / (self.mean_e_s + self.sd_e_s) for i in\n",
    "                         range(e_seq[0], e_seq[-1] + 1)])\n",
    "            inv_score = max([abs(self.e_s_inv[i] - self.epsilon_inv)\n",
    "                             / (self.mean_e_s + self.sd_e_s) for i in\n",
    "                             range(e_seq[0], e_seq[-1] + 1)])\n",
    "\n",
    "            # the max score indicates whether anomaly was from regular\n",
    "            # or inverted errors\n",
    "            score_dict['score'] = max([score, inv_score])\n",
    "            self.anom_scores.append(score_dict)"
   ]
  },
  {
   "cell_type": "code",
   "execution_count": null,
   "metadata": {
    "ExecuteTime": {
     "end_time": "2024-03-16T14:42:54.308567Z",
     "start_time": "2024-03-16T14:42:54.300457Z"
    },
    "collapsed": false
   },
   "outputs": [],
   "source": [
    "error = Errors(new_channel)"
   ]
  },
  {
   "cell_type": "code",
   "execution_count": null,
   "metadata": {
    "ExecuteTime": {
     "end_time": "2024-03-16T14:42:56.367986Z",
     "start_time": "2024-03-16T14:42:55.241312Z"
    },
    "collapsed": false
   },
   "outputs": [
    {
     "name": "stderr",
     "output_type": "stream",
     "text": [
      "/opt/homebrew/anaconda3/envs/ml/lib/python3.9/site-packages/numpy/core/fromnumeric.py:3440: RuntimeWarning: Mean of empty slice.\n",
      "  return _methods._mean(a, axis=axis, dtype=dtype,\n",
      "/opt/homebrew/anaconda3/envs/ml/lib/python3.9/site-packages/numpy/core/_methods.py:189: RuntimeWarning: invalid value encountered in double_scalars\n",
      "  ret = ret.dtype.type(ret / rcount)\n",
      "/opt/homebrew/anaconda3/envs/ml/lib/python3.9/site-packages/numpy/core/_methods.py:262: RuntimeWarning: Degrees of freedom <= 0 for slice\n",
      "  ret = _var(a, axis=axis, dtype=dtype, out=out, ddof=ddof,\n",
      "/opt/homebrew/anaconda3/envs/ml/lib/python3.9/site-packages/numpy/core/_methods.py:222: RuntimeWarning: invalid value encountered in true_divide\n",
      "  arrmean = um.true_divide(arrmean, div, out=arrmean, casting='unsafe',\n",
      "/opt/homebrew/anaconda3/envs/ml/lib/python3.9/site-packages/numpy/core/_methods.py:254: RuntimeWarning: invalid value encountered in double_scalars\n",
      "  ret = ret.dtype.type(ret / rcount)\n"
     ]
    },
    {
     "ename": "IndexError",
     "evalue": "arrays used as indices must be of integer (or boolean) type",
     "output_type": "error",
     "traceback": [
      "\u001b[0;31m---------------------------------------------------------------------------\u001b[0m",
      "\u001b[0;31mIndexError\u001b[0m                                Traceback (most recent call last)",
      "Input \u001b[0;32mIn [82]\u001b[0m, in \u001b[0;36m<cell line: 1>\u001b[0;34m()\u001b[0m\n\u001b[0;32m----> 1\u001b[0m \u001b[43merror\u001b[49m\u001b[38;5;241;43m.\u001b[39;49m\u001b[43mprocess_batches\u001b[49m\u001b[43m(\u001b[49m\u001b[43mnew_channel\u001b[49m\u001b[43m)\u001b[49m\n",
      "Input \u001b[0;32mIn [80]\u001b[0m, in \u001b[0;36mErrors.process_batches\u001b[0;34m(self, channel)\u001b[0m\n\u001b[1;32m    132\u001b[0m \u001b[38;5;28;01mif\u001b[39;00m \u001b[38;5;28mlen\u001b[39m(window\u001b[38;5;241m.\u001b[39mi_anom) \u001b[38;5;241m==\u001b[39m \u001b[38;5;241m0\u001b[39m \u001b[38;5;129;01mand\u001b[39;00m \u001b[38;5;28mlen\u001b[39m(window\u001b[38;5;241m.\u001b[39mi_anom_inv) \u001b[38;5;241m==\u001b[39m \u001b[38;5;241m0\u001b[39m:\n\u001b[1;32m    133\u001b[0m     \u001b[38;5;28;01mcontinue\u001b[39;00m\n\u001b[0;32m--> 135\u001b[0m \u001b[43mwindow\u001b[49m\u001b[38;5;241;43m.\u001b[39;49m\u001b[43mprune_anoms\u001b[49m\u001b[43m(\u001b[49m\u001b[43m)\u001b[49m\n\u001b[1;32m    136\u001b[0m window\u001b[38;5;241m.\u001b[39mprune_anoms(inverse\u001b[38;5;241m=\u001b[39m\u001b[38;5;28;01mTrue\u001b[39;00m)\n\u001b[1;32m    138\u001b[0m \u001b[38;5;28;01mif\u001b[39;00m \u001b[38;5;28mlen\u001b[39m(window\u001b[38;5;241m.\u001b[39mi_anom) \u001b[38;5;241m==\u001b[39m \u001b[38;5;241m0\u001b[39m \u001b[38;5;129;01mand\u001b[39;00m \u001b[38;5;28mlen\u001b[39m(window\u001b[38;5;241m.\u001b[39mi_anom_inv) \u001b[38;5;241m==\u001b[39m \u001b[38;5;241m0\u001b[39m:\n",
      "Input \u001b[0;32mIn [80]\u001b[0m, in \u001b[0;36mErrorWindow.prune_anoms\u001b[0;34m(self, inverse)\u001b[0m\n\u001b[1;32m    412\u001b[0m i_to_remove[::\u001b[38;5;241m-\u001b[39m\u001b[38;5;241m1\u001b[39m]\u001b[38;5;241m.\u001b[39msort()\n\u001b[1;32m    414\u001b[0m \u001b[38;5;28;01mif\u001b[39;00m \u001b[38;5;28mlen\u001b[39m(i_to_remove) \u001b[38;5;241m>\u001b[39m \u001b[38;5;241m0\u001b[39m:\n\u001b[0;32m--> 415\u001b[0m     E_seq \u001b[38;5;241m=\u001b[39m \u001b[43mnp\u001b[49m\u001b[38;5;241;43m.\u001b[39;49m\u001b[43mdelete\u001b[49m\u001b[43m(\u001b[49m\u001b[43mE_seq\u001b[49m\u001b[43m,\u001b[49m\u001b[43m \u001b[49m\u001b[43mi_to_remove\u001b[49m\u001b[43m,\u001b[49m\u001b[43m \u001b[49m\u001b[43maxis\u001b[49m\u001b[38;5;241;43m=\u001b[39;49m\u001b[38;5;241;43m0\u001b[39;49m\u001b[43m)\u001b[49m\n\u001b[1;32m    417\u001b[0m \u001b[38;5;28;01mif\u001b[39;00m \u001b[38;5;28mlen\u001b[39m(E_seq) \u001b[38;5;241m==\u001b[39m \u001b[38;5;241m0\u001b[39m \u001b[38;5;129;01mand\u001b[39;00m inverse:\n\u001b[1;32m    418\u001b[0m     \u001b[38;5;28mself\u001b[39m\u001b[38;5;241m.\u001b[39mi_anom_inv \u001b[38;5;241m=\u001b[39m np\u001b[38;5;241m.\u001b[39marray([])\n",
      "File \u001b[0;32m<__array_function__ internals>:5\u001b[0m, in \u001b[0;36mdelete\u001b[0;34m(*args, **kwargs)\u001b[0m\n",
      "File \u001b[0;32m/opt/homebrew/anaconda3/envs/ml/lib/python3.9/site-packages/numpy/lib/function_base.py:4552\u001b[0m, in \u001b[0;36mdelete\u001b[0;34m(arr, obj, axis)\u001b[0m\n\u001b[1;32m   4550\u001b[0m \u001b[38;5;28;01melse\u001b[39;00m:\n\u001b[1;32m   4551\u001b[0m     keep \u001b[38;5;241m=\u001b[39m ones(N, dtype\u001b[38;5;241m=\u001b[39m\u001b[38;5;28mbool\u001b[39m)\n\u001b[0;32m-> 4552\u001b[0m     keep[obj,] \u001b[38;5;241m=\u001b[39m \u001b[38;5;28;01mFalse\u001b[39;00m\n\u001b[1;32m   4554\u001b[0m slobj[axis] \u001b[38;5;241m=\u001b[39m keep\n\u001b[1;32m   4555\u001b[0m new \u001b[38;5;241m=\u001b[39m arr[\u001b[38;5;28mtuple\u001b[39m(slobj)]\n",
      "\u001b[0;31mIndexError\u001b[0m: arrays used as indices must be of integer (or boolean) type"
     ]
    }
   ],
   "source": [
    "error.process_batches(new_channel)"
   ]
  },
  {
   "cell_type": "code",
   "execution_count": null,
   "metadata": {
    "collapsed": false
   },
   "outputs": [],
   "source": []
  }
 ],
 "metadata": {
  "kernelspec": {
   "display_name": "abm",
   "language": "python",
   "name": "python3"
  },
  "language_info": {
   "codemirror_mode": {
    "name": "ipython",
    "version": 3
   },
   "file_extension": ".py",
   "mimetype": "text/x-python",
   "name": "python",
   "nbconvert_exporter": "python",
   "pygments_lexer": "ipython3",
   "version": "3.12.2"
  }
 },
 "nbformat": 4,
 "nbformat_minor": 2
}
