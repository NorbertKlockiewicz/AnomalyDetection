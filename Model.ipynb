{
 "cells": [
  {
   "cell_type": "markdown",
   "metadata": {},
   "source": [
    "## Anomaly Detection - Project\n",
    "### Authors: Norbert Klockiewicz, Kacper Majchrzak, Patryk Kożuch\n",
    "\n",
    "#### Based on: <a href=\"https://arxiv.org/pdf/1802.04431.pdf\">Detecting Spacecraft Anomalies Using LSTMs and Nonparametric Dynamic Thresholding</a>"
   ]
  },
  {
   "cell_type": "markdown",
   "metadata": {},
   "source": [
    "Imports"
   ]
  },
  {
   "cell_type": "code",
   "execution_count": 1,
   "metadata": {
    "ExecuteTime": {
     "end_time": "2024-03-16T14:29:56.647423Z",
     "start_time": "2024-03-16T14:29:56.618358Z"
    }
   },
   "outputs": [],
   "source": [
    "import numpy as np\n",
    "import os\n",
    "import matplotlib.pyplot as plt\n",
    "import pandas as pd\n",
    "import more_itertools as mit\n",
    "from keras.models import Sequential\n",
    "from keras.callbacks import History, EarlyStopping\n",
    "from keras.layers import Dense, Activation, Dropout, LSTM"
   ]
  },
  {
   "cell_type": "code",
   "execution_count": 2,
   "metadata": {
    "ExecuteTime": {
     "end_time": "2024-03-16T14:29:56.664809Z",
     "start_time": "2024-03-16T14:29:56.650375Z"
    }
   },
   "outputs": [],
   "source": [
    "CHANNEL = \"D-12\""
   ]
  },
  {
   "cell_type": "markdown",
   "metadata": {},
   "source": [
    "### Class channel - load and prepare data to train model"
   ]
  },
  {
   "cell_type": "code",
   "execution_count": 3,
   "metadata": {
    "ExecuteTime": {
     "end_time": "2024-03-16T14:29:56.666169Z",
     "start_time": "2024-03-16T14:29:56.657681Z"
    },
    "collapsed": false
   },
   "outputs": [],
   "source": [
    "class Channel:\n",
    "    def __init__(self, chan_id):\n",
    "        self.id = chan_id\n",
    "        self.train = None\n",
    "        self.test = None\n",
    "        self.l_s = 250\n",
    "        self.n_predictions = 10\n",
    "        self.X_train = None\n",
    "        self.y_train = None\n",
    "        self.X_test = None\n",
    "        self.y_test = None\n",
    "        self.y_hat = None\n",
    "\n",
    "    def shape_data(self, arr, training=True):\n",
    "        data = []\n",
    "        for i in range(len(arr) - self.l_s - self.n_predictions):\n",
    "            data.append(arr[i: i + self.l_s + self.n_predictions])\n",
    "            \n",
    "        data = np.array(data)\n",
    "\n",
    "        if training:\n",
    "            np.random.shuffle(data)\n",
    "            self.X_train = data[:, :-self.n_predictions, :]\n",
    "            self.y_train = data[:, -self.n_predictions:, 0]\n",
    "        else:\n",
    "            self.X_test = data[:, :-self.n_predictions, :]\n",
    "            self.y_test = data[:, -self.n_predictions:, 0]\n",
    "\n",
    "    def load_data(self):\n",
    "        try:\n",
    "            self.train = np.load(os.path.join(\"data\", \"train\", \"{}.npy\".format(self.id)))\n",
    "            self.test = np.load(os.path.join(\"data\", \"test\", \"{}.npy\".format(self.id)))\n",
    "        except FileNotFoundError as e:\n",
    "            print(e)\n",
    "\n",
    "        self.shape_data(self.train)\n",
    "        self.shape_data(self.test, training=False)"
   ]
  },
  {
   "cell_type": "code",
   "execution_count": 4,
   "metadata": {
    "ExecuteTime": {
     "end_time": "2024-03-16T14:29:56.783369Z",
     "start_time": "2024-03-16T14:29:56.663905Z"
    },
    "collapsed": false
   },
   "outputs": [],
   "source": [
    "new_channel = Channel(CHANNEL)\n",
    "new_channel.load_data()"
   ]
  },
  {
   "cell_type": "markdown",
   "metadata": {},
   "source": [
    "### Class Model - create and train recurrent neural network"
   ]
  },
  {
   "cell_type": "code",
   "execution_count": 5,
   "metadata": {
    "ExecuteTime": {
     "end_time": "2024-03-16T14:29:56.804057Z",
     "start_time": "2024-03-16T14:29:56.782811Z"
    }
   },
   "outputs": [],
   "source": [
    "class Model:\n",
    "    def __init__(self, channel):\n",
    "        self.chan_id = channel.id\n",
    "        self.y_hat = np.array([])\n",
    "        self.model = None\n",
    "        self.train_new(channel)\n",
    "        \n",
    "\n",
    "    def train_new(self, channel):\n",
    "        cbs = [History(), EarlyStopping(monitor='val_loss',\n",
    "                                        patience=10,\n",
    "                                        min_delta=0.0003,\n",
    "                                        verbose=0)]\n",
    "\n",
    "        self.model = Sequential()\n",
    "\n",
    "        self.model.add(LSTM(\n",
    "            80,\n",
    "            input_shape=(None, channel.X_train.shape[2]),\n",
    "            return_sequences=True))\n",
    "        self.model.add(Dropout(0.3))\n",
    "\n",
    "        self.model.add(LSTM(\n",
    "            80,\n",
    "            return_sequences=False))\n",
    "        self.model.add(Dropout(0.3))\n",
    "\n",
    "        self.model.add(Dense(\n",
    "            channel.n_predictions))\n",
    "        self.model.add(Activation('linear'))\n",
    "\n",
    "        self.model.compile(loss='mse',\n",
    "                           optimizer='adam')\n",
    "\n",
    "        self.model.fit(channel.X_train,\n",
    "                       channel.y_train,\n",
    "                       batch_size=64,\n",
    "                       epochs=35,\n",
    "                       validation_split=0.2,\n",
    "                       callbacks=cbs,\n",
    "                       verbose=True)\n",
    "        \n",
    "    def aggregate_predictions(self, y_hat_batch, method='first'):\n",
    "        agg_y_hat_batch = np.array([])\n",
    "\n",
    "        for t in range(len(y_hat_batch)):\n",
    "\n",
    "            start_idx = t - 10\n",
    "            start_idx = start_idx if start_idx >= 0 else 0\n",
    "\n",
    "            # predictions pertaining to a specific timestep lie along diagonal\n",
    "            y_hat_t = np.flipud(y_hat_batch[start_idx:t+1]).diagonal()\n",
    "\n",
    "            if method == 'first':\n",
    "                agg_y_hat_batch = np.append(agg_y_hat_batch, [y_hat_t[0]])\n",
    "            elif method == 'mean':\n",
    "                agg_y_hat_batch = np.append(agg_y_hat_batch, np.mean(y_hat_t))\n",
    "\n",
    "        agg_y_hat_batch = agg_y_hat_batch.reshape(len(agg_y_hat_batch), 1)\n",
    "        self.y_hat = np.append(self.y_hat, agg_y_hat_batch)\n",
    "              \n",
    "    def batch_predict(self, channel):\n",
    "        num_batches = int((channel.y_test.shape[0] - 250)\n",
    "                          / 70)\n",
    "\n",
    "        for i in range(0, num_batches + 1):\n",
    "            prior_idx = i * 70\n",
    "            idx = (i + 1) * 70\n",
    "\n",
    "            if i + 1 == num_batches + 1:\n",
    "                idx = channel.y_test.shape[0]\n",
    "\n",
    "            X_test_batch = channel.X_test[prior_idx:idx]\n",
    "            y_hat_batch = self.model.predict(X_test_batch)\n",
    "            self.aggregate_predictions(y_hat_batch)\n",
    "\n",
    "        self.y_hat = np.reshape(self.y_hat, (self.y_hat.size,))\n",
    "\n",
    "        channel.y_hat = self.y_hat\n",
    "\n",
    "        return channel\n"
   ]
  },
  {
   "cell_type": "code",
   "execution_count": 6,
   "metadata": {
    "ExecuteTime": {
     "end_time": "2024-03-16T14:30:39.483576Z",
     "start_time": "2024-03-16T14:29:56.795185Z"
    }
   },
   "outputs": [
    {
     "name": "stdout",
     "output_type": "stream",
     "text": [
      "Metal device set to: Apple M1\n",
      "\n",
      "systemMemory: 16.00 GB\n",
      "maxCacheSize: 5.33 GB\n",
      "\n"
     ]
    },
    {
     "name": "stderr",
     "output_type": "stream",
     "text": [
      "2024-03-25 11:47:01.991799: I tensorflow/core/common_runtime/pluggable_device/pluggable_device_factory.cc:305] Could not identify NUMA node of platform GPU ID 0, defaulting to 0. Your kernel may not have been built with NUMA support.\n",
      "2024-03-25 11:47:01.991948: I tensorflow/core/common_runtime/pluggable_device/pluggable_device_factory.cc:271] Created TensorFlow device (/job:localhost/replica:0/task:0/device:GPU:0 with 0 MB memory) -> physical PluggableDevice (device: 0, name: METAL, pci bus id: <undefined>)\n"
     ]
    },
    {
     "name": "stdout",
     "output_type": "stream",
     "text": [
      "Epoch 1/35\n"
     ]
    },
    {
     "name": "stderr",
     "output_type": "stream",
     "text": [
      "2024-03-25 11:47:02.750625: W tensorflow/core/platform/profile_utils/cpu_utils.cc:128] Failed to get CPU frequency: 0 Hz\n",
      "2024-03-25 11:47:05.135023: I tensorflow/core/grappler/optimizers/custom_graph_optimizer_registry.cc:113] Plugin optimizer for device_type GPU is enabled.\n",
      "2024-03-25 11:47:05.617750: I tensorflow/core/grappler/optimizers/custom_graph_optimizer_registry.cc:113] Plugin optimizer for device_type GPU is enabled.\n",
      "2024-03-25 11:47:08.528048: I tensorflow/core/grappler/optimizers/custom_graph_optimizer_registry.cc:113] Plugin optimizer for device_type GPU is enabled.\n",
      "2024-03-25 11:47:11.577323: I tensorflow/core/grappler/optimizers/custom_graph_optimizer_registry.cc:113] Plugin optimizer for device_type GPU is enabled.\n",
      "2024-03-25 11:47:52.040209: I tensorflow/core/grappler/optimizers/custom_graph_optimizer_registry.cc:113] Plugin optimizer for device_type GPU is enabled.\n"
     ]
    },
    {
     "name": "stdout",
     "output_type": "stream",
     "text": [
      "1/1 [==============================] - ETA: 0s - loss: 1.0539"
     ]
    },
    {
     "name": "stderr",
     "output_type": "stream",
     "text": [
      "2024-03-25 11:48:32.579922: I tensorflow/core/grappler/optimizers/custom_graph_optimizer_registry.cc:113] Plugin optimizer for device_type GPU is enabled.\n",
      "2024-03-25 11:48:32.743990: I tensorflow/core/grappler/optimizers/custom_graph_optimizer_registry.cc:113] Plugin optimizer for device_type GPU is enabled.\n",
      "2024-03-25 11:48:35.613422: I tensorflow/core/grappler/optimizers/custom_graph_optimizer_registry.cc:113] Plugin optimizer for device_type GPU is enabled.\n"
     ]
    },
    {
     "name": "stdout",
     "output_type": "stream",
     "text": [
      "1/1 [==============================] - 96s 96s/step - loss: 1.0539 - val_loss: 0.9531\n",
      "Epoch 2/35\n",
      "1/1 [==============================] - 0s 343ms/step - loss: 0.9565 - val_loss: 0.8648\n",
      "Epoch 3/35\n",
      "1/1 [==============================] - 1s 504ms/step - loss: 0.8661 - val_loss: 0.7735\n",
      "Epoch 4/35\n",
      "1/1 [==============================] - 0s 371ms/step - loss: 0.7732 - val_loss: 0.6716\n",
      "Epoch 5/35\n",
      "1/1 [==============================] - 0s 324ms/step - loss: 0.6703 - val_loss: 0.5518\n",
      "Epoch 6/35\n",
      "1/1 [==============================] - 0s 322ms/step - loss: 0.5514 - val_loss: 0.4104\n",
      "Epoch 7/35\n",
      "1/1 [==============================] - 0s 319ms/step - loss: 0.4144 - val_loss: 0.2563\n",
      "Epoch 8/35\n",
      "1/1 [==============================] - 0s 324ms/step - loss: 0.2723 - val_loss: 0.1272\n",
      "Epoch 9/35\n",
      "1/1 [==============================] - 0s 320ms/step - loss: 0.1672 - val_loss: 0.0681\n",
      "Epoch 10/35\n",
      "1/1 [==============================] - 0s 319ms/step - loss: 0.1418 - val_loss: 0.0571\n",
      "Epoch 11/35\n",
      "1/1 [==============================] - 0s 318ms/step - loss: 0.1579 - val_loss: 0.0475\n",
      "Epoch 12/35\n",
      "1/1 [==============================] - 0s 317ms/step - loss: 0.1586 - val_loss: 0.0296\n",
      "Epoch 13/35\n",
      "1/1 [==============================] - 0s 320ms/step - loss: 0.1364 - val_loss: 0.0143\n",
      "Epoch 14/35\n",
      "1/1 [==============================] - 0s 339ms/step - loss: 0.1083 - val_loss: 0.0104\n",
      "Epoch 15/35\n",
      "1/1 [==============================] - 0s 422ms/step - loss: 0.0886 - val_loss: 0.0179\n",
      "Epoch 16/35\n",
      "1/1 [==============================] - 0s 348ms/step - loss: 0.0810 - val_loss: 0.0306\n",
      "Epoch 17/35\n",
      "1/1 [==============================] - 0s 454ms/step - loss: 0.0814 - val_loss: 0.0422\n",
      "Epoch 18/35\n",
      "1/1 [==============================] - 0s 372ms/step - loss: 0.0837 - val_loss: 0.0487\n",
      "Epoch 19/35\n",
      "1/1 [==============================] - 0s 448ms/step - loss: 0.0841 - val_loss: 0.0493\n",
      "Epoch 20/35\n",
      "1/1 [==============================] - 0s 402ms/step - loss: 0.0809 - val_loss: 0.0450\n",
      "Epoch 21/35\n",
      "1/1 [==============================] - 0s 324ms/step - loss: 0.0746 - val_loss: 0.0376\n",
      "Epoch 22/35\n",
      "1/1 [==============================] - 0s 326ms/step - loss: 0.0668 - val_loss: 0.0293\n",
      "Epoch 23/35\n",
      "1/1 [==============================] - 0s 324ms/step - loss: 0.0592 - val_loss: 0.0218\n",
      "Epoch 24/35\n",
      "1/1 [==============================] - 0s 320ms/step - loss: 0.0532 - val_loss: 0.0162\n"
     ]
    }
   ],
   "source": [
    "model = Model(new_channel)"
   ]
  },
  {
   "cell_type": "code",
   "execution_count": 7,
   "metadata": {
    "ExecuteTime": {
     "end_time": "2024-03-16T14:31:18.049307Z",
     "start_time": "2024-03-16T14:30:39.482614Z"
    }
   },
   "outputs": [
    {
     "name": "stderr",
     "output_type": "stream",
     "text": [
      "2024-03-25 11:48:47.171778: I tensorflow/core/grappler/optimizers/custom_graph_optimizer_registry.cc:113] Plugin optimizer for device_type GPU is enabled.\n",
      "2024-03-25 11:48:47.317114: I tensorflow/core/grappler/optimizers/custom_graph_optimizer_registry.cc:113] Plugin optimizer for device_type GPU is enabled.\n",
      "2024-03-25 11:48:50.151098: I tensorflow/core/grappler/optimizers/custom_graph_optimizer_registry.cc:113] Plugin optimizer for device_type GPU is enabled.\n"
     ]
    },
    {
     "data": {
      "text/plain": [
       "<__main__.Channel at 0x1670b3a00>"
      ]
     },
     "execution_count": 7,
     "metadata": {},
     "output_type": "execute_result"
    }
   ],
   "source": [
    "model.batch_predict(new_channel)"
   ]
  },
  {
   "cell_type": "code",
   "execution_count": 24,
   "metadata": {
    "ExecuteTime": {
     "end_time": "2024-03-16T14:31:18.186160Z",
     "start_time": "2024-03-16T14:31:18.048494Z"
    }
   },
   "outputs": [
    {
     "data": {
      "text/plain": [
       "[<matplotlib.lines.Line2D at 0x37254c730>]"
      ]
     },
     "execution_count": 24,
     "metadata": {},
     "output_type": "execute_result"
    },
    {
     "data": {
      "image/png": "[encoded data removed]",
      "text/plain": [
       "<Figure size 1080x360 with 2 Axes>"
      ]
     },
     "metadata": {
      "needs_background": "light"
     },
     "output_type": "display_data"
    }
   ],
   "source": [
    "fig, ax = plt.subplots(1, 2)\n",
    "\n",
    "fig.set_size_inches(15, 5)\n",
    "\n",
    "fig.suptitle(\"Actual vs Predictions\")\n",
    "\n",
    "ax[0].plot(new_channel.y_test[:, 0])\n",
    "\n",
    "ax[1].plot(new_channel.y_hat)"
   ]
  },
  {
   "cell_type": "markdown",
   "metadata": {},
   "source": [
    "### Class Plotter - visualize input data, predictions and errors"
   ]
  },
  {
   "cell_type": "code",
   "execution_count": 67,
   "metadata": {
    "ExecuteTime": {
     "end_time": "2024-03-16T14:31:18.186668Z",
     "start_time": "2024-03-16T14:31:18.179817Z"
    }
   },
   "outputs": [],
   "source": [
    "class Plotter:\n",
    "    def __init__(self, channel):\n",
    "        self.channel = channel\n",
    "\n",
    "    def plot_predictions(self, plot_real_data=True):\n",
    "        if plot_real_data:\n",
    "            plt.plot(self.channel.y_test[:, 0])\n",
    "        else:\n",
    "            plt.plot(self.channel.y_hat)\n",
    "\n",
    "        anomalies = pd.read_csv(\"data/labeled_anomalies.csv\")\n",
    "        anomalies = anomalies[anomalies[\"chan_id\"] == self.channel.id]\n",
    "        anomalies_plot = anomalies['anomaly_sequences']\n",
    "        anomalies_plot = eval(anomalies_plot.iloc[0])\n",
    "\n",
    "        for rect in anomalies_plot:\n",
    "            plt.axvspan(rect[0], rect[1], alpha=0.3, color='red')\n",
    "        plt.show()\n",
    "        \n",
    "    \n",
    "    def plot_custom_range_predictions(self, start, end, plot_real_data=True):\n",
    "        if plot_real_data:\n",
    "            plt.plot([i for i in range(start, end)], self.channel.y_test[:, 0][start:end])\n",
    "        else:\n",
    "             plt.plot([i for i in range(start, end)], self.channel.y_hat[start:end])\n",
    "\n",
    "        anomalies = pd.read_csv(\"data/labeled_anomalies.csv\")\n",
    "        anomalies = anomalies[anomalies[\"chan_id\"] == self.channel.id]\n",
    "        anomalies_plot = anomalies['anomaly_sequences']\n",
    "        anomalies_plot = eval(anomalies_plot.iloc[0])\n",
    "\n",
    "        for rect in anomalies_plot:\n",
    "            if max(rect[0], start) <  min(rect[1], end):\n",
    "                plt.axvspan(max(rect[0], start), min(rect[1], end), alpha=0.3, color='red')\n",
    "        plt.show()\n",
    "        \n",
    "    def plot_threshold(self, error, threshold):\n",
    "        plt.figure(figsize=(20,10))\n",
    "        plt.plot(error)\n",
    "        plt.plot([threshold for i in range(len(error))])\n",
    "\n",
    "        anomalies = pd.read_csv(\"data/labeled_anomalies.csv\")\n",
    "        anomalies = anomalies[anomalies[\"chan_id\"] == self.channel.id]\n",
    "        anomalies_plot = anomalies['anomaly_sequences']\n",
    "        anomalies_plot = eval(anomalies_plot.iloc[0])\n",
    "\n",
    "        for rect in anomalies_plot:\n",
    "            plt.axvspan(rect[0], rect[1], alpha=0.3, color='red')\n",
    "        plt.show()\n",
    "\n",
    "    def plot_detected_anomalies(self, d_anomalies, plot_real_data=True):\n",
    "        if plot_real_data:\n",
    "            plt.plot(self.channel.y_test[:, 0])\n",
    "        else:\n",
    "            plt.plot(self.channel.y_hat)\n",
    "\n",
    "        for rect in d_anomalies:\n",
    "            plt.axvspan(rect[0], rect[1], alpha=0.3, color='red')\n",
    "        plt.show()"
   ]
  },
  {
   "cell_type": "code",
   "execution_count": 68,
   "metadata": {
    "ExecuteTime": {
     "end_time": "2024-03-16T14:31:18.286130Z",
     "start_time": "2024-03-16T14:31:18.188869Z"
    }
   },
   "outputs": [
    {
     "data": {
      "image/png": "[encoded data removed]",
      "text/plain": [
       "<Figure size 432x288 with 1 Axes>"
      ]
     },
     "metadata": {
      "needs_background": "light"
     },
     "output_type": "display_data"
    },
    {
     "data": {
      "image/png": "[encoded data removed]",
      "text/plain": [
       "<Figure size 432x288 with 1 Axes>"
      ]
     },
     "metadata": {
      "needs_background": "light"
     },
     "output_type": "display_data"
    }
   ],
   "source": [
    "plotter = Plotter(new_channel)\n",
    "plotter.plot_predictions(plot_real_data=True)\n",
    "plotter.plot_custom_range_predictions(4900, 7000)"
   ]
  },
  {
   "cell_type": "markdown",
   "metadata": {},
   "source": [
    "### Calculate error between real and predicted data, create smoothed error"
   ]
  },
  {
   "cell_type": "code",
   "execution_count": 96,
   "metadata": {
    "ExecuteTime": {
     "end_time": "2024-03-16T14:31:18.301377Z",
     "start_time": "2024-03-16T14:31:18.285263Z"
    }
   },
   "outputs": [],
   "source": [
    "class ErrorWindow:\n",
    "    def __init__(self, channel, e_s, window_size, window_number):\n",
    "        self.channel = channel\n",
    "        self.e_s = e_s\n",
    "        self.window_num = window_number\n",
    "        self.window_size = window_size\n",
    "        self.E_seq = np.array([])\n",
    "        \n",
    "        self.mean = np.mean(self.e_s)\n",
    "        self.std = np.std(self.e_s)\n",
    "        self.epsilon = self.mean + 12 * self.std\n",
    "        self.indices_anomalies = np.array([])\n",
    "        # self.non_anom_max = np.max(self.e_s[self.e_s < self.epsilon])\n",
    "        self.anom_scores = []\n",
    "\n",
    "    def find_anomalies(self):\n",
    "        epsilon = 0\n",
    "        max_score = float('-inf')\n",
    "\n",
    "        for z in np.arange(2, 10, 0.5):\n",
    "            epsilon = self.mean + (self.std * z)\n",
    "\n",
    "            delta_mean = self.mean - np.mean(self.e_s[self.e_s < epsilon])\n",
    "            delta_std = self.std - np.std(self.e_s[self.e_s < epsilon])\n",
    "            e_a = self.e_s[self.e_s >= epsilon]\n",
    "\n",
    "            if len(e_a) > 0:\n",
    "                anom = np.argwhere(self.e_s >= epsilon).reshape(-1)\n",
    "                E_seq =[list(g) for g in mit.consecutive_groups(anom)]\n",
    "                E_seq_len = len(anom)\n",
    "                \n",
    "                score = ((delta_mean/self.mean) + (delta_std/self.std)) / (E_seq_len**2 + len(e_a))\n",
    "                if score > max_score:\n",
    "                    max_score = score\n",
    "                    self.epsilon = epsilon\n",
    "                    self.E_seq = E_seq\n",
    "                    self.indices_anomalies = anom\n",
    "                    # self.non_anom_max = np.max(self.e_s[self.e_s < self.epsilon])\n",
    "        return epsilon\n",
    "    \n",
    "    def score_anomalies(self, prior_idx):\n",
    "\n",
    "        groups = [list(group) for group in mit.consecutive_groups(self.indices_anomalies)]\n",
    "\n",
    "        for e_seq in groups:\n",
    "\n",
    "            score_dict = {\n",
    "                \"start_idx\": e_seq[0] + prior_idx,\n",
    "                \"end_idx\": e_seq[-1] + prior_idx,\n",
    "                \"score\": 0\n",
    "            }\n",
    "\n",
    "            score = max([abs(self.e_s[i] - self.epsilon)\n",
    "                         / (self.mean + self.std) for i in\n",
    "                         range(e_seq[0], e_seq[-1] + 1)])\n",
    "\n",
    "            score_dict['score'] = score\n",
    "            self.anom_scores.append(score_dict)"
   ]
  },
  {
   "cell_type": "code",
   "execution_count": 100,
   "metadata": {
    "ExecuteTime": {
     "end_time": "2024-03-16T14:32:23.798601Z",
     "start_time": "2024-03-16T14:32:23.781650Z"
    }
   },
   "outputs": [],
   "source": [
    "class Errors:\n",
    "    def __init__(self, channel):\n",
    "        self.channel = channel\n",
    "        self.error = np.abs(channel.y_test[:, 0] - channel.y_hat)\n",
    "        self.normalized = np.mean(self.error / np.ptp(channel.y_test))\n",
    "        self.e_s = pd.DataFrame(self.error).ewm(span=105).mean().values.flatten()\n",
    "\n",
    "        self.window_size = 30\n",
    "        self.batch_size = 70\n",
    "\n",
    "        self.n_windows = int((channel.y_test.shape[0] - (self.batch_size * self.window_size)) / self.batch_size)\n",
    "        self.i_anom = np.array([])\n",
    "        self.anom_scores = []\n",
    "        self.E_seq = []\n",
    "\n",
    "\n",
    "    def detect_anomalies(self):\n",
    "\n",
    "        for i in range(self.n_windows + 1):\n",
    "            prior_idx = i * self.batch_size\n",
    "            idx = self.window_size * self.batch_size + prior_idx\n",
    "\n",
    "            window = ErrorWindow(self.channel, self.e_s[prior_idx:idx], self.window_size, i)\n",
    "            \n",
    "            window.find_anomalies()\n",
    "            window.score_anomalies(prior_idx)\n",
    "\n",
    "            self.i_anom = np.append(self.i_anom, window.indices_anomalies + prior_idx)\n",
    "            self.anom_scores = self.anom_scores + window.anom_scores\n",
    "\n",
    "        self.check_scores()\n",
    "\n",
    "    def check_scores(self):\n",
    "        for i in range(len(self.anom_scores)):\n",
    "            if self.anom_scores[i]['score'] > 0.2:\n",
    "                self.E_seq.append([self.anom_scores[i]['start_idx'], self.anom_scores[i]['end_idx']])\n",
    "\n",
    "        E_seq = [self.E_seq[0]]\n",
    "        for s, e in self.E_seq[1:]:\n",
    "            if max(s, E_seq[-1][0]) < min(e, E_seq[-1][1]):\n",
    "                E_seq[-1] = [min(s, E_seq[-1][0]), max(e, E_seq[-1][1])]\n",
    "            else:\n",
    "                E_seq.append([s, e])"
   ]
  },
  {
   "cell_type": "code",
   "execution_count": 101,
   "metadata": {
    "ExecuteTime": {
     "end_time": "2024-03-16T14:32:25.216232Z",
     "start_time": "2024-03-16T14:32:25.041085Z"
    }
   },
   "outputs": [
    {
     "name": "stderr",
     "output_type": "stream",
     "text": [
      "/opt/homebrew/anaconda3/envs/ml/lib/python3.9/site-packages/numpy/core/fromnumeric.py:3440: RuntimeWarning: Mean of empty slice.\n",
      "  return _methods._mean(a, axis=axis, dtype=dtype,\n",
      "/opt/homebrew/anaconda3/envs/ml/lib/python3.9/site-packages/numpy/core/_methods.py:189: RuntimeWarning: invalid value encountered in double_scalars\n",
      "  ret = ret.dtype.type(ret / rcount)\n",
      "/opt/homebrew/anaconda3/envs/ml/lib/python3.9/site-packages/numpy/core/_methods.py:262: RuntimeWarning: Degrees of freedom <= 0 for slice\n",
      "  ret = _var(a, axis=axis, dtype=dtype, out=out, ddof=ddof,\n",
      "/opt/homebrew/anaconda3/envs/ml/lib/python3.9/site-packages/numpy/core/_methods.py:222: RuntimeWarning: invalid value encountered in true_divide\n",
      "  arrmean = um.true_divide(arrmean, div, out=arrmean, casting='unsafe',\n",
      "/opt/homebrew/anaconda3/envs/ml/lib/python3.9/site-packages/numpy/core/_methods.py:254: RuntimeWarning: invalid value encountered in double_scalars\n",
      "  ret = ret.dtype.type(ret / rcount)\n"
     ]
    }
   ],
   "source": [
    "errors = Errors(new_channel)\n",
    "errors.detect_anomalies()"
   ]
  },
  {
   "cell_type": "code",
   "execution_count": 102,
   "metadata": {},
   "outputs": [
    {
     "data": {
      "text/plain": [
       "[{'start_idx': 26, 'end_idx': 34, 'score': 0.21240462050008047},\n",
       " {'start_idx': 83, 'end_idx': 94, 'score': 0.2329792236407104},\n",
       " {'start_idx': 183, 'end_idx': 197, 'score': 0.3287718740724745},\n",
       " {'start_idx': 210, 'end_idx': 211, 'score': 0.15070802298766262},\n",
       " {'start_idx': 280, 'end_idx': 282, 'score': 0.22608603747193626},\n",
       " {'start_idx': 350, 'end_idx': 352, 'score': 0.1276715539184874},\n",
       " {'start_idx': 420, 'end_idx': 422, 'score': 0.048890624460787985},\n",
       " {'start_idx': 490, 'end_idx': 492, 'score': 0.014609207584751465},\n",
       " {'start_idx': 560, 'end_idx': 562, 'score': 0.003995040615422773},\n",
       " {'start_idx': 630, 'end_idx': 632, 'score': 0.0010635471575861067},\n",
       " {'start_idx': 700, 'end_idx': 702, 'score': 0.0002810761411392526},\n",
       " {'start_idx': 770, 'end_idx': 772, 'score': 7.41394290490687e-05},\n",
       " {'start_idx': 840, 'end_idx': 842, 'score': 1.9545738213823993e-05},\n",
       " {'start_idx': 910, 'end_idx': 912, 'score': 5.152242071243661e-06},\n",
       " {'start_idx': 980, 'end_idx': 982, 'score': 1.3580788253508052e-06},\n",
       " {'start_idx': 1050, 'end_idx': 1052, 'score': 3.579724648209518e-07},\n",
       " {'start_idx': 1120, 'end_idx': 1122, 'score': 9.435679848045778e-08},\n",
       " {'start_idx': 1190, 'end_idx': 1192, 'score': 2.4871187413765035e-08},\n",
       " {'start_idx': 1260, 'end_idx': 1262, 'score': 6.555712432303996e-09},\n",
       " {'start_idx': 1330, 'end_idx': 1332, 'score': 1.7280000967905674e-09},\n",
       " {'start_idx': 1400, 'end_idx': 1402, 'score': 4.554803813677757e-10},\n",
       " {'start_idx': 1470, 'end_idx': 1472, 'score': 1.200611907207545e-10},\n",
       " {'start_idx': 1540, 'end_idx': 1542, 'score': 3.164958903264402e-11},\n",
       " {'start_idx': 1610, 'end_idx': 1612, 'score': 8.34601031733068e-12},\n",
       " {'start_idx': 1680, 'end_idx': 1682, 'score': 2.2027255321771575e-12},\n",
       " {'start_idx': 1750, 'end_idx': 1752, 'score': 5.846214910313694e-13},\n",
       " {'start_idx': 1820, 'end_idx': 1822, 'score': 1.57426995335797e-13},\n",
       " {'start_idx': 1890, 'end_idx': 1892, 'score': 4.483600980925769e-14},\n",
       " {'start_idx': 1960, 'end_idx': 1960, 'score': 1.1271622577747484e-15},\n",
       " {'start_idx': 2030, 'end_idx': 2030, 'score': 3.757207525915927e-16},\n",
       " {'start_idx': 2100, 'end_idx': 2107, 'score': 2.3795647664134363e-15},\n",
       " {'start_idx': 5178, 'end_idx': 5179, 'score': 0.12086587222175466},\n",
       " {'start_idx': 5223, 'end_idx': 5249, 'score': 0.2563991668429213},\n",
       " {'start_idx': 5232, 'end_idx': 5319, 'score': 0.30141382203021444},\n",
       " {'start_idx': 5284, 'end_idx': 5389, 'score': 0.09230042553513063},\n",
       " {'start_idx': 5277, 'end_idx': 5459, 'score': 0.10017795655137048},\n",
       " {'start_idx': 5233, 'end_idx': 5529, 'score': 0.20731992410830358},\n",
       " {'start_idx': 5320, 'end_idx': 5599, 'score': 0.035768963338372005},\n",
       " {'start_idx': 5668, 'end_idx': 5669, 'score': 0.0660017414401372},\n",
       " {'start_idx': 5690, 'end_idx': 5739, 'score': 0.19533227409827317},\n",
       " {'start_idx': 5784, 'end_idx': 5809, 'score': 0.016006974917825628},\n",
       " {'start_idx': 5710, 'end_idx': 5879, 'score': 0.14476603310459946},\n",
       " {'start_idx': 5845, 'end_idx': 5949, 'score': 0.009007576358100178},\n",
       " {'start_idx': 6082, 'end_idx': 6089, 'score': 0.1034039107799495},\n",
       " {'start_idx': 6077, 'end_idx': 6125, 'score': 0.22765987883086988},\n",
       " {'start_idx': 6079, 'end_idx': 6117, 'score': 0.15574061969950345},\n",
       " {'start_idx': 6081, 'end_idx': 6111, 'score': 0.1063713917464752},\n",
       " {'start_idx': 6083, 'end_idx': 6106, 'score': 0.06795260909547306},\n",
       " {'start_idx': 6085, 'end_idx': 6101, 'score': 0.03727612175070153},\n",
       " {'start_idx': 6087, 'end_idx': 6097, 'score': 0.013077888216579816},\n",
       " {'start_idx': 6086, 'end_idx': 6099, 'score': 0.021842234847067495},\n",
       " {'start_idx': 6083, 'end_idx': 6105, 'score': 0.05335882689486258},\n",
       " {'start_idx': 6083, 'end_idx': 6105, 'score': 0.052417790445621976},\n",
       " {'start_idx': 7110, 'end_idx': 7139, 'score': 0.10238345332284529},\n",
       " {'start_idx': 7161, 'end_idx': 7209, 'score': 0.05253279966201215},\n",
       " {'start_idx': 7197, 'end_idx': 7279, 'score': 0.033264022768621095},\n",
       " {'start_idx': 7155, 'end_idx': 7349, 'score': 0.08732227864954581},\n",
       " {'start_idx': 7205, 'end_idx': 7419, 'score': 0.032980472695536105}]"
      ]
     },
     "execution_count": 102,
     "metadata": {},
     "output_type": "execute_result"
    }
   ],
   "source": [
    "errors.anom_scores"
   ]
  },
  {
   "cell_type": "code",
   "execution_count": 103,
   "metadata": {},
   "outputs": [
    {
     "data": {
      "image/png": "[encoded data removed]",
      "text/plain": [
       "<Figure size 432x288 with 1 Axes>"
      ]
     },
     "metadata": {
      "needs_background": "light"
     },
     "output_type": "display_data"
    }
   ],
   "source": [
    "plotter.plot_detected_anomalies(errors.E_seq, plot_real_data=False)"
   ]
  },
  {
   "cell_type": "code",
   "execution_count": 16,
   "metadata": {
    "ExecuteTime": {
     "end_time": "2024-03-16T14:32:31.774134Z",
     "start_time": "2024-03-16T14:32:31.668367Z"
    },
    "collapsed": false
   },
   "outputs": [],
   "source": [
    "# for (start, end), thr in epsilons:\n",
    "#     plt.plot([_ for _ in range(start, end)], [thr for _ in range(start, end)])\n",
    "# plt.plot(errors.e_s)"
   ]
  },
  {
   "cell_type": "code",
   "execution_count": 17,
   "metadata": {
    "ExecuteTime": {
     "end_time": "2024-03-16T14:42:53.051402Z",
     "start_time": "2024-03-16T14:42:53.047474Z"
    },
    "collapsed": false
   },
   "outputs": [],
   "source": [
    "class Errors_a:\n",
    "    def __init__(self, channel):\n",
    "        self.window_size = 30\n",
    "        self.batch_size = 70\n",
    "        self.smoothing_perc = 0.05\n",
    "        self.l_s = 250\n",
    "\n",
    "        self.window_size = self.window_size\n",
    "        self.n_windows = int((channel.y_test.shape[0] -\n",
    "                              (self.batch_size * self.window_size))\n",
    "                             / self.batch_size)\n",
    "        self.i_anom = np.array([])\n",
    "        self.E_seq = []\n",
    "        self.anom_scores = []\n",
    "\n",
    "        # raw prediction error\n",
    "        self.e = [abs(y_h-y_t[0]) for y_h, y_t in\n",
    "                  zip(channel.y_hat, channel.y_test)]\n",
    "\n",
    "        smoothing_window = int(self.batch_size * self.window_size\n",
    "                               * self.smoothing_perc)\n",
    "        if not len(channel.y_hat) == len(channel.y_test):\n",
    "            raise ValueError('len(y_hat) != len(y_test): {}, {}'\n",
    "                             .format(len(channel.y_hat), len(channel.y_test)))\n",
    "\n",
    "        # smoothed prediction error\n",
    "        self.e_s = pd.DataFrame(self.e).ewm(span=smoothing_window)\\\n",
    "            .mean().values.flatten()\n",
    "\n",
    "        # for values at beginning < sequence length, just use avg\n",
    "        if not channel.id == 'C-2':  # anomaly occurs early in window\n",
    "            self.e_s[:self.l_s] = \\\n",
    "                [np.mean(self.e_s[:self.l_s * 2])] * self.l_s\n",
    "\n",
    "\n",
    "        self.normalized = np.mean(self.e / np.ptp(channel.y_test))\n",
    "\n",
    "    def adjust_window_size(self, channel):\n",
    "\n",
    "        while self.n_windows < 0:\n",
    "            self.window_size -= 1\n",
    "            self.n_windows = int((channel.y_test.shape[0]\n",
    "                                 - (self.batch_size * self.window_size))\n",
    "                                 / self.batch_size)\n",
    "            if self.window_size == 1 and self.n_windows < 0:\n",
    "                raise ValueError('Batch_size ({}) larger than y_test (len={}). '\n",
    "                                 'Adjust in config.yaml.'\n",
    "                                 .format(self.batch_size,\n",
    "                                         channel.y_test.shape[0]))\n",
    "\n",
    "    def merge_scores(self):\n",
    "        merged_scores = []\n",
    "        score_end_indices = []\n",
    "\n",
    "        for i, score in enumerate(self.anom_scores):\n",
    "            if score['start_idx']-1 not in score_end_indices:\n",
    "                merged_scores.append(score['score'])\n",
    "                score_end_indices.append(score['end_idx'])\n",
    "\n",
    "    def process_batches(self, channel):\n",
    "        self.adjust_window_size(channel)\n",
    "\n",
    "        for i in range(0, self.n_windows+1):\n",
    "            prior_idx = i * self.batch_size\n",
    "            idx = (self.window_size * self.batch_size) \\\n",
    "                  + (i * self.batch_size)\n",
    "            if i == self.n_windows:\n",
    "                idx = channel.y_test.shape[0]\n",
    "\n",
    "            window = ErrorWindow_a(channel, prior_idx, idx, self, i)\n",
    "\n",
    "            window.find_epsilon()\n",
    "            window.find_epsilon(inverse=True)\n",
    "\n",
    "            window.compare_to_epsilon(self)\n",
    "            window.compare_to_epsilon(self, inverse=True)\n",
    "\n",
    "            if len(window.i_anom) == 0 and len(window.i_anom_inv) == 0:\n",
    "                continue\n",
    "\n",
    "            # window.prune_anoms()\n",
    "            # window.prune_anoms(inverse=True)\n",
    "\n",
    "            if len(window.i_anom) == 0 and len(window.i_anom_inv) == 0:\n",
    "                continue\n",
    "\n",
    "            window.i_anom = np.sort(np.unique(\n",
    "                np.append(window.i_anom, window.i_anom_inv))).astype('int')\n",
    "            window.score_anomalies(prior_idx)\n",
    "\n",
    "            # update indices to reflect true indices in full set of values\n",
    "            self.i_anom = np.append(self.i_anom, window.i_anom + prior_idx)\n",
    "            self.anom_scores = self.anom_scores + window.anom_scores\n",
    "\n",
    "        if len(self.i_anom) > 0:\n",
    "            # group anomalous indices into continuous sequences\n",
    "            groups = [list(group) for group in\n",
    "                      mit.consecutive_groups(self.i_anom)]\n",
    "            self.E_seq = [(int(g[0]), int(g[-1])) for g in groups\n",
    "                          if not g[0] == g[-1]]\n",
    "\n",
    "            # additional shift is applied to indices so that they represent the\n",
    "            # position in the original data array, obtained from the .npy files,\n",
    "            # and not the position on y_test (See PR #27).\n",
    "            self.E_seq = [(e_seq[0] + self.l_s,\n",
    "                           e_seq[1] + self.l_s) for e_seq in self.E_seq]\n",
    "\n",
    "            self.merge_scores()\n",
    "\n",
    "\n",
    "class ErrorWindow_a:\n",
    "    def __init__(self, channel, start_idx, end_idx, errors, window_num):\n",
    "\n",
    "        self.i_anom = np.array([])\n",
    "        self.E_seq = np.array([])\n",
    "        self.non_anom_max = -1000000\n",
    "        self.i_anom_inv = np.array([])\n",
    "        self.E_seq_inv = np.array([])\n",
    "        self.non_anom_max_inv = -1000000\n",
    "\n",
    "        self.anom_scores = []\n",
    "\n",
    "        self.window_num = window_num\n",
    "\n",
    "        self.sd_lim = 12.0\n",
    "        self.error_buffer = 100\n",
    "        self.batch_size = 70\n",
    "        self.p = 0.13\n",
    "        self.sd_threshold = self.sd_lim\n",
    "        self.sd_threshold_inv = self.sd_lim\n",
    "\n",
    "        self.e_s = errors.e_s[start_idx:end_idx]\n",
    "\n",
    "        self.mean_e_s = np.mean(self.e_s)\n",
    "        self.sd_e_s = np.std(self.e_s)\n",
    "        self.e_s_inv = np.array([self.mean_e_s + (self.mean_e_s - e)\n",
    "                                 for e in self.e_s])\n",
    "\n",
    "        self.epsilon = self.mean_e_s + self.sd_lim * self.sd_e_s\n",
    "        self.epsilon_inv = self.mean_e_s + self.sd_lim * self.sd_e_s\n",
    "\n",
    "        self.y_test = channel.y_test[start_idx:end_idx]\n",
    "        self.sd_values = np.std(self.y_test)\n",
    "\n",
    "        self.perc_high, self.perc_low = np.percentile(self.y_test, [95, 5])\n",
    "        self.inter_range = self.perc_high - self.perc_low\n",
    "\n",
    "        # ignore initial error values until enough history for processing\n",
    "        self.l_s = 250\n",
    "        self.num_to_ignore = self.l_s * 2\n",
    "        # if y_test is small, ignore fewer\n",
    "        if len(channel.y_test) < 2500:\n",
    "            self.num_to_ignore = self.l_s\n",
    "        if len(channel.y_test) < 1800:\n",
    "            self.num_to_ignore = 0\n",
    "\n",
    "    def find_epsilon(self, inverse=False):\n",
    "        e_s = self.e_s if not inverse else self.e_s_inv\n",
    "\n",
    "        max_score = -10000000\n",
    "\n",
    "        for z in np.arange(2.5, self.sd_lim, 0.5):\n",
    "            epsilon = self.mean_e_s + (self.sd_e_s * z)\n",
    "\n",
    "            pruned_e_s = e_s[e_s < epsilon]\n",
    "\n",
    "            i_anom = np.argwhere(e_s >= epsilon).reshape(-1,)\n",
    "            buffer = np.arange(1, self.error_buffer)\n",
    "            i_anom = np.sort(np.concatenate((i_anom,\n",
    "                                            np.array([i+buffer for i in i_anom])\n",
    "                                             .flatten(),\n",
    "                                            np.array([i-buffer for i in i_anom])\n",
    "                                             .flatten())))\n",
    "            i_anom = i_anom[(i_anom < len(e_s)) & (i_anom >= 0)]\n",
    "            i_anom = np.sort(np.unique(i_anom))\n",
    "\n",
    "            if len(i_anom) > 0:\n",
    "                # group anomalous indices into continuous sequences\n",
    "                groups = [list(group) for group\n",
    "                          in mit.consecutive_groups(i_anom)]\n",
    "                E_seq = [(g[0], g[-1]) for g in groups if not g[0] == g[-1]]\n",
    "\n",
    "                mean_perc_decrease = (self.mean_e_s - np.mean(pruned_e_s)) \\\n",
    "                                     / self.mean_e_s\n",
    "                sd_perc_decrease = (self.sd_e_s - np.std(pruned_e_s)) \\\n",
    "                                   / self.sd_e_s\n",
    "                score = (mean_perc_decrease + sd_perc_decrease) \\\n",
    "                        / (len(E_seq) ** 2 + len(i_anom))\n",
    "\n",
    "                # sanity checks / guardrails\n",
    "                if score >= max_score and len(E_seq) <= 5 and \\\n",
    "                        len(i_anom) < (len(e_s) * 0.5):\n",
    "                    max_score = score\n",
    "                    if not inverse:\n",
    "                        self.sd_threshold = z\n",
    "                        self.epsilon = self.mean_e_s + z * self.sd_e_s\n",
    "                    else:\n",
    "                        self.sd_threshold_inv = z\n",
    "                        self.epsilon_inv = self.mean_e_s + z * self.sd_e_s\n",
    "\n",
    "    def compare_to_epsilon(self, errors_all, inverse=False):\n",
    "        e_s = self.e_s if not inverse else self.e_s_inv\n",
    "        epsilon = self.epsilon if not inverse else self.epsilon_inv\n",
    "\n",
    "        # Check: scale of errors compared to values too small?\n",
    "        if not (self.sd_e_s > (.05 * self.sd_values) or max(self.e_s)\n",
    "                > (.05 * self.inter_range)) or not max(self.e_s) > 0.05:\n",
    "            return\n",
    "\n",
    "        i_anom = np.argwhere((e_s >= epsilon) &\n",
    "                             (e_s > 0.05 * self.inter_range)).reshape(-1,)\n",
    "\n",
    "        if len(i_anom) == 0:\n",
    "            return\n",
    "        buffer = np.arange(1, self.error_buffer+1)\n",
    "        i_anom = np.sort(np.concatenate((i_anom,\n",
    "                                         np.array([i + buffer for i in i_anom])\n",
    "                                         .flatten(),\n",
    "                                         np.array([i - buffer for i in i_anom])\n",
    "                                         .flatten())))\n",
    "        i_anom = i_anom[(i_anom < len(e_s)) & (i_anom >= 0)]\n",
    "\n",
    "        # if it is first window, ignore initial errors (need some history)\n",
    "        if self.window_num == 0:\n",
    "            i_anom = i_anom[i_anom >= self.num_to_ignore]\n",
    "        else:\n",
    "            i_anom = i_anom[i_anom >= len(e_s) - self.batch_size]\n",
    "\n",
    "        i_anom = np.sort(np.unique(i_anom))\n",
    "\n",
    "        # capture max of non-anomalous values below the threshold\n",
    "        # (used in filtering process)\n",
    "        batch_position = self.window_num * self.batch_size\n",
    "        window_indices = np.arange(0, len(e_s)) + batch_position\n",
    "        adj_i_anom = i_anom + batch_position\n",
    "        window_indices = np.setdiff1d(window_indices,\n",
    "                                      np.append(errors_all.i_anom, adj_i_anom))\n",
    "        candidate_indices = np.unique(window_indices - batch_position)\n",
    "        non_anom_max = np.max(np.take(e_s, candidate_indices))\n",
    "\n",
    "        # group anomalous indices into continuous sequences\n",
    "        groups = [list(group) for group in mit.consecutive_groups(i_anom)]\n",
    "        E_seq = [(g[0], g[-1]) for g in groups if not g[0] == g[-1]]\n",
    "\n",
    "        if inverse:\n",
    "            self.i_anom_inv = i_anom\n",
    "            self.E_seq_inv = E_seq\n",
    "            self.non_anom_max_inv = non_anom_max\n",
    "        else:\n",
    "            self.i_anom = i_anom\n",
    "            self.E_seq = E_seq\n",
    "            self.non_anom_max = non_anom_max\n",
    "\n",
    "    def prune_anoms(self, inverse=False):\n",
    "        E_seq = self.E_seq if not inverse else self.E_seq_inv\n",
    "        e_s = self.e_s if not inverse else self.e_s_inv\n",
    "        non_anom_max = self.non_anom_max if not inverse \\\n",
    "            else self.non_anom_max_inv\n",
    "\n",
    "        if len(E_seq) == 0:\n",
    "            return\n",
    "\n",
    "        E_seq_max = np.array([max(e_s[e[0]:e[1]+1]) for e in E_seq])\n",
    "        E_seq_max_sorted = np.sort(E_seq_max)[::-1]\n",
    "        E_seq_max_sorted = np.append(E_seq_max_sorted, [non_anom_max])\n",
    "\n",
    "        i_to_remove = np.array([])\n",
    "        for i in range(0, len(E_seq_max_sorted)-1):\n",
    "            if (E_seq_max_sorted[i] - E_seq_max_sorted[i+1]) \\\n",
    "                    / E_seq_max_sorted[i] < self.p:\n",
    "                i_to_remove = np.append(i_to_remove, np.argwhere(\n",
    "                    E_seq_max == E_seq_max_sorted[i]))\n",
    "            else:\n",
    "                i_to_remove = np.array([])\n",
    "        i_to_remove[::-1].sort()\n",
    "\n",
    "        if len(i_to_remove) > 0:\n",
    "            E_seq = np.delete(E_seq, i_to_remove, axis=0)\n",
    "\n",
    "        if len(E_seq) == 0 and inverse:\n",
    "            self.i_anom_inv = np.array([])\n",
    "            return\n",
    "        elif len(E_seq) == 0 and not inverse:\n",
    "            self.i_anom = np.array([])\n",
    "            return\n",
    "\n",
    "        indices_to_keep = np.concatenate([range(e_seq[0], e_seq[-1]+1)\n",
    "                                          for e_seq in E_seq])\n",
    "\n",
    "        if not inverse:\n",
    "            mask = np.isin(self.i_anom, indices_to_keep)\n",
    "            self.i_anom = self.i_anom[mask]\n",
    "        else:\n",
    "            mask_inv = np.isin(self.i_anom_inv, indices_to_keep)\n",
    "            self.i_anom_inv = self.i_anom_inv[mask_inv]\n",
    "\n",
    "    def score_anomalies(self, prior_idx):\n",
    "        groups = [list(group) for group in mit.consecutive_groups(self.i_anom)]\n",
    "\n",
    "        for e_seq in groups:\n",
    "\n",
    "            score_dict = {\n",
    "                \"start_idx\": e_seq[0] + prior_idx,\n",
    "                \"end_idx\": e_seq[-1] + prior_idx,\n",
    "                \"score\": 0\n",
    "            }\n",
    "\n",
    "            score = max([abs(self.e_s[i] - self.epsilon)\n",
    "                         / (self.mean_e_s + self.sd_e_s) for i in\n",
    "                         range(e_seq[0], e_seq[-1] + 1)])\n",
    "            inv_score = max([abs(self.e_s_inv[i] - self.epsilon_inv)\n",
    "                             / (self.mean_e_s + self.sd_e_s) for i in\n",
    "                             range(e_seq[0], e_seq[-1] + 1)])\n",
    "\n",
    "            # the max score indicates whether anomaly was from regular\n",
    "            # or inverted errors\n",
    "            score_dict['score'] = max([score, inv_score])\n",
    "            self.anom_scores.append(score_dict)"
   ]
  },
  {
   "cell_type": "code",
   "execution_count": 18,
   "metadata": {
    "ExecuteTime": {
     "end_time": "2024-03-16T14:42:54.308567Z",
     "start_time": "2024-03-16T14:42:54.300457Z"
    },
    "collapsed": false
   },
   "outputs": [],
   "source": [
    "error = Errors_a(new_channel)"
   ]
  },
  {
   "cell_type": "code",
   "execution_count": 19,
   "metadata": {
    "ExecuteTime": {
     "end_time": "2024-03-16T14:42:56.367986Z",
     "start_time": "2024-03-16T14:42:55.241312Z"
    },
    "collapsed": false
   },
   "outputs": [
    {
     "name": "stderr",
     "output_type": "stream",
     "text": [
      "/opt/homebrew/anaconda3/envs/ml/lib/python3.9/site-packages/numpy/core/fromnumeric.py:3440: RuntimeWarning: Mean of empty slice.\n",
      "  return _methods._mean(a, axis=axis, dtype=dtype,\n",
      "/opt/homebrew/anaconda3/envs/ml/lib/python3.9/site-packages/numpy/core/_methods.py:189: RuntimeWarning: invalid value encountered in double_scalars\n",
      "  ret = ret.dtype.type(ret / rcount)\n",
      "/opt/homebrew/anaconda3/envs/ml/lib/python3.9/site-packages/numpy/core/_methods.py:262: RuntimeWarning: Degrees of freedom <= 0 for slice\n",
      "  ret = _var(a, axis=axis, dtype=dtype, out=out, ddof=ddof,\n",
      "/opt/homebrew/anaconda3/envs/ml/lib/python3.9/site-packages/numpy/core/_methods.py:222: RuntimeWarning: invalid value encountered in true_divide\n",
      "  arrmean = um.true_divide(arrmean, div, out=arrmean, casting='unsafe',\n",
      "/opt/homebrew/anaconda3/envs/ml/lib/python3.9/site-packages/numpy/core/_methods.py:254: RuntimeWarning: invalid value encountered in double_scalars\n",
      "  ret = ret.dtype.type(ret / rcount)\n"
     ]
    }
   ],
   "source": [
    "error.process_batches(new_channel)"
   ]
  },
  {
   "cell_type": "code",
   "execution_count": 20,
   "metadata": {},
   "outputs": [
    {
     "data": {
      "text/plain": [
       "array([5110., 5111., 5112., 5113., 5114., 5115., 5116., 5117., 5118.,\n",
       "       5119., 5120., 5121., 5122., 5123., 5124., 5125., 5126., 5127.,\n",
       "       5128., 5129., 5130., 5131., 5132., 5133., 5134., 5135., 5136.,\n",
       "       5137., 5138., 5139., 5140., 5141., 5142., 5143., 5144., 5145.,\n",
       "       5146., 5147., 5148., 5149., 5150., 5151., 5152., 5153., 5154.,\n",
       "       5155., 5156., 5157., 5158., 5159., 5160., 5161., 5162., 5163.,\n",
       "       5164., 5165., 5166., 5167., 5168., 5169., 5170., 5171., 5172.,\n",
       "       5173., 5174., 5175., 5176., 5177., 5178., 5179., 5180., 5181.,\n",
       "       5182., 5183., 5184., 5185., 5186., 5187., 5188., 5189., 5190.,\n",
       "       5191., 5192., 5193., 5194., 5195., 5196., 5197., 5198., 5199.,\n",
       "       5200., 5201., 5202., 5203., 5204., 5205., 5206., 5207., 5208.,\n",
       "       5209., 5210., 5211., 5212., 5213., 5214., 5215., 5216., 5217.,\n",
       "       5218., 5219., 5220., 5221., 5222., 5223., 5224., 5225., 5226.,\n",
       "       5227., 5228., 5229., 5230., 5231., 5232., 5233., 5234., 5235.,\n",
       "       5236., 5237., 5238., 5239., 5240., 5241., 5242., 5243., 5244.,\n",
       "       5245., 5246., 5247., 5248., 5249., 5250., 5251., 5252., 5253.,\n",
       "       5254., 5255., 5256., 5257., 5258., 5259., 5260., 5261., 5262.,\n",
       "       5263., 5264., 5265., 5266., 5267., 5268., 5269., 5270., 5271.,\n",
       "       5272., 5273., 5274., 5275., 5276., 5277., 5278., 5279., 5280.,\n",
       "       5281., 5282., 5283., 5284., 5285., 5286., 5287., 5288., 5289.,\n",
       "       5290., 5291., 5292., 5293., 5294., 5295., 5296., 5297., 5298.,\n",
       "       5299., 5300., 5301., 5302., 5303., 5304., 5305., 5306., 5307.,\n",
       "       5308., 5309., 5310., 5311., 5312., 5313., 5314., 5315., 5316.,\n",
       "       5317., 5318., 5319., 5320., 5321., 5322., 5323., 5324., 5325.,\n",
       "       5326., 5327., 5328., 5329., 5330., 5331., 5332., 5333., 5334.,\n",
       "       5335., 5336., 5337., 5338., 5339., 5340., 5341., 5342., 5343.,\n",
       "       5344., 5345., 5346., 5347., 5348., 5349., 5350., 5351., 5352.,\n",
       "       5353., 5354., 5355., 5356., 5357., 5358., 5359., 5360., 5361.,\n",
       "       5362., 5363., 5364., 5365., 5366., 5367., 5368., 5369., 5370.,\n",
       "       5371., 5372., 5373., 5374., 5375., 5376., 5377., 5378., 5379.,\n",
       "       5380., 5381., 5382., 5383., 5384., 5385., 5386., 5387., 5388.,\n",
       "       5389., 5390., 5391., 5392., 5393., 5394., 5395., 5396., 5397.,\n",
       "       5398., 5399., 5400., 5401., 5402., 5403., 5404., 5405., 5406.,\n",
       "       5407., 5408., 5409., 5410., 5411., 5412., 5413., 5414., 5415.,\n",
       "       5416., 5417., 5418., 5419., 5420., 5421., 5422., 5423., 5424.,\n",
       "       5425., 5426., 5427., 5428., 5429., 5430., 5431., 5432., 5433.,\n",
       "       5434., 5435., 5436., 5437., 5438., 5439., 5440., 5441., 5442.,\n",
       "       5443., 5444., 5445., 5446., 5447., 5448., 5449., 5450., 5451.,\n",
       "       5452., 5453., 5454., 5455., 5456., 5457., 5458., 5459., 5670.,\n",
       "       5671., 5672., 5673., 5674., 5675., 5676., 5677., 5678., 5679.,\n",
       "       5680., 5681., 5682., 5683., 5684., 5685., 5686., 5687., 5688.,\n",
       "       5689., 5690., 5691., 5692., 5693., 5694., 5695., 5696., 5697.,\n",
       "       5698., 5699., 5700., 5701., 5702., 5703., 5704., 5705., 5706.,\n",
       "       5707., 5708., 5709., 5710., 5711., 5712., 5713., 5714., 5715.,\n",
       "       5716., 5717., 5718., 5719., 5720., 5721., 5722., 5723., 5724.,\n",
       "       5725., 5726., 5727., 5728., 5729., 5730., 5731., 5732., 5733.,\n",
       "       5734., 5735., 5736., 5737., 5738., 5739., 5740., 5741., 5742.,\n",
       "       5743., 5744., 5745., 5746., 5747., 5748., 5749., 5750., 5751.,\n",
       "       5752., 5753., 5754., 5755., 5756., 5757., 5758., 5759., 5760.,\n",
       "       5761., 5762., 5763., 5764., 5765., 5766., 5767., 5768., 5769.,\n",
       "       5770., 5771., 5772., 5773., 5774., 5775., 5776., 5777., 5778.,\n",
       "       5779., 5780., 5781., 5782., 5783., 5784., 5785., 5786., 5787.,\n",
       "       5788., 5789., 5790., 5791., 5792., 5793., 5794., 5795., 5796.,\n",
       "       5797., 5798., 5799., 5800., 5801., 5802., 5803., 5804., 5805.,\n",
       "       5806., 5807., 5808., 5809., 6020., 6021., 6022., 6023., 6024.,\n",
       "       6025., 6026., 6027., 6028., 6029., 6030., 6031., 6032., 6033.,\n",
       "       6034., 6035., 6036., 6037., 6038., 6039., 6040., 6041., 6042.,\n",
       "       6043., 6044., 6045., 6046., 6047., 6048., 6049., 6050., 6051.,\n",
       "       6052., 6053., 6054., 6055., 6056., 6057., 6058., 6059., 6060.,\n",
       "       6061., 6062., 6063., 6064., 6065., 6066., 6067., 6068., 6069.,\n",
       "       6070., 6071., 6072., 6073., 6074., 6075., 6076., 6077., 6078.,\n",
       "       6079., 6080., 6081., 6082., 6083., 6084., 6085., 6086., 6087.,\n",
       "       6088., 6089., 7140., 7141., 7142., 7143., 7144., 7145., 7146.,\n",
       "       7147., 7148., 7149., 7150., 7151., 7152., 7153., 7154., 7155.,\n",
       "       7156., 7157., 7158., 7159., 7160., 7161., 7162., 7163., 7164.,\n",
       "       7165., 7166., 7167., 7168., 7169., 7170., 7171., 7172., 7173.,\n",
       "       7174., 7175., 7176., 7177., 7178., 7179., 7180., 7181., 7182.,\n",
       "       7183., 7184., 7185., 7186., 7187., 7188., 7189., 7190., 7191.,\n",
       "       7192., 7193., 7194., 7195., 7196., 7197., 7198., 7199., 7200.,\n",
       "       7201., 7202., 7203., 7204., 7205., 7206., 7207., 7208., 7209.,\n",
       "       7210., 7211., 7212., 7213., 7214., 7215., 7216., 7217., 7218.,\n",
       "       7219., 7220., 7221., 7222., 7223., 7224., 7225., 7226., 7227.,\n",
       "       7228., 7229., 7230., 7231., 7232., 7233., 7234., 7235., 7236.,\n",
       "       7237., 7238., 7239., 7240., 7241., 7242., 7243., 7244., 7245.,\n",
       "       7246., 7247., 7248., 7249., 7250., 7251., 7252., 7253., 7254.,\n",
       "       7255., 7256., 7257., 7258., 7259., 7260., 7261., 7262., 7263.,\n",
       "       7264., 7265., 7266., 7267., 7268., 7269., 7270., 7271., 7272.,\n",
       "       7273., 7274., 7275., 7276., 7277., 7278., 7279.])"
      ]
     },
     "execution_count": 20,
     "metadata": {},
     "output_type": "execute_result"
    }
   ],
   "source": [
    "error.i_anom[:]"
   ]
  },
  {
   "cell_type": "code",
   "execution_count": 91,
   "metadata": {},
   "outputs": [
    {
     "data": {
      "text/plain": [
       "[{'start_idx': 5110, 'end_idx': 5179, 'score': 18.164238599812283},\n",
       " {'start_idx': 5180, 'end_idx': 5249, 'score': 13.951416603402162},\n",
       " {'start_idx': 5250, 'end_idx': 5319, 'score': 12.152745044458792},\n",
       " {'start_idx': 5320, 'end_idx': 5389, 'score': 11.06127162483108},\n",
       " {'start_idx': 5390, 'end_idx': 5459, 'score': 10.290099202516949},\n",
       " {'start_idx': 5670, 'end_idx': 5739, 'score': 9.162306622483902},\n",
       " {'start_idx': 5740, 'end_idx': 5809, 'score': 8.77383406918072},\n",
       " {'start_idx': 6020, 'end_idx': 6089, 'score': 7.970427066643095},\n",
       " {'start_idx': 7140, 'end_idx': 7209, 'score': 1.2343632241444116},\n",
       " {'start_idx': 7210, 'end_idx': 7279, 'score': 3.329802068109957}]"
      ]
     },
     "execution_count": 91,
     "metadata": {},
     "output_type": "execute_result"
    }
   ],
   "source": [
    "error.anom_scores"
   ]
  },
  {
   "cell_type": "code",
   "execution_count": 22,
   "metadata": {},
   "outputs": [
    {
     "data": {
      "text/plain": [
       "0.03882741592771849"
      ]
     },
     "execution_count": 22,
     "metadata": {},
     "output_type": "execute_result"
    }
   ],
   "source": [
    "error.normalized"
   ]
  }
 ],
 "metadata": {
  "kernelspec": {
   "display_name": "abm",
   "language": "python",
   "name": "python3"
  },
  "language_info": {
   "codemirror_mode": {
    "name": "ipython",
    "version": 3
   },
   "file_extension": ".py",
   "mimetype": "text/x-python",
   "name": "python",
   "nbconvert_exporter": "python",
   "pygments_lexer": "ipython3",
   "version": "3.9.12"
  }
 },
 "nbformat": 4,
 "nbformat_minor": 2
}
