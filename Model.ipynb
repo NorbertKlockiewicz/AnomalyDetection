{
 "cells": [
  {
   "cell_type": "markdown",
   "metadata": {},
   "source": [
    "## Anomaly Detection - Project\n",
    "### Authors: Norbert Klockiewicz, Kacper Majchrzak, Patryk Kożuch\n",
    "\n",
    "#### Based on: <a href=\"https://arxiv.org/pdf/1802.04431.pdf\">Detecting Spacecraft Anomalies Using LSTMs and Nonparametric Dynamic Thresholding</a>"
   ]
  },
  {
   "cell_type": "markdown",
   "metadata": {},
   "source": [
    "Imports"
   ]
  },
  {
   "cell_type": "code",
   "execution_count": 1,
   "metadata": {
    "ExecuteTime": {
     "end_time": "2024-03-16T14:29:56.647423Z",
     "start_time": "2024-03-16T14:29:56.618358Z"
    }
   },
   "outputs": [
    {
     "name": "stderr",
     "output_type": "stream",
     "text": [
      "2024-03-26 18:50:36.782920: I tensorflow/core/util/port.cc:110] oneDNN custom operations are on. You may see slightly different numerical results due to floating-point round-off errors from different computation orders. To turn them off, set the environment variable `TF_ENABLE_ONEDNN_OPTS=0`.\n",
      "2024-03-26 18:50:36.842661: I tensorflow/core/platform/cpu_feature_guard.cc:182] This TensorFlow binary is optimized to use available CPU instructions in performance-critical operations.\n",
      "To enable the following instructions: AVX2 AVX_VNNI FMA, in other operations, rebuild TensorFlow with the appropriate compiler flags.\n",
      "2024-03-26 18:50:37.334460: W tensorflow/compiler/tf2tensorrt/utils/py_utils.cc:38] TF-TRT Warning: Could not find TensorRT\n"
     ]
    }
   ],
   "source": [
    "import numpy as np\n",
    "import os\n",
    "import matplotlib.pyplot as plt\n",
    "import pandas as pd\n",
    "import more_itertools as mit\n",
    "from keras.models import Sequential\n",
    "from keras.callbacks import History, EarlyStopping\n",
    "from keras.layers import Dense, Activation, Dropout, LSTM"
   ]
  },
  {
   "cell_type": "code",
   "execution_count": 2,
   "metadata": {
    "ExecuteTime": {
     "end_time": "2024-03-16T14:29:56.664809Z",
     "start_time": "2024-03-16T14:29:56.650375Z"
    }
   },
   "outputs": [],
   "source": [
    "CHANNEL = \"D-13\""
   ]
  },
  {
   "cell_type": "markdown",
   "metadata": {},
   "source": [
    "### Class channel - load and prepare data to train model"
   ]
  },
  {
   "cell_type": "code",
   "execution_count": 3,
   "metadata": {
    "ExecuteTime": {
     "end_time": "2024-03-16T14:29:56.666169Z",
     "start_time": "2024-03-16T14:29:56.657681Z"
    },
    "collapsed": false
   },
   "outputs": [],
   "source": [
    "class Channel:\n",
    "    def __init__(self, chan_id):\n",
    "        self.id = chan_id\n",
    "        self.train = None\n",
    "        self.test = None\n",
    "        self.l_s = 250\n",
    "        self.n_predictions = 10\n",
    "        self.X_train = None\n",
    "        self.y_train = None\n",
    "        self.X_test = None\n",
    "        self.y_test = None\n",
    "        self.y_hat = None\n",
    "\n",
    "    def shape_data(self, arr, training=True):\n",
    "        data = []\n",
    "        for i in range(len(arr) - self.l_s - self.n_predictions):\n",
    "            data.append(arr[i: i + self.l_s + self.n_predictions])\n",
    "            \n",
    "        data = np.array(data)\n",
    "\n",
    "        if training:\n",
    "            np.random.shuffle(data)\n",
    "            self.X_train = data[:, :-self.n_predictions, :]\n",
    "            self.y_train = data[:, -self.n_predictions:, 0]\n",
    "        else:\n",
    "            self.X_test = data[:, :-self.n_predictions, :]\n",
    "            self.y_test = data[:, -self.n_predictions:, 0]\n",
    "\n",
    "    def load_data(self):\n",
    "        try:\n",
    "            self.train = np.load(os.path.join(\"data\", \"train\", \"{}.npy\".format(self.id)))\n",
    "            self.test = np.load(os.path.join(\"data\", \"test\", \"{}.npy\".format(self.id)))\n",
    "        except FileNotFoundError as e:\n",
    "            print(e)\n",
    "\n",
    "        self.shape_data(self.train)\n",
    "        self.shape_data(self.test, training=False)"
   ]
  },
  {
   "cell_type": "code",
   "execution_count": 4,
   "metadata": {
    "ExecuteTime": {
     "end_time": "2024-03-16T14:29:56.783369Z",
     "start_time": "2024-03-16T14:29:56.663905Z"
    },
    "collapsed": false
   },
   "outputs": [],
   "source": [
    "new_channel = Channel(CHANNEL)\n",
    "new_channel.load_data()"
   ]
  },
  {
   "cell_type": "markdown",
   "metadata": {},
   "source": [
    "### Class Model - create and train recurrent neural network"
   ]
  },
  {
   "cell_type": "code",
   "execution_count": 5,
   "metadata": {
    "ExecuteTime": {
     "end_time": "2024-03-16T14:29:56.804057Z",
     "start_time": "2024-03-16T14:29:56.782811Z"
    }
   },
   "outputs": [],
   "source": [
    "class Model:\n",
    "    def __init__(self, channel):\n",
    "        self.chan_id = channel.id\n",
    "        self.y_hat = np.array([])\n",
    "        self.model = None\n",
    "        self.train_new(channel)\n",
    "        \n",
    "\n",
    "    def train_new(self, channel):\n",
    "        cbs = [History(), EarlyStopping(monitor='val_loss',\n",
    "                                        patience=10,\n",
    "                                        min_delta=0.0003,\n",
    "                                        verbose=0)]\n",
    "\n",
    "        self.model = Sequential()\n",
    "\n",
    "        self.model.add(LSTM(\n",
    "            80,\n",
    "            input_shape=(None, channel.X_train.shape[2]),\n",
    "            return_sequences=True))\n",
    "        self.model.add(Dropout(0.3))\n",
    "\n",
    "        self.model.add(LSTM(\n",
    "            80,\n",
    "            return_sequences=False))\n",
    "        self.model.add(Dropout(0.3))\n",
    "\n",
    "        self.model.add(Dense(\n",
    "            channel.n_predictions))\n",
    "        self.model.add(Activation('linear'))\n",
    "\n",
    "        self.model.compile(loss='mse',\n",
    "                           optimizer='adam')\n",
    "\n",
    "        self.model.fit(channel.X_train,\n",
    "                       channel.y_train,\n",
    "                       batch_size=64,\n",
    "                       epochs=35,\n",
    "                       validation_split=0.2,\n",
    "                       callbacks=cbs,\n",
    "                       verbose=True)\n",
    "        \n",
    "    def aggregate_predictions(self, y_hat_batch, method='first'):\n",
    "        agg_y_hat_batch = np.array([])\n",
    "\n",
    "        for t in range(len(y_hat_batch)):\n",
    "\n",
    "            start_idx = t - 10\n",
    "            start_idx = start_idx if start_idx >= 0 else 0\n",
    "\n",
    "            # predictions pertaining to a specific timestep lie along diagonal\n",
    "            y_hat_t = np.flipud(y_hat_batch[start_idx:t+1]).diagonal()\n",
    "\n",
    "            if method == 'first':\n",
    "                agg_y_hat_batch = np.append(agg_y_hat_batch, [y_hat_t[0]])\n",
    "            elif method == 'mean':\n",
    "                agg_y_hat_batch = np.append(agg_y_hat_batch, np.mean(y_hat_t))\n",
    "\n",
    "        agg_y_hat_batch = agg_y_hat_batch.reshape(len(agg_y_hat_batch), 1)\n",
    "        self.y_hat = np.append(self.y_hat, agg_y_hat_batch)\n",
    "              \n",
    "    def batch_predict(self, channel):\n",
    "        num_batches = int((channel.y_test.shape[0] - 250)\n",
    "                          / 70)\n",
    "\n",
    "        for i in range(0, num_batches + 1):\n",
    "            prior_idx = i * 70\n",
    "            idx = (i + 1) * 70\n",
    "\n",
    "            if i + 1 == num_batches + 1:\n",
    "                idx = channel.y_test.shape[0]\n",
    "\n",
    "            X_test_batch = channel.X_test[prior_idx:idx]\n",
    "            y_hat_batch = self.model.predict(X_test_batch)\n",
    "            self.aggregate_predictions(y_hat_batch)\n",
    "\n",
    "        self.y_hat = np.reshape(self.y_hat, (self.y_hat.size,))\n",
    "\n",
    "        channel.y_hat = self.y_hat\n",
    "\n",
    "        return channel\n"
   ]
  },
  {
   "cell_type": "code",
   "execution_count": 6,
   "metadata": {
    "ExecuteTime": {
     "end_time": "2024-03-16T14:30:39.483576Z",
     "start_time": "2024-03-16T14:29:56.795185Z"
    }
   },
   "outputs": [
    {
     "name": "stderr",
     "output_type": "stream",
     "text": [
      "2024-03-26 18:50:38.147423: I tensorflow/compiler/xla/stream_executor/cuda/cuda_gpu_executor.cc:982] could not open file to read NUMA node: /sys/bus/pci/devices/0000:01:00.0/numa_node\n",
      "Your kernel may have been built without NUMA support.\n",
      "2024-03-26 18:50:38.249711: I tensorflow/compiler/xla/stream_executor/cuda/cuda_gpu_executor.cc:982] could not open file to read NUMA node: /sys/bus/pci/devices/0000:01:00.0/numa_node\n",
      "Your kernel may have been built without NUMA support.\n",
      "2024-03-26 18:50:38.249745: I tensorflow/compiler/xla/stream_executor/cuda/cuda_gpu_executor.cc:982] could not open file to read NUMA node: /sys/bus/pci/devices/0000:01:00.0/numa_node\n",
      "Your kernel may have been built without NUMA support.\n",
      "2024-03-26 18:50:38.254350: I tensorflow/compiler/xla/stream_executor/cuda/cuda_gpu_executor.cc:982] could not open file to read NUMA node: /sys/bus/pci/devices/0000:01:00.0/numa_node\n",
      "Your kernel may have been built without NUMA support.\n",
      "2024-03-26 18:50:38.254391: I tensorflow/compiler/xla/stream_executor/cuda/cuda_gpu_executor.cc:982] could not open file to read NUMA node: /sys/bus/pci/devices/0000:01:00.0/numa_node\n",
      "Your kernel may have been built without NUMA support.\n",
      "2024-03-26 18:50:38.254403: I tensorflow/compiler/xla/stream_executor/cuda/cuda_gpu_executor.cc:982] could not open file to read NUMA node: /sys/bus/pci/devices/0000:01:00.0/numa_node\n",
      "Your kernel may have been built without NUMA support.\n",
      "2024-03-26 18:50:38.366986: I tensorflow/compiler/xla/stream_executor/cuda/cuda_gpu_executor.cc:982] could not open file to read NUMA node: /sys/bus/pci/devices/0000:01:00.0/numa_node\n",
      "Your kernel may have been built without NUMA support.\n",
      "2024-03-26 18:50:38.367059: I tensorflow/compiler/xla/stream_executor/cuda/cuda_gpu_executor.cc:982] could not open file to read NUMA node: /sys/bus/pci/devices/0000:01:00.0/numa_node\n",
      "Your kernel may have been built without NUMA support.\n",
      "2024-03-26 18:50:38.367098: I tensorflow/core/common_runtime/gpu/gpu_device.cc:1722] Could not identify NUMA node of platform GPU id 0, defaulting to 0.  Your kernel may not have been built with NUMA support.\n",
      "2024-03-26 18:50:38.367119: I tensorflow/compiler/xla/stream_executor/cuda/cuda_gpu_executor.cc:982] could not open file to read NUMA node: /sys/bus/pci/devices/0000:01:00.0/numa_node\n",
      "Your kernel may have been built without NUMA support.\n",
      "2024-03-26 18:50:38.367187: I tensorflow/core/common_runtime/gpu/gpu_device.cc:1635] Created device /job:localhost/replica:0/task:0/device:GPU:0 with 9558 MB memory:  -> device: 0, name: NVIDIA GeForce RTX 4070, pci bus id: 0000:01:00.0, compute capability: 8.9\n",
      "2024-03-26 18:50:38.942218: I tensorflow/core/common_runtime/executor.cc:1197] [/device:CPU:0] (DEBUG INFO) Executor start aborting (this does not indicate an error and you can ignore this message): INVALID_ARGUMENT: You must feed a value for placeholder tensor 'gradients/split_2_grad/concat/split_2/split_dim' with dtype int32\n",
      "\t [[{{node gradients/split_2_grad/concat/split_2/split_dim}}]]\n",
      "2024-03-26 18:50:38.943182: I tensorflow/core/common_runtime/executor.cc:1197] [/device:CPU:0] (DEBUG INFO) Executor start aborting (this does not indicate an error and you can ignore this message): INVALID_ARGUMENT: You must feed a value for placeholder tensor 'gradients/split_grad/concat/split/split_dim' with dtype int32\n",
      "\t [[{{node gradients/split_grad/concat/split/split_dim}}]]\n",
      "2024-03-26 18:50:38.943911: I tensorflow/core/common_runtime/executor.cc:1197] [/device:CPU:0] (DEBUG INFO) Executor start aborting (this does not indicate an error and you can ignore this message): INVALID_ARGUMENT: You must feed a value for placeholder tensor 'gradients/split_1_grad/concat/split_1/split_dim' with dtype int32\n",
      "\t [[{{node gradients/split_1_grad/concat/split_1/split_dim}}]]\n"
     ]
    },
    {
     "name": "stdout",
     "output_type": "stream",
     "text": [
      "Epoch 1/35\n"
     ]
    },
    {
     "name": "stderr",
     "output_type": "stream",
     "text": [
      "2024-03-26 18:50:39.048295: I tensorflow/core/common_runtime/executor.cc:1197] [/device:CPU:0] (DEBUG INFO) Executor start aborting (this does not indicate an error and you can ignore this message): INVALID_ARGUMENT: You must feed a value for placeholder tensor 'gradients/split_2_grad/concat/split_2/split_dim' with dtype int32\n",
      "\t [[{{node gradients/split_2_grad/concat/split_2/split_dim}}]]\n",
      "2024-03-26 18:50:39.049465: I tensorflow/core/common_runtime/executor.cc:1197] [/device:CPU:0] (DEBUG INFO) Executor start aborting (this does not indicate an error and you can ignore this message): INVALID_ARGUMENT: You must feed a value for placeholder tensor 'gradients/split_grad/concat/split/split_dim' with dtype int32\n",
      "\t [[{{node gradients/split_grad/concat/split/split_dim}}]]\n",
      "2024-03-26 18:50:39.050232: I tensorflow/core/common_runtime/executor.cc:1197] [/device:CPU:0] (DEBUG INFO) Executor start aborting (this does not indicate an error and you can ignore this message): INVALID_ARGUMENT: You must feed a value for placeholder tensor 'gradients/split_1_grad/concat/split_1/split_dim' with dtype int32\n",
      "\t [[{{node gradients/split_1_grad/concat/split_1/split_dim}}]]\n",
      "2024-03-26 18:50:39.312251: I tensorflow/core/common_runtime/executor.cc:1197] [/device:CPU:0] (DEBUG INFO) Executor start aborting (this does not indicate an error and you can ignore this message): INVALID_ARGUMENT: You must feed a value for placeholder tensor 'gradients/split_2_grad/concat/split_2/split_dim' with dtype int32\n",
      "\t [[{{node gradients/split_2_grad/concat/split_2/split_dim}}]]\n",
      "2024-03-26 18:50:39.313525: I tensorflow/core/common_runtime/executor.cc:1197] [/device:CPU:0] (DEBUG INFO) Executor start aborting (this does not indicate an error and you can ignore this message): INVALID_ARGUMENT: You must feed a value for placeholder tensor 'gradients/split_grad/concat/split/split_dim' with dtype int32\n",
      "\t [[{{node gradients/split_grad/concat/split/split_dim}}]]\n",
      "2024-03-26 18:50:39.314198: I tensorflow/core/common_runtime/executor.cc:1197] [/device:CPU:0] (DEBUG INFO) Executor start aborting (this does not indicate an error and you can ignore this message): INVALID_ARGUMENT: You must feed a value for placeholder tensor 'gradients/split_1_grad/concat/split_1/split_dim' with dtype int32\n",
      "\t [[{{node gradients/split_1_grad/concat/split_1/split_dim}}]]\n",
      "2024-03-26 18:50:39.408999: I tensorflow/core/common_runtime/executor.cc:1197] [/device:CPU:0] (DEBUG INFO) Executor start aborting (this does not indicate an error and you can ignore this message): INVALID_ARGUMENT: You must feed a value for placeholder tensor 'gradients/split_2_grad/concat/split_2/split_dim' with dtype int32\n",
      "\t [[{{node gradients/split_2_grad/concat/split_2/split_dim}}]]\n",
      "2024-03-26 18:50:39.409909: I tensorflow/core/common_runtime/executor.cc:1197] [/device:CPU:0] (DEBUG INFO) Executor start aborting (this does not indicate an error and you can ignore this message): INVALID_ARGUMENT: You must feed a value for placeholder tensor 'gradients/split_grad/concat/split/split_dim' with dtype int32\n",
      "\t [[{{node gradients/split_grad/concat/split/split_dim}}]]\n",
      "2024-03-26 18:50:39.410622: I tensorflow/core/common_runtime/executor.cc:1197] [/device:CPU:0] (DEBUG INFO) Executor start aborting (this does not indicate an error and you can ignore this message): INVALID_ARGUMENT: You must feed a value for placeholder tensor 'gradients/split_1_grad/concat/split_1/split_dim' with dtype int32\n",
      "\t [[{{node gradients/split_1_grad/concat/split_1/split_dim}}]]\n",
      "2024-03-26 18:50:39.965262: I tensorflow/core/common_runtime/executor.cc:1197] [/device:CPU:0] (DEBUG INFO) Executor start aborting (this does not indicate an error and you can ignore this message): INVALID_ARGUMENT: You must feed a value for placeholder tensor 'gradients/split_2_grad/concat/split_2/split_dim' with dtype int32\n",
      "\t [[{{node gradients/split_2_grad/concat/split_2/split_dim}}]]\n",
      "2024-03-26 18:50:39.966389: I tensorflow/core/common_runtime/executor.cc:1197] [/device:CPU:0] (DEBUG INFO) Executor start aborting (this does not indicate an error and you can ignore this message): INVALID_ARGUMENT: You must feed a value for placeholder tensor 'gradients/split_grad/concat/split/split_dim' with dtype int32\n",
      "\t [[{{node gradients/split_grad/concat/split/split_dim}}]]\n",
      "2024-03-26 18:50:39.967269: I tensorflow/core/common_runtime/executor.cc:1197] [/device:CPU:0] (DEBUG INFO) Executor start aborting (this does not indicate an error and you can ignore this message): INVALID_ARGUMENT: You must feed a value for placeholder tensor 'gradients/split_1_grad/concat/split_1/split_dim' with dtype int32\n",
      "\t [[{{node gradients/split_1_grad/concat/split_1/split_dim}}]]\n",
      "2024-03-26 18:50:40.055588: I tensorflow/core/common_runtime/executor.cc:1197] [/device:CPU:0] (DEBUG INFO) Executor start aborting (this does not indicate an error and you can ignore this message): INVALID_ARGUMENT: You must feed a value for placeholder tensor 'gradients/split_2_grad/concat/split_2/split_dim' with dtype int32\n",
      "\t [[{{node gradients/split_2_grad/concat/split_2/split_dim}}]]\n",
      "2024-03-26 18:50:40.056501: I tensorflow/core/common_runtime/executor.cc:1197] [/device:CPU:0] (DEBUG INFO) Executor start aborting (this does not indicate an error and you can ignore this message): INVALID_ARGUMENT: You must feed a value for placeholder tensor 'gradients/split_grad/concat/split/split_dim' with dtype int32\n",
      "\t [[{{node gradients/split_grad/concat/split/split_dim}}]]\n",
      "2024-03-26 18:50:40.057340: I tensorflow/core/common_runtime/executor.cc:1197] [/device:CPU:0] (DEBUG INFO) Executor start aborting (this does not indicate an error and you can ignore this message): INVALID_ARGUMENT: You must feed a value for placeholder tensor 'gradients/split_1_grad/concat/split_1/split_dim' with dtype int32\n",
      "\t [[{{node gradients/split_1_grad/concat/split_1/split_dim}}]]\n",
      "2024-03-26 18:50:40.581996: I tensorflow/compiler/xla/stream_executor/cuda/cuda_dnn.cc:424] Loaded cuDNN version 8902\n",
      "2024-03-26 18:50:40.643468: I tensorflow/compiler/xla/stream_executor/cuda/cuda_blas.cc:637] TensorFloat-32 will be used for the matrix multiplication. This will only be logged once.\n",
      "2024-03-26 18:50:40.655544: I tensorflow/compiler/xla/service/service.cc:169] XLA service 0x7f5b3677fb00 initialized for platform CUDA (this does not guarantee that XLA will be used). Devices:\n",
      "2024-03-26 18:50:40.655587: I tensorflow/compiler/xla/service/service.cc:177]   StreamExecutor device (0): NVIDIA GeForce RTX 4070, Compute Capability 8.9\n",
      "2024-03-26 18:50:40.665990: I tensorflow/compiler/mlir/tensorflow/utils/dump_mlir_util.cc:269] disabling MLIR crash reproducer, set env var `MLIR_CRASH_REPRODUCER_DIRECTORY` to enable.\n",
      "2024-03-26 18:50:40.840405: I ./tensorflow/compiler/jit/device_compiler.h:180] Compiled cluster using XLA!  This line is logged at most once for the lifetime of the process.\n"
     ]
    },
    {
     "name": "stdout",
     "output_type": "stream",
     "text": [
      "16/16 [==============================] - ETA: 0s - loss: 0.4013"
     ]
    },
    {
     "name": "stderr",
     "output_type": "stream",
     "text": [
      "2024-03-26 18:50:41.600381: I tensorflow/core/common_runtime/executor.cc:1197] [/device:CPU:0] (DEBUG INFO) Executor start aborting (this does not indicate an error and you can ignore this message): INVALID_ARGUMENT: You must feed a value for placeholder tensor 'gradients/split_2_grad/concat/split_2/split_dim' with dtype int32\n",
      "\t [[{{node gradients/split_2_grad/concat/split_2/split_dim}}]]\n",
      "2024-03-26 18:50:41.601568: I tensorflow/core/common_runtime/executor.cc:1197] [/device:CPU:0] (DEBUG INFO) Executor start aborting (this does not indicate an error and you can ignore this message): INVALID_ARGUMENT: You must feed a value for placeholder tensor 'gradients/split_grad/concat/split/split_dim' with dtype int32\n",
      "\t [[{{node gradients/split_grad/concat/split/split_dim}}]]\n",
      "2024-03-26 18:50:41.602628: I tensorflow/core/common_runtime/executor.cc:1197] [/device:CPU:0] (DEBUG INFO) Executor start aborting (this does not indicate an error and you can ignore this message): INVALID_ARGUMENT: You must feed a value for placeholder tensor 'gradients/split_1_grad/concat/split_1/split_dim' with dtype int32\n",
      "\t [[{{node gradients/split_1_grad/concat/split_1/split_dim}}]]\n",
      "2024-03-26 18:50:41.700321: I tensorflow/core/common_runtime/executor.cc:1197] [/device:CPU:0] (DEBUG INFO) Executor start aborting (this does not indicate an error and you can ignore this message): INVALID_ARGUMENT: You must feed a value for placeholder tensor 'gradients/split_2_grad/concat/split_2/split_dim' with dtype int32\n",
      "\t [[{{node gradients/split_2_grad/concat/split_2/split_dim}}]]\n",
      "2024-03-26 18:50:41.701219: I tensorflow/core/common_runtime/executor.cc:1197] [/device:CPU:0] (DEBUG INFO) Executor start aborting (this does not indicate an error and you can ignore this message): INVALID_ARGUMENT: You must feed a value for placeholder tensor 'gradients/split_grad/concat/split/split_dim' with dtype int32\n",
      "\t [[{{node gradients/split_grad/concat/split/split_dim}}]]\n",
      "2024-03-26 18:50:41.701994: I tensorflow/core/common_runtime/executor.cc:1197] [/device:CPU:0] (DEBUG INFO) Executor start aborting (this does not indicate an error and you can ignore this message): INVALID_ARGUMENT: You must feed a value for placeholder tensor 'gradients/split_1_grad/concat/split_1/split_dim' with dtype int32\n",
      "\t [[{{node gradients/split_1_grad/concat/split_1/split_dim}}]]\n"
     ]
    },
    {
     "name": "stdout",
     "output_type": "stream",
     "text": [
      "16/16 [==============================] - 3s 49ms/step - loss: 0.4013 - val_loss: 0.0135\n",
      "Epoch 2/35\n",
      "16/16 [==============================] - 0s 25ms/step - loss: 0.0759 - val_loss: 0.0031\n",
      "Epoch 3/35\n",
      "16/16 [==============================] - 0s 25ms/step - loss: 0.0488 - val_loss: 0.0013\n",
      "Epoch 4/35\n",
      "16/16 [==============================] - 0s 23ms/step - loss: 0.0395 - val_loss: 7.5144e-04\n",
      "Epoch 5/35\n",
      "16/16 [==============================] - 0s 23ms/step - loss: 0.0354 - val_loss: 4.0701e-04\n",
      "Epoch 6/35\n",
      "16/16 [==============================] - 0s 24ms/step - loss: 0.0309 - val_loss: 7.9366e-04\n",
      "Epoch 7/35\n",
      "16/16 [==============================] - 0s 25ms/step - loss: 0.0304 - val_loss: 0.0030\n",
      "Epoch 8/35\n",
      "16/16 [==============================] - 0s 24ms/step - loss: 0.0272 - val_loss: 4.5588e-04\n",
      "Epoch 9/35\n",
      "16/16 [==============================] - 0s 23ms/step - loss: 0.0255 - val_loss: 0.0014\n",
      "Epoch 10/35\n",
      "16/16 [==============================] - 0s 24ms/step - loss: 0.0235 - val_loss: 3.9417e-04\n",
      "Epoch 11/35\n",
      "16/16 [==============================] - 0s 25ms/step - loss: 0.0227 - val_loss: 2.5038e-04\n",
      "Epoch 12/35\n",
      "16/16 [==============================] - 0s 24ms/step - loss: 0.0204 - val_loss: 6.4178e-05\n",
      "Epoch 13/35\n",
      "16/16 [==============================] - 0s 24ms/step - loss: 0.0209 - val_loss: 1.3432e-05\n",
      "Epoch 14/35\n",
      "16/16 [==============================] - 0s 26ms/step - loss: 0.0192 - val_loss: 0.0019\n",
      "Epoch 15/35\n",
      "16/16 [==============================] - 0s 26ms/step - loss: 0.0185 - val_loss: 4.6392e-04\n",
      "Epoch 16/35\n",
      "16/16 [==============================] - 0s 26ms/step - loss: 0.0179 - val_loss: 1.7896e-04\n",
      "Epoch 17/35\n",
      "16/16 [==============================] - 0s 26ms/step - loss: 0.0170 - val_loss: 1.2776e-04\n",
      "Epoch 18/35\n",
      "16/16 [==============================] - 0s 25ms/step - loss: 0.0161 - val_loss: 1.8476e-04\n",
      "Epoch 19/35\n",
      "16/16 [==============================] - 0s 24ms/step - loss: 0.0169 - val_loss: 5.8762e-04\n",
      "Epoch 20/35\n",
      "16/16 [==============================] - 0s 23ms/step - loss: 0.0163 - val_loss: 1.5438e-04\n",
      "Epoch 21/35\n",
      "16/16 [==============================] - 0s 26ms/step - loss: 0.0153 - val_loss: 7.5731e-04\n",
      "Epoch 22/35\n",
      "16/16 [==============================] - 0s 25ms/step - loss: 0.0154 - val_loss: 2.7691e-04\n"
     ]
    }
   ],
   "source": [
    "model = Model(new_channel)"
   ]
  },
  {
   "cell_type": "code",
   "execution_count": 7,
   "metadata": {
    "ExecuteTime": {
     "end_time": "2024-03-16T14:31:18.049307Z",
     "start_time": "2024-03-16T14:30:39.482614Z"
    }
   },
   "outputs": [
    {
     "name": "stdout",
     "output_type": "stream",
     "text": [
      "1/3 [=========>....................] - ETA: 0s"
     ]
    },
    {
     "name": "stderr",
     "output_type": "stream",
     "text": [
      "2024-03-26 18:50:50.237230: I tensorflow/core/common_runtime/executor.cc:1197] [/device:CPU:0] (DEBUG INFO) Executor start aborting (this does not indicate an error and you can ignore this message): INVALID_ARGUMENT: You must feed a value for placeholder tensor 'gradients/split_2_grad/concat/split_2/split_dim' with dtype int32\n",
      "\t [[{{node gradients/split_2_grad/concat/split_2/split_dim}}]]\n",
      "2024-03-26 18:50:50.238598: I tensorflow/core/common_runtime/executor.cc:1197] [/device:CPU:0] (DEBUG INFO) Executor start aborting (this does not indicate an error and you can ignore this message): INVALID_ARGUMENT: You must feed a value for placeholder tensor 'gradients/split_grad/concat/split/split_dim' with dtype int32\n",
      "\t [[{{node gradients/split_grad/concat/split/split_dim}}]]\n",
      "2024-03-26 18:50:50.239311: I tensorflow/core/common_runtime/executor.cc:1197] [/device:CPU:0] (DEBUG INFO) Executor start aborting (this does not indicate an error and you can ignore this message): INVALID_ARGUMENT: You must feed a value for placeholder tensor 'gradients/split_1_grad/concat/split_1/split_dim' with dtype int32\n",
      "\t [[{{node gradients/split_1_grad/concat/split_1/split_dim}}]]\n",
      "2024-03-26 18:50:50.326721: I tensorflow/core/common_runtime/executor.cc:1197] [/device:CPU:0] (DEBUG INFO) Executor start aborting (this does not indicate an error and you can ignore this message): INVALID_ARGUMENT: You must feed a value for placeholder tensor 'gradients/split_2_grad/concat/split_2/split_dim' with dtype int32\n",
      "\t [[{{node gradients/split_2_grad/concat/split_2/split_dim}}]]\n",
      "2024-03-26 18:50:50.327677: I tensorflow/core/common_runtime/executor.cc:1197] [/device:CPU:0] (DEBUG INFO) Executor start aborting (this does not indicate an error and you can ignore this message): INVALID_ARGUMENT: You must feed a value for placeholder tensor 'gradients/split_grad/concat/split/split_dim' with dtype int32\n",
      "\t [[{{node gradients/split_grad/concat/split/split_dim}}]]\n",
      "2024-03-26 18:50:50.328441: I tensorflow/core/common_runtime/executor.cc:1197] [/device:CPU:0] (DEBUG INFO) Executor start aborting (this does not indicate an error and you can ignore this message): INVALID_ARGUMENT: You must feed a value for placeholder tensor 'gradients/split_1_grad/concat/split_1/split_dim' with dtype int32\n",
      "\t [[{{node gradients/split_1_grad/concat/split_1/split_dim}}]]\n"
     ]
    },
    {
     "name": "stdout",
     "output_type": "stream",
     "text": [
      "3/3 [==============================] - 0s 15ms/step\n",
      "3/3 [==============================] - 0s 12ms/step\n",
      "3/3 [==============================] - 0s 10ms/step\n",
      "3/3 [==============================] - 0s 8ms/step\n",
      "3/3 [==============================] - 0s 9ms/step\n",
      "3/3 [==============================] - 0s 6ms/step\n",
      "3/3 [==============================] - 0s 8ms/step\n",
      "3/3 [==============================] - 0s 14ms/step\n",
      "3/3 [==============================] - 0s 9ms/step\n",
      "3/3 [==============================] - 0s 7ms/step\n",
      "3/3 [==============================] - 0s 9ms/step\n",
      "3/3 [==============================] - 0s 8ms/step\n",
      "3/3 [==============================] - 0s 7ms/step\n",
      "3/3 [==============================] - 0s 7ms/step\n",
      "3/3 [==============================] - 0s 10ms/step\n",
      "3/3 [==============================] - 0s 10ms/step\n",
      "3/3 [==============================] - 0s 10ms/step\n",
      "3/3 [==============================] - 0s 8ms/step\n",
      "3/3 [==============================] - 0s 8ms/step\n",
      "3/3 [==============================] - 0s 7ms/step\n",
      "3/3 [==============================] - 0s 8ms/step\n",
      "3/3 [==============================] - 0s 8ms/step\n",
      "3/3 [==============================] - 0s 8ms/step\n",
      "3/3 [==============================] - 0s 7ms/step\n",
      "3/3 [==============================] - 0s 7ms/step\n",
      "3/3 [==============================] - 0s 14ms/step\n",
      "3/3 [==============================] - 0s 7ms/step\n",
      "3/3 [==============================] - 0s 8ms/step\n",
      "3/3 [==============================] - 0s 14ms/step\n",
      "3/3 [==============================] - 0s 8ms/step\n",
      "3/3 [==============================] - 0s 7ms/step\n",
      "3/3 [==============================] - 0s 11ms/step\n",
      "3/3 [==============================] - 0s 9ms/step\n",
      "3/3 [==============================] - 0s 13ms/step\n",
      "3/3 [==============================] - 0s 9ms/step\n",
      "3/3 [==============================] - 0s 10ms/step\n",
      "3/3 [==============================] - 0s 9ms/step\n",
      "3/3 [==============================] - 0s 8ms/step\n",
      "3/3 [==============================] - 0s 9ms/step\n",
      "3/3 [==============================] - 0s 9ms/step\n",
      "3/3 [==============================] - 0s 13ms/step\n",
      "3/3 [==============================] - 0s 12ms/step\n",
      "3/3 [==============================] - 0s 13ms/step\n",
      "3/3 [==============================] - 0s 15ms/step\n",
      "3/3 [==============================] - 0s 14ms/step\n",
      "3/3 [==============================] - 0s 9ms/step\n",
      "3/3 [==============================] - 0s 14ms/step\n",
      "3/3 [==============================] - 0s 17ms/step\n",
      "3/3 [==============================] - 0s 15ms/step\n",
      "3/3 [==============================] - 0s 13ms/step\n",
      "3/3 [==============================] - 0s 13ms/step\n",
      "3/3 [==============================] - 0s 12ms/step\n",
      "3/3 [==============================] - 0s 13ms/step\n",
      "3/3 [==============================] - 0s 10ms/step\n",
      "3/3 [==============================] - 0s 10ms/step\n",
      "3/3 [==============================] - 0s 15ms/step\n",
      "3/3 [==============================] - 0s 13ms/step\n",
      "3/3 [==============================] - 0s 14ms/step\n",
      "3/3 [==============================] - 0s 16ms/step\n",
      "3/3 [==============================] - 0s 12ms/step\n",
      "3/3 [==============================] - 0s 10ms/step\n",
      "3/3 [==============================] - 0s 11ms/step\n",
      "3/3 [==============================] - 0s 12ms/step\n",
      "3/3 [==============================] - 0s 11ms/step\n",
      "3/3 [==============================] - 0s 11ms/step\n",
      "3/3 [==============================] - 0s 15ms/step\n",
      "3/3 [==============================] - 0s 13ms/step\n",
      "3/3 [==============================] - 0s 9ms/step\n",
      "3/3 [==============================] - 0s 14ms/step\n",
      "3/3 [==============================] - 0s 15ms/step\n",
      "3/3 [==============================] - 0s 12ms/step\n",
      "3/3 [==============================] - 0s 13ms/step\n",
      "3/3 [==============================] - 0s 13ms/step\n",
      "3/3 [==============================] - 0s 15ms/step\n",
      "3/3 [==============================] - 0s 15ms/step\n",
      "3/3 [==============================] - 0s 12ms/step\n",
      "3/3 [==============================] - 0s 19ms/step\n",
      "3/3 [==============================] - 0s 12ms/step\n",
      "3/3 [==============================] - 0s 13ms/step\n",
      "3/3 [==============================] - 0s 19ms/step\n",
      "3/3 [==============================] - 0s 15ms/step\n",
      "3/3 [==============================] - 0s 9ms/step\n",
      "3/3 [==============================] - 0s 12ms/step\n",
      "3/3 [==============================] - 0s 13ms/step\n",
      "3/3 [==============================] - 0s 13ms/step\n",
      "3/3 [==============================] - 0s 16ms/step\n",
      "3/3 [==============================] - 0s 15ms/step\n",
      "3/3 [==============================] - 0s 15ms/step\n",
      "3/3 [==============================] - 0s 17ms/step\n",
      "3/3 [==============================] - 0s 15ms/step\n",
      "3/3 [==============================] - 0s 16ms/step\n",
      "3/3 [==============================] - 0s 22ms/step\n",
      "3/3 [==============================] - 0s 14ms/step\n",
      "3/3 [==============================] - 0s 17ms/step\n",
      "3/3 [==============================] - 0s 16ms/step\n",
      "3/3 [==============================] - 0s 12ms/step\n",
      "3/3 [==============================] - 0s 15ms/step\n",
      "3/3 [==============================] - 0s 12ms/step\n",
      "3/3 [==============================] - 0s 15ms/step\n",
      "3/3 [==============================] - 0s 14ms/step\n",
      "3/3 [==============================] - 0s 14ms/step\n",
      "3/3 [==============================] - 0s 16ms/step\n",
      "9/9 [==============================] - 0s 15ms/step\n"
     ]
    },
    {
     "data": {
      "text/plain": [
       "<__main__.Channel at 0x7f5c96cb7dc0>"
      ]
     },
     "execution_count": 7,
     "metadata": {},
     "output_type": "execute_result"
    }
   ],
   "source": [
    "model.batch_predict(new_channel)"
   ]
  },
  {
   "cell_type": "code",
   "execution_count": 8,
   "metadata": {
    "ExecuteTime": {
     "end_time": "2024-03-16T14:31:18.186160Z",
     "start_time": "2024-03-16T14:31:18.048494Z"
    }
   },
   "outputs": [
    {
     "data": {
      "text/plain": [
       "[<matplotlib.lines.Line2D at 0x7f5bdc0aa550>]"
      ]
     },
     "execution_count": 8,
     "metadata": {},
     "output_type": "execute_result"
    },
    {
     "data": {
      "image/png": "[encoded data removed]",
      "text/plain": [
       "<Figure size 1500x500 with 2 Axes>"
      ]
     },
     "metadata": {},
     "output_type": "display_data"
    }
   ],
   "source": [
    "fig, ax = plt.subplots(1, 2)\n",
    "\n",
    "fig.set_size_inches(15, 5)\n",
    "\n",
    "fig.suptitle(\"Actual vs Predictions\")\n",
    "\n",
    "ax[0].plot(new_channel.y_test[:, 0])\n",
    "\n",
    "ax[1].plot(new_channel.y_hat)"
   ]
  },
  {
   "cell_type": "markdown",
   "metadata": {},
   "source": [
    "### Class Plotter - visualize input data, predictions and errors"
   ]
  },
  {
   "cell_type": "code",
   "execution_count": 9,
   "metadata": {
    "ExecuteTime": {
     "end_time": "2024-03-16T14:31:18.186668Z",
     "start_time": "2024-03-16T14:31:18.179817Z"
    }
   },
   "outputs": [],
   "source": [
    "class Plotter:\n",
    "    def __init__(self, channel):\n",
    "        self.channel = channel\n",
    "\n",
    "    def plot_predictions(self, plot_real_data=True):\n",
    "        if plot_real_data:\n",
    "            plt.plot(self.channel.y_test[:, 0])\n",
    "        else:\n",
    "            plt.plot(self.channel.y_hat)\n",
    "\n",
    "        anomalies = pd.read_csv(\"data/labeled_anomalies.csv\")\n",
    "        anomalies = anomalies[anomalies[\"chan_id\"] == self.channel.id]\n",
    "        anomalies_plot = anomalies['anomaly_sequences']\n",
    "        anomalies_plot = eval(anomalies_plot.iloc[0])\n",
    "\n",
    "        for rect in anomalies_plot:\n",
    "            plt.axvspan(rect[0], rect[1], alpha=0.3, color='red')\n",
    "        plt.show()\n",
    "        \n",
    "    \n",
    "    def plot_custom_range_predictions(self, start, end, plot_real_data=True):\n",
    "        if plot_real_data:\n",
    "            plt.plot([i for i in range(start, end)], self.channel.y_test[:, 0][start:end])\n",
    "        else:\n",
    "             plt.plot([i for i in range(start, end)], self.channel.y_hat[start:end])\n",
    "\n",
    "        anomalies = pd.read_csv(\"data/labeled_anomalies.csv\")\n",
    "        anomalies = anomalies[anomalies[\"chan_id\"] == self.channel.id]\n",
    "        anomalies_plot = anomalies['anomaly_sequences']\n",
    "        anomalies_plot = eval(anomalies_plot.iloc[0])\n",
    "\n",
    "        for rect in anomalies_plot:\n",
    "            if max(rect[0], start) <  min(rect[1], end):\n",
    "                plt.axvspan(max(rect[0], start), min(rect[1], end), alpha=0.3, color='red')\n",
    "        plt.show()\n",
    "        \n",
    "    def plot_threshold(self, error, threshold):\n",
    "        plt.figure(figsize=(20,10))\n",
    "        plt.plot(error)\n",
    "        plt.plot([threshold for i in range(len(error))])\n",
    "\n",
    "        anomalies = pd.read_csv(\"data/labeled_anomalies.csv\")\n",
    "        anomalies = anomalies[anomalies[\"chan_id\"] == self.channel.id]\n",
    "        anomalies_plot = anomalies['anomaly_sequences']\n",
    "        anomalies_plot = eval(anomalies_plot.iloc[0])\n",
    "\n",
    "        for rect in anomalies_plot:\n",
    "            plt.axvspan(rect[0], rect[1], alpha=0.3, color='red')\n",
    "        plt.show()\n",
    "\n",
    "    def plot_detected_anomalies(self, d_anomalies, plot_real_data=True):\n",
    "        if plot_real_data:\n",
    "            plt.plot(self.channel.y_test[:, 0])\n",
    "        else:\n",
    "            plt.plot(self.channel.y_hat)\n",
    "\n",
    "        for rect in d_anomalies:\n",
    "            plt.axvspan(rect[0], rect[1], alpha=0.3, color='red')\n",
    "        plt.show()"
   ]
  },
  {
   "cell_type": "code",
   "execution_count": 10,
   "metadata": {
    "ExecuteTime": {
     "end_time": "2024-03-16T14:31:18.286130Z",
     "start_time": "2024-03-16T14:31:18.188869Z"
    }
   },
   "outputs": [
    {
     "data": {
      "image/png": "[encoded data removed]",
      "text/plain": [
       "<Figure size 640x480 with 1 Axes>"
      ]
     },
     "metadata": {},
     "output_type": "display_data"
    }
   ],
   "source": [
    "plotter = Plotter(new_channel)\n",
    "plotter.plot_predictions(plot_real_data=True)\n",
    "# plotter.plot_custom_range_predictions(4900, 7000)"
   ]
  },
  {
   "cell_type": "markdown",
   "metadata": {},
   "source": [
    "### Calculate error between real and predicted data, create smoothed error"
   ]
  },
  {
   "cell_type": "code",
   "execution_count": 11,
   "metadata": {
    "ExecuteTime": {
     "end_time": "2024-03-16T14:31:18.301377Z",
     "start_time": "2024-03-16T14:31:18.285263Z"
    }
   },
   "outputs": [],
   "source": [
    "class ErrorWindow:\n",
    "    def __init__(self, channel, e_s, window_size, window_number):\n",
    "        self.channel = channel\n",
    "        self.e_s = e_s\n",
    "        self.window_num = window_number\n",
    "        self.window_size = window_size\n",
    "        self.E_seq = np.array([])\n",
    "        \n",
    "        self.mean = np.mean(self.e_s)\n",
    "        self.std = np.std(self.e_s)\n",
    "        self.epsilon = self.mean + 12 * self.std\n",
    "        self.indices_anomalies = np.array([])\n",
    "        self.anom_scores = []\n",
    "\n",
    "    def find_anomalies(self):\n",
    "        max_score = float('-inf')\n",
    "\n",
    "        for z in np.arange(2, 10, 0.5):\n",
    "            epsilon = self.mean + (self.std * z)\n",
    "            below_epsilon = self.e_s[self.e_s < epsilon]\n",
    "\n",
    "            delta_mean = self.mean - np.mean(below_epsilon)\n",
    "            delta_std = self.std - np.std(below_epsilon)\n",
    "            e_a = self.e_s[self.e_s >= epsilon]\n",
    "\n",
    "            if len(e_a) > 0:\n",
    "                anom = np.argwhere(self.e_s >= epsilon).reshape(-1)\n",
    "                E_seq =[list(g) for g in mit.consecutive_groups(anom)]\n",
    "                E_seq_len = len(E_seq)\n",
    "                \n",
    "                score = ((delta_mean/self.mean) + (delta_std/self.std)) / (E_seq_len**2 + len(e_a))\n",
    "                if score > max_score:\n",
    "                    max_score = score\n",
    "                    self.epsilon = epsilon\n",
    "                    self.E_seq = E_seq\n",
    "                    # I have no idea why this is here\n",
    "                    # anom = anom[anom >= len(self.e_s) - 70]\n",
    "                    self.indices_anomalies = anom\n",
    "                    \n",
    "        return self.epsilon\n",
    "    \n",
    "    def score_anomalies(self, prior_idx):\n",
    "\n",
    "        groups = [list(group) for group in mit.consecutive_groups(self.indices_anomalies)]\n",
    "\n",
    "        for e_seq in groups:\n",
    "\n",
    "            score_dict = {\n",
    "                \"start_idx\": e_seq[0] + prior_idx,\n",
    "                \"end_idx\": e_seq[-1] + prior_idx,\n",
    "                \"score\": 0\n",
    "            }\n",
    "\n",
    "            score = max([abs(self.e_s[i] - self.epsilon)\n",
    "                         / (self.mean + self.std) for i in\n",
    "                         range(e_seq[0], e_seq[-1] + 1)])\n",
    "\n",
    "            score_dict['score'] = score\n",
    "            self.anom_scores.append(score_dict)"
   ]
  },
  {
   "cell_type": "code",
   "execution_count": 12,
   "metadata": {
    "ExecuteTime": {
     "end_time": "2024-03-16T14:32:23.798601Z",
     "start_time": "2024-03-16T14:32:23.781650Z"
    }
   },
   "outputs": [],
   "source": [
    "class Errors:\n",
    "    def __init__(self, channel):\n",
    "        self.channel = channel\n",
    "        # self.error = np.abs(channel.y_test[:, 0] - channel.y_hat)\n",
    "        self.error = [abs(y_h-y_t[0]) for y_h, y_t in\n",
    "                  zip(channel.y_hat, channel.y_test)]\n",
    "        self.normalized = np.mean(self.error / np.ptp(channel.y_test))\n",
    "        self.e_s = pd.DataFrame(self.error).ewm(span=105).mean().values.flatten()\n",
    "\n",
    "        self.window_size = 30\n",
    "        self.batch_size = 70\n",
    "\n",
    "        self.n_windows = int((channel.y_test.shape[0] - (self.batch_size * self.window_size)) / self.batch_size)\n",
    "        self.i_anom = np.array([])\n",
    "        self.anom_scores = []\n",
    "        self.E_seq = []\n",
    "        self.epsilons = []\n",
    "\n",
    "\n",
    "    def detect_anomalies(self):\n",
    "\n",
    "        for i in range(self.n_windows + 1):\n",
    "            prior_idx = i * self.batch_size\n",
    "            idx = self.window_size * self.batch_size + prior_idx\n",
    "            window = ErrorWindow(self.channel, self.e_s[prior_idx:idx], self.window_size, i)\n",
    "            \n",
    "            self.epsilons.append(window.find_anomalies())\n",
    "            window.score_anomalies(prior_idx)\n",
    "\n",
    "            self.i_anom = np.append(self.i_anom, window.indices_anomalies + prior_idx)\n",
    "            self.anom_scores = self.anom_scores + window.anom_scores\n",
    "\n",
    "\n",
    "        if len(self.anom_scores) > 0:\n",
    "            self.anom_scores = sorted(self.anom_scores, key=lambda x: x['score'], reverse=True)\n",
    "            self.check_scores()\n",
    "\n",
    "    def check_scores(self):\n",
    "        self.anom_scores = sorted(errors.anom_scores, key=lambda x: x['start_idx'])\n",
    "        for i in range(len(self.anom_scores)):\n",
    "            if self.anom_scores[i]['score'] > 0.1:\n",
    "                self.E_seq.append([self.anom_scores[i]['start_idx'], self.anom_scores[i]['end_idx']])\n",
    "\n",
    "        E_seq = [self.E_seq[0]]\n",
    "        for s, e in self.E_seq[1:]:\n",
    "            if max(s, E_seq[-1][0]) <= min(e, E_seq[-1][1]) or s == E_seq[-1][1] + 1:\n",
    "                E_seq[-1] = [min(s, E_seq[-1][0]), max(e, E_seq[-1][1])]\n",
    "            else:\n",
    "                E_seq.append([s, e])\n",
    "        self.E_seq = E_seq\n",
    "        # shift data to match the original data\n",
    "        self.E_seq = [(e_seq[0] + 250,\n",
    "                           e_seq[1] + 250) for e_seq in self.E_seq]"
   ]
  },
  {
   "cell_type": "code",
   "execution_count": 13,
   "metadata": {
    "ExecuteTime": {
     "end_time": "2024-03-16T14:32:25.216232Z",
     "start_time": "2024-03-16T14:32:25.041085Z"
    }
   },
   "outputs": [
    {
     "data": {
      "text/plain": [
       "({'start_idx': 4846, 'end_idx': 4899, 'score': 2.39403327522069},\n",
       " [(302, 315),\n",
       "  (646, 663),\n",
       "  (742, 761),\n",
       "  (840, 858),\n",
       "  (881, 914),\n",
       "  (930, 970),\n",
       "  (1042, 1104),\n",
       "  (1125, 1162),\n",
       "  (5096, 5149),\n",
       "  (5185, 5204),\n",
       "  (5220, 5228),\n",
       "  (5290, 5298),\n",
       "  (5360, 5368),\n",
       "  (5430, 5438)])"
      ]
     },
     "execution_count": 13,
     "metadata": {},
     "output_type": "execute_result"
    }
   ],
   "source": [
    "errors = Errors(new_channel)\n",
    "errors.detect_anomalies()\n",
    "max(errors.anom_scores, key=lambda x: x['score']), errors.E_seq"
   ]
  },
  {
   "cell_type": "code",
   "execution_count": 14,
   "metadata": {},
   "outputs": [
    {
     "data": {
      "image/png": "[encoded data removed]",
      "text/plain": [
       "<Figure size 640x480 with 1 Axes>"
      ]
     },
     "metadata": {},
     "output_type": "display_data"
    }
   ],
   "source": [
    "plotter.plot_detected_anomalies(errors.E_seq, plot_real_data=False)"
   ]
  }
 ],
 "metadata": {
  "kernelspec": {
   "display_name": "abm",
   "language": "python",
   "name": "python3"
  },
  "language_info": {
   "codemirror_mode": {
    "name": "ipython",
    "version": 3
   },
   "file_extension": ".py",
   "mimetype": "text/x-python",
   "name": "python",
   "nbconvert_exporter": "python",
   "pygments_lexer": "ipython3",
   "version": "3.9.16"
  }
 },
 "nbformat": 4,
 "nbformat_minor": 2
}
