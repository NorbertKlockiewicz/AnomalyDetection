{
 "cells": [
  {
   "cell_type": "code",
   "execution_count": 1,
   "metadata": {},
   "outputs": [],
   "source": [
    "import numpy as np\n",
    "import os\n",
    "import matplotlib.pyplot as plt\n",
    "import pandas as pd\n",
    "from tensorflow.keras.models import Sequential, load_model\n",
    "from tensorflow.keras.callbacks import History, EarlyStopping\n",
    "from tensorflow.keras.layers import Dense, Activation, Dropout, LSTM"
   ]
  },
  {
   "cell_type": "code",
   "execution_count": 2,
   "metadata": {},
   "outputs": [],
   "source": [
    "CHANNEL = \"D-12\""
   ]
  },
  {
   "cell_type": "code",
   "execution_count": 3,
   "metadata": {
    "collapsed": false
   },
   "outputs": [],
   "source": [
    "class Channel:\n",
    "    def __init__(self, chan_id):\n",
    "        self.id = chan_id\n",
    "        self.train = None\n",
    "        self.test = None\n",
    "        self.l_s = 250\n",
    "        self.n_predictions = 10\n",
    "        self.X_train = None\n",
    "        self.y_train = None\n",
    "        self.X_test = None\n",
    "        self.y_test = None\n",
    "        self.y_hat = None\n",
    "\n",
    "    def shape_data(self, arr, training=True):\n",
    "        data = []\n",
    "        for i in range(len(arr) - self.l_s - self.n_predictions):\n",
    "            data.append(arr[i: i + self.l_s + self.n_predictions])\n",
    "            \n",
    "        data = np.array(data)\n",
    "\n",
    "        if training:\n",
    "            np.random.shuffle(data)\n",
    "            self.X_train = data[:, :-self.n_predictions, :]\n",
    "            self.y_train = data[:, -self.n_predictions:, 0]\n",
    "        else:\n",
    "            self.X_test = data[:, :-self.n_predictions, :]\n",
    "            self.y_test = data[:, -self.n_predictions:, 0]\n",
    "\n",
    "    def load_data(self):\n",
    "        try:\n",
    "            self.train = np.load(os.path.join(\"data\", \"train\", \"{}.npy\".format(self.id)))\n",
    "            self.test = np.load(os.path.join(\"data\", \"test\", \"{}.npy\".format(self.id)))\n",
    "        except FileNotFoundError as e:\n",
    "            print(e)\n",
    "\n",
    "        self.shape_data(self.train)\n",
    "        self.shape_data(self.test, training=False)"
   ]
  },
  {
   "cell_type": "code",
   "execution_count": 4,
   "metadata": {
    "collapsed": false
   },
   "outputs": [],
   "source": [
    "new_channel = Channel(CHANNEL)\n",
    "new_channel.load_data()"
   ]
  },
  {
   "cell_type": "code",
   "execution_count": 5,
   "metadata": {
    "collapsed": false
   },
   "outputs": [
    {
     "data": {
      "text/plain": [
       "25"
      ]
     },
     "execution_count": 5,
     "metadata": {},
     "output_type": "execute_result"
    }
   ],
   "source": [
    "new_channel.X_train.shape[2]"
   ]
  },
  {
   "cell_type": "code",
   "execution_count": 6,
   "metadata": {
    "collapsed": false
   },
   "outputs": [
    {
     "data": {
      "text/plain": [
       "(7918, 25)"
      ]
     },
     "execution_count": 6,
     "metadata": {},
     "output_type": "execute_result"
    }
   ],
   "source": [
    "new_channel.test.shape"
   ]
  },
  {
   "cell_type": "code",
   "execution_count": 7,
   "metadata": {},
   "outputs": [
    {
     "data": {
      "text/plain": [
       "(7658, 250, 25)"
      ]
     },
     "execution_count": 7,
     "metadata": {},
     "output_type": "execute_result"
    }
   ],
   "source": [
    "new_channel.test.shape\n",
    "new_channel.X_test.shape\n",
    "new_channel.X_test.shape"
   ]
  },
  {
   "cell_type": "code",
   "execution_count": 8,
   "metadata": {},
   "outputs": [
    {
     "data": {
      "text/plain": [
       "array([[-1.,  0.,  0., ...,  0.,  0.,  0.],\n",
       "       [-1.,  0.,  0., ...,  0.,  0.,  0.],\n",
       "       [-1.,  0.,  0., ...,  0.,  0.,  0.],\n",
       "       ...,\n",
       "       [-1.,  0.,  0., ...,  0.,  0.,  0.],\n",
       "       [-1.,  0.,  0., ...,  0.,  0.,  0.],\n",
       "       [-1.,  0.,  0., ...,  0.,  0.,  0.]])"
      ]
     },
     "execution_count": 8,
     "metadata": {},
     "output_type": "execute_result"
    }
   ],
   "source": [
    "new_channel.train"
   ]
  },
  {
   "cell_type": "code",
   "execution_count": 9,
   "metadata": {},
   "outputs": [],
   "source": [
    "class Model:\n",
    "    def __init__(self, channel):\n",
    "        self.chan_id = channel.id\n",
    "        self.y_hat = np.array([])\n",
    "        self.model = None\n",
    "        self.train_new(channel)\n",
    "        \n",
    "\n",
    "    def train_new(self, channel):\n",
    "        cbs = [History(), EarlyStopping(monitor='val_loss',\n",
    "                                        patience=10,\n",
    "                                        min_delta=0.0003,\n",
    "                                        verbose=0)]\n",
    "\n",
    "        self.model = Sequential()\n",
    "\n",
    "        self.model.add(LSTM(\n",
    "            80,\n",
    "            input_shape=(None, channel.X_train.shape[2]),\n",
    "            return_sequences=True))\n",
    "        self.model.add(Dropout(0.3))\n",
    "\n",
    "        self.model.add(LSTM(\n",
    "            80,\n",
    "            return_sequences=False))\n",
    "        self.model.add(Dropout(0.3))\n",
    "\n",
    "        self.model.add(Dense(\n",
    "            channel.n_predictions))\n",
    "        self.model.add(Activation('linear'))\n",
    "\n",
    "        self.model.compile(loss='mse',\n",
    "                           optimizer='adam')\n",
    "\n",
    "        self.model.fit(channel.X_train,\n",
    "                       channel.y_train,\n",
    "                       batch_size=64,\n",
    "                       epochs=35,\n",
    "                       validation_split=0.2,\n",
    "                       callbacks=cbs,\n",
    "                       verbose=True)\n",
    "        \n",
    "    def aggregate_predictions(self, y_hat_batch, method='first'):\n",
    "        agg_y_hat_batch = np.array([])\n",
    "\n",
    "        for t in range(len(y_hat_batch)):\n",
    "\n",
    "            start_idx = t - 10\n",
    "            start_idx = start_idx if start_idx >= 0 else 0\n",
    "\n",
    "            # predictions pertaining to a specific timestep lie along diagonal\n",
    "            y_hat_t = np.flipud(y_hat_batch[start_idx:t+1]).diagonal()\n",
    "\n",
    "            if method == 'first':\n",
    "                agg_y_hat_batch = np.append(agg_y_hat_batch, [y_hat_t[0]])\n",
    "            elif method == 'mean':\n",
    "                agg_y_hat_batch = np.append(agg_y_hat_batch, np.mean(y_hat_t))\n",
    "\n",
    "        agg_y_hat_batch = agg_y_hat_batch.reshape(len(agg_y_hat_batch), 1)\n",
    "        self.y_hat = np.append(self.y_hat, agg_y_hat_batch)\n",
    "              \n",
    "    def batch_predict(self, channel):\n",
    "        num_batches = int((channel.y_test.shape[0] - 250)\n",
    "                          / 70)\n",
    "\n",
    "        for i in range(0, num_batches + 1):\n",
    "            prior_idx = i * 70\n",
    "            idx = (i + 1) * 70\n",
    "\n",
    "            if i + 1 == num_batches + 1:\n",
    "                idx = channel.y_test.shape[0]\n",
    "\n",
    "            X_test_batch = channel.X_test[prior_idx:idx]\n",
    "            y_hat_batch = self.model.predict(X_test_batch)\n",
    "            self.aggregate_predictions(y_hat_batch)\n",
    "\n",
    "        self.y_hat = np.reshape(self.y_hat, (self.y_hat.size,))\n",
    "\n",
    "        channel.y_hat = self.y_hat\n",
    "\n",
    "        return channel\n"
   ]
  },
  {
   "cell_type": "code",
   "execution_count": 10,
   "metadata": {},
   "outputs": [
    {
     "name": "stderr",
     "output_type": "stream",
     "text": [
      "2024-03-16 11:34:06.076717: I tensorflow/core/common_runtime/pluggable_device/pluggable_device_factory.cc:305] Could not identify NUMA node of platform GPU ID 0, defaulting to 0. Your kernel may not have been built with NUMA support.\n",
      "2024-03-16 11:34:06.077027: I tensorflow/core/common_runtime/pluggable_device/pluggable_device_factory.cc:271] Created TensorFlow device (/job:localhost/replica:0/task:0/device:GPU:0 with 0 MB memory) -> physical PluggableDevice (device: 0, name: METAL, pci bus id: <undefined>)\n"
     ]
    },
    {
     "name": "stdout",
     "output_type": "stream",
     "text": [
      "Metal device set to: Apple M1\n",
      "\n",
      "systemMemory: 16.00 GB\n",
      "maxCacheSize: 5.33 GB\n",
      "\n",
      "Epoch 1/35\n"
     ]
    },
    {
     "name": "stderr",
     "output_type": "stream",
     "text": [
      "2024-03-16 11:34:06.965709: W tensorflow/core/platform/profile_utils/cpu_utils.cc:128] Failed to get CPU frequency: 0 Hz\n",
      "2024-03-16 11:34:08.911649: I tensorflow/core/grappler/optimizers/custom_graph_optimizer_registry.cc:113] Plugin optimizer for device_type GPU is enabled.\n",
      "2024-03-16 11:34:09.371922: I tensorflow/core/grappler/optimizers/custom_graph_optimizer_registry.cc:113] Plugin optimizer for device_type GPU is enabled.\n",
      "2024-03-16 11:34:12.307009: I tensorflow/core/grappler/optimizers/custom_graph_optimizer_registry.cc:113] Plugin optimizer for device_type GPU is enabled.\n",
      "2024-03-16 11:34:15.343296: I tensorflow/core/grappler/optimizers/custom_graph_optimizer_registry.cc:113] Plugin optimizer for device_type GPU is enabled.\n",
      "2024-03-16 11:34:53.865671: I tensorflow/core/grappler/optimizers/custom_graph_optimizer_registry.cc:113] Plugin optimizer for device_type GPU is enabled.\n"
     ]
    },
    {
     "name": "stdout",
     "output_type": "stream",
     "text": [
      "1/1 [==============================] - ETA: 0s - loss: 0.9543"
     ]
    },
    {
     "name": "stderr",
     "output_type": "stream",
     "text": [
      "2024-03-16 11:35:31.448594: I tensorflow/core/grappler/optimizers/custom_graph_optimizer_registry.cc:113] Plugin optimizer for device_type GPU is enabled.\n",
      "2024-03-16 11:35:31.611023: I tensorflow/core/grappler/optimizers/custom_graph_optimizer_registry.cc:113] Plugin optimizer for device_type GPU is enabled.\n",
      "2024-03-16 11:35:34.520938: I tensorflow/core/grappler/optimizers/custom_graph_optimizer_registry.cc:113] Plugin optimizer for device_type GPU is enabled.\n"
     ]
    },
    {
     "name": "stdout",
     "output_type": "stream",
     "text": [
      "1/1 [==============================] - 90s 90s/step - loss: 0.9543 - val_loss: 0.8736\n",
      "Epoch 2/35\n",
      "1/1 [==============================] - 0s 345ms/step - loss: 0.8659 - val_loss: 0.7819\n",
      "Epoch 3/35\n",
      "1/1 [==============================] - 0s 327ms/step - loss: 0.7736 - val_loss: 0.6789\n",
      "Epoch 4/35\n",
      "1/1 [==============================] - 0s 325ms/step - loss: 0.6714 - val_loss: 0.5593\n",
      "Epoch 5/35\n",
      "1/1 [==============================] - 0s 326ms/step - loss: 0.5547 - val_loss: 0.4199\n",
      "Epoch 6/35\n",
      "1/1 [==============================] - 0s 326ms/step - loss: 0.4220 - val_loss: 0.2655\n",
      "Epoch 7/35\n",
      "1/1 [==============================] - 0s 328ms/step - loss: 0.2808 - val_loss: 0.1209\n",
      "Epoch 8/35\n",
      "1/1 [==============================] - 0s 326ms/step - loss: 0.1596 - val_loss: 0.0366\n",
      "Epoch 9/35\n",
      "1/1 [==============================] - 0s 325ms/step - loss: 0.1098 - val_loss: 0.0284\n",
      "Epoch 10/35\n",
      "1/1 [==============================] - 0s 323ms/step - loss: 0.1344 - val_loss: 0.0366\n",
      "Epoch 11/35\n",
      "1/1 [==============================] - 0s 326ms/step - loss: 0.1577 - val_loss: 0.0313\n",
      "Epoch 12/35\n",
      "1/1 [==============================] - 0s 326ms/step - loss: 0.1516 - val_loss: 0.0208\n",
      "Epoch 13/35\n",
      "1/1 [==============================] - 0s 328ms/step - loss: 0.1310 - val_loss: 0.0148\n",
      "Epoch 14/35\n",
      "1/1 [==============================] - 0s 327ms/step - loss: 0.1108 - val_loss: 0.0156\n",
      "Epoch 15/35\n",
      "1/1 [==============================] - 0s 326ms/step - loss: 0.0969 - val_loss: 0.0209\n",
      "Epoch 16/35\n",
      "1/1 [==============================] - 0s 326ms/step - loss: 0.0891 - val_loss: 0.0276\n",
      "Epoch 17/35\n",
      "1/1 [==============================] - 0s 328ms/step - loss: 0.0849 - val_loss: 0.0333\n",
      "Epoch 18/35\n",
      "1/1 [==============================] - 0s 326ms/step - loss: 0.0823 - val_loss: 0.0365\n",
      "Epoch 19/35\n",
      "1/1 [==============================] - 0s 327ms/step - loss: 0.0796 - val_loss: 0.0370\n",
      "Epoch 20/35\n",
      "1/1 [==============================] - 0s 326ms/step - loss: 0.0762 - val_loss: 0.0348\n",
      "Epoch 21/35\n",
      "1/1 [==============================] - 0s 326ms/step - loss: 0.0719 - val_loss: 0.0308\n",
      "Epoch 22/35\n",
      "1/1 [==============================] - 0s 328ms/step - loss: 0.0673 - val_loss: 0.0259\n",
      "Epoch 23/35\n",
      "1/1 [==============================] - 0s 328ms/step - loss: 0.0627 - val_loss: 0.0210\n"
     ]
    }
   ],
   "source": [
    "model = Model(new_channel)"
   ]
  },
  {
   "cell_type": "code",
   "execution_count": 11,
   "metadata": {},
   "outputs": [
    {
     "name": "stderr",
     "output_type": "stream",
     "text": [
      "2024-03-16 11:35:45.080560: I tensorflow/core/grappler/optimizers/custom_graph_optimizer_registry.cc:113] Plugin optimizer for device_type GPU is enabled.\n",
      "2024-03-16 11:35:45.224641: I tensorflow/core/grappler/optimizers/custom_graph_optimizer_registry.cc:113] Plugin optimizer for device_type GPU is enabled.\n",
      "2024-03-16 11:35:48.145023: I tensorflow/core/grappler/optimizers/custom_graph_optimizer_registry.cc:113] Plugin optimizer for device_type GPU is enabled.\n"
     ]
    },
    {
     "data": {
      "text/plain": [
       "<__main__.Channel at 0x16d20f190>"
      ]
     },
     "execution_count": 11,
     "metadata": {},
     "output_type": "execute_result"
    }
   ],
   "source": [
    "model.batch_predict(new_channel)"
   ]
  },
  {
   "cell_type": "code",
   "execution_count": 12,
   "metadata": {},
   "outputs": [
    {
     "data": {
      "text/plain": [
       "(7658,)"
      ]
     },
     "execution_count": 12,
     "metadata": {},
     "output_type": "execute_result"
    }
   ],
   "source": [
    "new_channel.y_hat.shape"
   ]
  },
  {
   "cell_type": "code",
   "execution_count": 13,
   "metadata": {},
   "outputs": [
    {
     "data": {
      "text/plain": [
       "[<matplotlib.lines.Line2D at 0x306443ca0>]"
      ]
     },
     "execution_count": 13,
     "metadata": {},
     "output_type": "execute_result"
    },
    {
     "data": {
      "image/png": "[encoded data removed]",
      "text/plain": [
       "<Figure size 432x288 with 1 Axes>"
      ]
     },
     "metadata": {
      "needs_background": "light"
     },
     "output_type": "display_data"
    }
   ],
   "source": [
    "plt.plot(new_channel.y_hat)"
   ]
  },
  {
   "cell_type": "code",
   "execution_count": 14,
   "metadata": {},
   "outputs": [
    {
     "data": {
      "text/plain": [
       "[<matplotlib.lines.Line2D at 0x30653e880>]"
      ]
     },
     "execution_count": 14,
     "metadata": {},
     "output_type": "execute_result"
    },
    {
     "data": {
      "image/png": "[encoded data removed]",
      "text/plain": [
       "<Figure size 432x288 with 1 Axes>"
      ]
     },
     "metadata": {
      "needs_background": "light"
     },
     "output_type": "display_data"
    }
   ],
   "source": [
    "plt.plot(new_channel.test[:, 0])"
   ]
  },
  {
   "cell_type": "code",
   "execution_count": 15,
   "metadata": {},
   "outputs": [],
   "source": [
    "class Plotter:\n",
    "    def __init__(self, channel):\n",
    "        self.channel = channel\n",
    "\n",
    "    def plot_predictions(self, plot_real_data=True):\n",
    "        if plot_real_data:\n",
    "            plt.plot(self.channel.y_test[:, 0])\n",
    "        else:\n",
    "            plt.plot(self.channel.y_hat)\n",
    "\n",
    "        anomalies = pd.read_csv(\"data/labeled_anomalies.csv\")\n",
    "        anomalies = anomalies[anomalies[\"chan_id\"] == self.channel.id]\n",
    "        anomalies_plot = anomalies['anomaly_sequences']\n",
    "        anomalies_plot = eval(anomalies_plot.iloc[0])\n",
    "\n",
    "        for rect in anomalies_plot:\n",
    "            plt.axvspan(rect[0], rect[1], alpha=0.3, color='red')\n",
    "        plt.show()\n",
    "        \n",
    "    \n",
    "    def plot_custom_range_predictions(self, start, end, plot_real_data=True):\n",
    "        if plot_real_data:\n",
    "            plt.plot([i for i in range(start, end)], self.channel.y_test[:, 0][start:end])\n",
    "        else:\n",
    "             plt.plot([i for i in range(start, end)], self.channel.y_hat[start:end])\n",
    "\n",
    "        anomalies = pd.read_csv(\"data/labeled_anomalies.csv\")\n",
    "        anomalies = anomalies[anomalies[\"chan_id\"] == self.channel.id]\n",
    "        anomalies_plot = anomalies['anomaly_sequences']\n",
    "        anomalies_plot = eval(anomalies_plot.iloc[0])\n",
    "\n",
    "        for rect in anomalies_plot:\n",
    "            plt.axvspan(rect[0], rect[1], alpha=0.3, color='red')\n",
    "        plt.show()\n",
    "        \n",
    "    def plot_threshold(self, error, threshold):\n",
    "        plt.figure(figsize=(20,10))\n",
    "        plt.plot(error)\n",
    "        plt.plot([threshold for i in range(len(e_s))])\n",
    "\n",
    "        anomalies = pd.read_csv(\"data/labeled_anomalies.csv\")\n",
    "        anomalies = anomalies[anomalies[\"chan_id\"] == self.channel.id]\n",
    "        anomalies_plot = anomalies['anomaly_sequences']\n",
    "        anomalies_plot = eval(anomalies_plot.iloc[0])\n",
    "\n",
    "        for rect in anomalies_plot:\n",
    "            plt.axvspan(rect[0], rect[1], alpha=0.3, color='red')\n",
    "        plt.show()"
   ]
  },
  {
   "cell_type": "code",
   "execution_count": 16,
   "metadata": {},
   "outputs": [
    {
     "data": {
      "image/png": "[encoded data removed]",
      "text/plain": [
       "<Figure size 432x288 with 1 Axes>"
      ]
     },
     "metadata": {
      "needs_background": "light"
     },
     "output_type": "display_data"
    },
    {
     "data": {
      "image/png": "[encoded data removed]",
      "text/plain": [
       "<Figure size 432x288 with 1 Axes>"
      ]
     },
     "metadata": {
      "needs_background": "light"
     },
     "output_type": "display_data"
    }
   ],
   "source": [
    "plotter = Plotter(new_channel)\n",
    "plotter.plot_predictions()\n",
    "plotter.plot_custom_range_predictions(4000, 5000)"
   ]
  },
  {
   "cell_type": "code",
   "execution_count": 17,
   "metadata": {},
   "outputs": [
    {
     "data": {
      "text/plain": [
       "(0.10286591433949223,\n",
       " array([0.2084865 , 0.2084437 , 0.20841837, ..., 0.65173459, 0.64959651,\n",
       "        0.64638466]))"
      ]
     },
     "execution_count": 17,
     "metadata": {},
     "output_type": "execute_result"
    }
   ],
   "source": [
    "error = np.abs(new_channel.y_test[:, 0] - new_channel.y_hat)\n",
    "normalized = np.mean(error / np.ptp(new_channel.y_test))\n",
    "normalized, error"
   ]
  },
  {
   "cell_type": "code",
   "execution_count": 18,
   "metadata": {},
   "outputs": [
    {
     "data": {
      "text/plain": [
       "array([0.2084865 , 0.2084649 , 0.20844909, ..., 0.41644483, 0.42084392,\n",
       "       0.4250994 ])"
      ]
     },
     "execution_count": 18,
     "metadata": {},
     "output_type": "execute_result"
    }
   ],
   "source": [
    "e_s = pd.DataFrame(error).ewm(span=105).mean().values.flatten()\n",
    "e_s"
   ]
  },
  {
   "cell_type": "code",
   "execution_count": 19,
   "metadata": {},
   "outputs": [],
   "source": [
    "import more_itertools as mit\n",
    "\n",
    "def calculate_epsilon(e_s):\n",
    "    epsilon = 0\n",
    "    max_score = float('-inf')\n",
    "\n",
    "    for i in np.arange(2, 10, 0.5):\n",
    "        mean = np.mean(e_s)\n",
    "        std = np.std(e_s)\n",
    "        eps = mean + i*std\n",
    "\n",
    "        delta_mean = mean - np.mean(e_s[e_s < eps])\n",
    "        delta_std = std - np.std(e_s[e_s < eps])\n",
    "        e_a = e_s[e_s >= eps]\n",
    "\n",
    "        if len(e_a) > 0:\n",
    "            anom = np.argwhere(e_s >= eps).reshape(-1)\n",
    "            anom =[list(g) for g in mit.consecutive_groups(anom)]\n",
    "            E_seq = len(anom)\n",
    "            \n",
    "            score = ((delta_mean/mean) + (delta_std/std)) / (E_seq**2 + len(e_a))\n",
    "            if score > max_score:\n",
    "                max_score = score\n",
    "                epsilon = eps\n",
    "    return epsilon\n",
    "\n",
    "epsilon = calculate_epsilon(e_s)"
   ]
  },
  {
   "cell_type": "code",
   "execution_count": 20,
   "metadata": {},
   "outputs": [],
   "source": [
    "# e_s = pd.DataFrame(error).ewm(span=105).mean().values.flatten()\n",
    "\n",
    "# max_score = -10000000\n",
    "\n",
    "# mean_e_s = np.mean(e_s)\n",
    "# sd_e_s = np.std(e_s)\n",
    "# EPSILON = 0\n",
    "\n",
    "# for z in np.arange(2.5, 12, 0.5):\n",
    "#     epsilon = mean_e_s + (sd_e_s * z)\n",
    "\n",
    "#     pruned_e_s = e_s[e_s < epsilon]\n",
    "\n",
    "#     i_anom = np.argwhere(e_s >= epsilon).reshape(-1,)\n",
    "#     buffer = np.arange(1, 100)\n",
    "#     i_anom = np.sort(np.concatenate((i_anom,\n",
    "#                                     np.array([i+buffer for i in i_anom])\n",
    "#                                         .flatten(),\n",
    "#                                     np.array([i-buffer for i in i_anom])\n",
    "#                                         .flatten())))\n",
    "#     i_anom = i_anom[(i_anom < len(e_s)) & (i_anom >= 0)]\n",
    "#     i_anom = np.sort(np.unique(i_anom))\n",
    "\n",
    "#     if len(i_anom) > 0:\n",
    "#         # group anomalous indices into continuous sequences\n",
    "#         groups = [list(group) for group\n",
    "#                     in mit.consecutive_groups(i_anom)]\n",
    "#         E_seq = [(g[0], g[-1]) for g in groups if not g[0] == g[-1]]\n",
    "\n",
    "#         mean_perc_decrease = (mean_e_s - np.mean(pruned_e_s)) / mean_e_s\n",
    "#         sd_perc_decrease = (sd_e_s - np.std(pruned_e_s)) \\\n",
    "#                                    / sd_e_s\n",
    "#         score = (mean_perc_decrease + sd_perc_decrease) \\\n",
    "#                 / (len(E_seq) ** 2 + len(i_anom))\n",
    "\n",
    "#         # sanity checks / guardrails\n",
    "#         if score >= max_score and len(E_seq) <= 5 and \\\n",
    "#                 len(i_anom) < (len(e_s) * 0.5):\n",
    "#             max_score = score\n",
    "\n",
    "#             sd_threshold = z\n",
    "#             EPSILON = mean_e_s + z * sd_e_s\n",
    "# epsilon = EPSILON"
   ]
  },
  {
   "cell_type": "code",
   "execution_count": 21,
   "metadata": {},
   "outputs": [
    {
     "data": {
      "image/png": "[encoded data removed]",
      "text/plain": [
       "<Figure size 1440x720 with 1 Axes>"
      ]
     },
     "metadata": {
      "needs_background": "light"
     },
     "output_type": "display_data"
    }
   ],
   "source": [
    "plotter.plot_threshold(e_s, epsilon)"
   ]
  },
  {
   "cell_type": "code",
   "execution_count": 22,
   "metadata": {},
   "outputs": [],
   "source": [
    "class Errors:\n",
    "    def __init__(self, channel):\n",
    "        self.channel = channel\n",
    "        self.error = np.abs(channel.y_test[:, 0] - channel.y_hat)\n",
    "        self.normalized = np.mean(self.error / np.ptp(channel.y_test))\n",
    "        self.e_s = pd.DataFrame(self.error).ewm(span=105).mean().values.flatten()\n",
    "\n",
    "    def calculate_epsilon(self):\n",
    "        epsilon = 0\n",
    "        max_score = float('-inf')\n",
    "\n",
    "        for i in np.arange(2, 10, 0.5):\n",
    "            mean = np.mean(self.e_s)\n",
    "            std = np.std(self.e_s)\n",
    "            eps = mean + i*std\n",
    "            e_s = self.e_s\n",
    "\n",
    "            delta_mean = mean - np.mean(e_s[e_s < eps])\n",
    "            delta_std = std - np.std(e_s[e_s < eps])\n",
    "            e_a = e_s[e_s >= eps]\n",
    "\n",
    "            if len(e_a) > 0:\n",
    "                anom = np.argwhere(e_s >= eps).reshape(-1)\n",
    "                anom =[list(g) for g in mit.consecutive_groups(anom)]\n",
    "                E_seq = len(anom)\n",
    "                \n",
    "                score = ((delta_mean/mean) + (delta_std/std)) / (E_seq**2 + len(e_a))\n",
    "                if score > max_score:\n",
    "                    max_score = score\n",
    "                    epsilon = eps\n",
    "        return epsilon"
   ]
  },
  {
   "cell_type": "code",
   "execution_count": 23,
   "metadata": {},
   "outputs": [
    {
     "data": {
      "text/plain": [
       "0.38401276009148455"
      ]
     },
     "execution_count": 23,
     "metadata": {},
     "output_type": "execute_result"
    }
   ],
   "source": [
    "errors = Errors(new_channel)\n",
    "epsilon = errors.calculate_epsilon()\n",
    "epsilon"
   ]
  },
  {
   "cell_type": "code",
   "execution_count": 24,
   "metadata": {},
   "outputs": [
    {
     "data": {
      "image/png": "[encoded data removed]",
      "text/plain": [
       "<Figure size 1440x720 with 1 Axes>"
      ]
     },
     "metadata": {
      "needs_background": "light"
     },
     "output_type": "display_data"
    }
   ],
   "source": [
    "plotter.plot_threshold(errors.e_s, epsilon)"
   ]
  }
 ],
 "metadata": {
  "kernelspec": {
   "display_name": "abm",
   "language": "python",
   "name": "python3"
  },
  "language_info": {
   "codemirror_mode": {
    "name": "ipython",
    "version": 3
   },
   "file_extension": ".py",
   "mimetype": "text/x-python",
   "name": "python",
   "nbconvert_exporter": "python",
   "pygments_lexer": "ipython3",
   "version": "3.9.12"
  }
 },
 "nbformat": 4,
 "nbformat_minor": 2
}
