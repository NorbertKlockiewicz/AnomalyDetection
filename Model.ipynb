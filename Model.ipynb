{
 "cells": [
  {
   "cell_type": "markdown",
   "metadata": {},
   "source": [
    "## Anomaly Detection - Project\n",
    "### Authors: Norbert Klockiewicz, Kacper Majchrzak, Patryk Kożuch\n",
    "\n",
    "#### Based on: <a href=\"https://arxiv.org/pdf/1802.04431.pdf\">Detecting Spacecraft Anomalies Using LSTMs and Nonparametric Dynamic Thresholding</a>"
   ]
  },
  {
   "cell_type": "markdown",
   "metadata": {},
   "source": [
    "Imports"
   ]
  },
  {
   "cell_type": "code",
   "execution_count": 1,
   "metadata": {},
   "outputs": [],
   "source": [
    "import numpy as np\n",
    "import os\n",
    "import matplotlib.pyplot as plt\n",
    "import pandas as pd\n",
    "import more_itertools as mit\n",
    "from keras.models import Sequential, load_model\n",
    "from keras.callbacks import History, EarlyStopping\n",
    "from keras.layers import Dense, Activation, Dropout, LSTM"
   ]
  },
  {
   "cell_type": "code",
   "execution_count": 2,
   "metadata": {},
   "outputs": [],
   "source": [
    "CHANNEL = \"A-1\""
   ]
  },
  {
   "cell_type": "markdown",
   "metadata": {},
   "source": [
    "### Class channel - load and prepare data to train model"
   ]
  },
  {
   "cell_type": "code",
   "execution_count": 3,
   "metadata": {
    "collapsed": false
   },
   "outputs": [],
   "source": [
    "class Channel:\n",
    "    def __init__(self, chan_id):\n",
    "        self.id = chan_id\n",
    "        self.train = None\n",
    "        self.test = None\n",
    "        self.l_s = 250\n",
    "        self.n_predictions = 10\n",
    "        self.X_train = None\n",
    "        self.y_train = None\n",
    "        self.X_test = None\n",
    "        self.y_test = None\n",
    "        self.y_hat = None\n",
    "\n",
    "    def shape_data(self, arr, training=True):\n",
    "        data = []\n",
    "        for i in range(len(arr) - self.l_s - self.n_predictions):\n",
    "            data.append(arr[i: i + self.l_s + self.n_predictions])\n",
    "            \n",
    "        data = np.array(data)\n",
    "\n",
    "        if training:\n",
    "            np.random.shuffle(data)\n",
    "            self.X_train = data[:, :-self.n_predictions, :]\n",
    "            self.y_train = data[:, -self.n_predictions:, 0]\n",
    "        else:\n",
    "            self.X_test = data[:, :-self.n_predictions, :]\n",
    "            self.y_test = data[:, -self.n_predictions:, 0]\n",
    "\n",
    "    def load_data(self):\n",
    "        try:\n",
    "            self.train = np.load(os.path.join(\"data\", \"train\", \"{}.npy\".format(self.id)))\n",
    "            self.test = np.load(os.path.join(\"data\", \"test\", \"{}.npy\".format(self.id)))\n",
    "        except FileNotFoundError as e:\n",
    "            print(e)\n",
    "\n",
    "        self.shape_data(self.train)\n",
    "        self.shape_data(self.test, training=False)"
   ]
  },
  {
   "cell_type": "code",
   "execution_count": 4,
   "metadata": {
    "collapsed": false
   },
   "outputs": [],
   "source": [
    "new_channel = Channel(CHANNEL)\n",
    "new_channel.load_data()"
   ]
  },
  {
   "cell_type": "markdown",
   "metadata": {},
   "source": [
    "### Class Model - create and train recurrent neural network"
   ]
  },
  {
   "cell_type": "code",
   "execution_count": 5,
   "metadata": {},
   "outputs": [],
   "source": [
    "class Model:\n",
    "    def __init__(self, channel):\n",
    "        self.chan_id = channel.id\n",
    "        self.y_hat = np.array([])\n",
    "        self.model = None\n",
    "        self.train_new(channel)\n",
    "        \n",
    "\n",
    "    def train_new(self, channel):\n",
    "        cbs = [History(), EarlyStopping(monitor='val_loss',\n",
    "                                        patience=10,\n",
    "                                        min_delta=0.0003,\n",
    "                                        verbose=0)]\n",
    "\n",
    "        self.model = Sequential()\n",
    "\n",
    "        self.model.add(LSTM(\n",
    "            80,\n",
    "            input_shape=(None, channel.X_train.shape[2]),\n",
    "            return_sequences=True))\n",
    "        self.model.add(Dropout(0.3))\n",
    "\n",
    "        self.model.add(LSTM(\n",
    "            80,\n",
    "            return_sequences=False))\n",
    "        self.model.add(Dropout(0.3))\n",
    "\n",
    "        self.model.add(Dense(\n",
    "            channel.n_predictions))\n",
    "        self.model.add(Activation('linear'))\n",
    "\n",
    "        self.model.compile(loss='mse',\n",
    "                           optimizer='adam')\n",
    "\n",
    "        self.model.fit(channel.X_train,\n",
    "                       channel.y_train,\n",
    "                       batch_size=64,\n",
    "                       epochs=35,\n",
    "                       validation_split=0.2,\n",
    "                       callbacks=cbs,\n",
    "                       verbose=True)\n",
    "        \n",
    "    def aggregate_predictions(self, y_hat_batch, method='first'):\n",
    "        agg_y_hat_batch = np.array([])\n",
    "\n",
    "        for t in range(len(y_hat_batch)):\n",
    "\n",
    "            start_idx = t - 10\n",
    "            start_idx = start_idx if start_idx >= 0 else 0\n",
    "\n",
    "            # predictions pertaining to a specific timestep lie along diagonal\n",
    "            y_hat_t = np.flipud(y_hat_batch[start_idx:t+1]).diagonal()\n",
    "\n",
    "            if method == 'first':\n",
    "                agg_y_hat_batch = np.append(agg_y_hat_batch, [y_hat_t[0]])\n",
    "            elif method == 'mean':\n",
    "                agg_y_hat_batch = np.append(agg_y_hat_batch, np.mean(y_hat_t))\n",
    "\n",
    "        agg_y_hat_batch = agg_y_hat_batch.reshape(len(agg_y_hat_batch), 1)\n",
    "        self.y_hat = np.append(self.y_hat, agg_y_hat_batch)\n",
    "              \n",
    "    def batch_predict(self, channel):\n",
    "        num_batches = int((channel.y_test.shape[0] - 250)\n",
    "                          / 70)\n",
    "\n",
    "        for i in range(0, num_batches + 1):\n",
    "            prior_idx = i * 70\n",
    "            idx = (i + 1) * 70\n",
    "\n",
    "            if i + 1 == num_batches + 1:\n",
    "                idx = channel.y_test.shape[0]\n",
    "\n",
    "            X_test_batch = channel.X_test[prior_idx:idx]\n",
    "            y_hat_batch = self.model.predict(X_test_batch)\n",
    "            self.aggregate_predictions(y_hat_batch)\n",
    "\n",
    "        self.y_hat = np.reshape(self.y_hat, (self.y_hat.size,))\n",
    "\n",
    "        channel.y_hat = self.y_hat\n",
    "\n",
    "        return channel\n"
   ]
  },
  {
   "cell_type": "code",
   "execution_count": 6,
   "metadata": {},
   "outputs": [
    {
     "name": "stdout",
     "output_type": "stream",
     "text": [
      "Metal device set to: Apple M1\n",
      "\n",
      "systemMemory: 16.00 GB\n",
      "maxCacheSize: 5.33 GB\n",
      "\n"
     ]
    },
    {
     "name": "stderr",
     "output_type": "stream",
     "text": [
      "2024-03-16 14:31:32.164807: I tensorflow/core/common_runtime/pluggable_device/pluggable_device_factory.cc:305] Could not identify NUMA node of platform GPU ID 0, defaulting to 0. Your kernel may not have been built with NUMA support.\n",
      "2024-03-16 14:31:32.165212: I tensorflow/core/common_runtime/pluggable_device/pluggable_device_factory.cc:271] Created TensorFlow device (/job:localhost/replica:0/task:0/device:GPU:0 with 0 MB memory) -> physical PluggableDevice (device: 0, name: METAL, pci bus id: <undefined>)\n"
     ]
    },
    {
     "name": "stdout",
     "output_type": "stream",
     "text": [
      "Epoch 1/35\n"
     ]
    },
    {
     "name": "stderr",
     "output_type": "stream",
     "text": [
      "2024-03-16 14:31:32.799659: W tensorflow/core/platform/profile_utils/cpu_utils.cc:128] Failed to get CPU frequency: 0 Hz\n",
      "2024-03-16 14:31:34.242282: I tensorflow/core/grappler/optimizers/custom_graph_optimizer_registry.cc:113] Plugin optimizer for device_type GPU is enabled.\n",
      "2024-03-16 14:31:34.549902: I tensorflow/core/grappler/optimizers/custom_graph_optimizer_registry.cc:113] Plugin optimizer for device_type GPU is enabled.\n",
      "2024-03-16 14:31:36.608137: I tensorflow/core/grappler/optimizers/custom_graph_optimizer_registry.cc:113] Plugin optimizer for device_type GPU is enabled.\n",
      "2024-03-16 14:31:38.657412: I tensorflow/core/grappler/optimizers/custom_graph_optimizer_registry.cc:113] Plugin optimizer for device_type GPU is enabled.\n",
      "2024-03-16 14:32:03.231669: I tensorflow/core/grappler/optimizers/custom_graph_optimizer_registry.cc:113] Plugin optimizer for device_type GPU is enabled.\n"
     ]
    },
    {
     "name": "stdout",
     "output_type": "stream",
     "text": [
      "33/33 [==============================] - ETA: 0s - loss: 0.2626"
     ]
    },
    {
     "name": "stderr",
     "output_type": "stream",
     "text": [
      "2024-03-16 14:33:32.589823: I tensorflow/core/grappler/optimizers/custom_graph_optimizer_registry.cc:113] Plugin optimizer for device_type GPU is enabled.\n",
      "2024-03-16 14:33:32.739358: I tensorflow/core/grappler/optimizers/custom_graph_optimizer_registry.cc:113] Plugin optimizer for device_type GPU is enabled.\n",
      "2024-03-16 14:33:35.008323: I tensorflow/core/grappler/optimizers/custom_graph_optimizer_registry.cc:113] Plugin optimizer for device_type GPU is enabled.\n"
     ]
    },
    {
     "name": "stdout",
     "output_type": "stream",
     "text": [
      "33/33 [==============================] - 129s 2s/step - loss: 0.2626 - val_loss: 0.0077\n",
      "Epoch 2/35\n",
      "33/33 [==============================] - 6s 192ms/step - loss: 0.0390 - val_loss: 0.0020\n",
      "Epoch 3/35\n",
      "33/33 [==============================] - 5s 159ms/step - loss: 0.0236 - val_loss: 0.0015\n",
      "Epoch 4/35\n",
      "33/33 [==============================] - 5s 164ms/step - loss: 0.0170 - val_loss: 0.0011\n",
      "Epoch 5/35\n",
      "33/33 [==============================] - 5s 160ms/step - loss: 0.0126 - val_loss: 0.0012\n",
      "Epoch 6/35\n",
      "33/33 [==============================] - 5s 160ms/step - loss: 0.0088 - val_loss: 0.0021\n",
      "Epoch 7/35\n",
      "33/33 [==============================] - 5s 160ms/step - loss: 0.0059 - val_loss: 0.0029\n",
      "Epoch 8/35\n",
      "33/33 [==============================] - 5s 161ms/step - loss: 0.0041 - val_loss: 9.1889e-04\n",
      "Epoch 9/35\n",
      "33/33 [==============================] - 7s 211ms/step - loss: 0.0028 - val_loss: 9.3148e-04\n",
      "Epoch 10/35\n",
      "33/33 [==============================] - 6s 193ms/step - loss: 0.0020 - val_loss: 8.6401e-04\n",
      "Epoch 11/35\n",
      "33/33 [==============================] - 5s 162ms/step - loss: 0.0015 - val_loss: 6.1738e-04\n",
      "Epoch 12/35\n",
      "33/33 [==============================] - 5s 166ms/step - loss: 0.0012 - val_loss: 5.1119e-04\n",
      "Epoch 13/35\n",
      "33/33 [==============================] - 5s 160ms/step - loss: 9.4110e-04 - val_loss: 5.8579e-04\n",
      "Epoch 14/35\n",
      "33/33 [==============================] - 5s 161ms/step - loss: 8.0455e-04 - val_loss: 5.5655e-04\n",
      "Epoch 15/35\n",
      "33/33 [==============================] - 5s 162ms/step - loss: 6.8458e-04 - val_loss: 4.7499e-04\n",
      "Epoch 16/35\n",
      "33/33 [==============================] - 5s 160ms/step - loss: 5.9158e-04 - val_loss: 3.9902e-04\n",
      "Epoch 17/35\n",
      "33/33 [==============================] - 5s 163ms/step - loss: 5.1640e-04 - val_loss: 2.7932e-04\n",
      "Epoch 18/35\n",
      "33/33 [==============================] - 5s 160ms/step - loss: 4.5070e-04 - val_loss: 2.2485e-04\n",
      "Epoch 19/35\n",
      "33/33 [==============================] - 5s 162ms/step - loss: 4.0694e-04 - val_loss: 2.4712e-04\n",
      "Epoch 20/35\n",
      "33/33 [==============================] - 5s 161ms/step - loss: 3.6658e-04 - val_loss: 2.1693e-04\n",
      "Epoch 21/35\n",
      "33/33 [==============================] - 5s 161ms/step - loss: 3.3900e-04 - val_loss: 1.7761e-04\n",
      "Epoch 22/35\n",
      "33/33 [==============================] - 5s 162ms/step - loss: 3.0826e-04 - val_loss: 1.8581e-04\n",
      "Epoch 23/35\n",
      "33/33 [==============================] - 5s 163ms/step - loss: 2.8508e-04 - val_loss: 1.8404e-04\n",
      "Epoch 24/35\n",
      "33/33 [==============================] - 5s 161ms/step - loss: 2.6292e-04 - val_loss: 1.6390e-04\n",
      "Epoch 25/35\n",
      "33/33 [==============================] - 5s 160ms/step - loss: 2.4475e-04 - val_loss: 1.9124e-04\n",
      "Epoch 26/35\n",
      "33/33 [==============================] - 5s 160ms/step - loss: 2.2408e-04 - val_loss: 1.1883e-04\n",
      "Epoch 27/35\n",
      "33/33 [==============================] - 5s 160ms/step - loss: 2.1243e-04 - val_loss: 1.2106e-04\n"
     ]
    }
   ],
   "source": [
    "model = Model(new_channel)"
   ]
  },
  {
   "cell_type": "code",
   "execution_count": 7,
   "metadata": {},
   "outputs": [
    {
     "name": "stderr",
     "output_type": "stream",
     "text": [
      "2024-03-16 14:36:04.036061: I tensorflow/core/grappler/optimizers/custom_graph_optimizer_registry.cc:113] Plugin optimizer for device_type GPU is enabled.\n",
      "2024-03-16 14:36:04.134858: I tensorflow/core/grappler/optimizers/custom_graph_optimizer_registry.cc:113] Plugin optimizer for device_type GPU is enabled.\n",
      "2024-03-16 14:36:06.021571: I tensorflow/core/grappler/optimizers/custom_graph_optimizer_registry.cc:113] Plugin optimizer for device_type GPU is enabled.\n"
     ]
    },
    {
     "data": {
      "text/plain": [
       "<__main__.Channel at 0x179bb1fa0>"
      ]
     },
     "execution_count": 7,
     "metadata": {},
     "output_type": "execute_result"
    }
   ],
   "source": [
    "model.batch_predict(new_channel)"
   ]
  },
  {
   "cell_type": "code",
   "execution_count": 8,
   "metadata": {},
   "outputs": [
    {
     "data": {
      "text/plain": [
       "[<matplotlib.lines.Line2D at 0x391eaf3a0>]"
      ]
     },
     "execution_count": 8,
     "metadata": {},
     "output_type": "execute_result"
    },
    {
     "data": {
      "image/png": "[encoded data removed]",
      "text/plain": [
       "<Figure size 1080x360 with 2 Axes>"
      ]
     },
     "metadata": {
      "needs_background": "light"
     },
     "output_type": "display_data"
    }
   ],
   "source": [
    "fig, ax = plt.subplots(1, 2)\n",
    "\n",
    "fig.set_size_inches(15, 5)\n",
    "\n",
    "fig.suptitle(\"Actuals vs Predictions\")\n",
    "\n",
    "ax[0].plot(new_channel.y_test[:, 0])\n",
    "\n",
    "ax[1].plot(new_channel.y_hat)"
   ]
  },
  {
   "cell_type": "markdown",
   "metadata": {},
   "source": [
    "### Class Plotter - visualize input data, predictions and errors"
   ]
  },
  {
   "cell_type": "code",
   "execution_count": 9,
   "metadata": {},
   "outputs": [],
   "source": [
    "class Plotter:\n",
    "    def __init__(self, channel):\n",
    "        self.channel = channel\n",
    "\n",
    "    def plot_predictions(self, plot_real_data=True):\n",
    "        if plot_real_data:\n",
    "            plt.plot(self.channel.y_test[:, 0])\n",
    "        else:\n",
    "            plt.plot(self.channel.y_hat)\n",
    "\n",
    "        anomalies = pd.read_csv(\"data/labeled_anomalies.csv\")\n",
    "        anomalies = anomalies[anomalies[\"chan_id\"] == self.channel.id]\n",
    "        anomalies_plot = anomalies['anomaly_sequences']\n",
    "        anomalies_plot = eval(anomalies_plot.iloc[0])\n",
    "\n",
    "        for rect in anomalies_plot:\n",
    "            plt.axvspan(rect[0], rect[1], alpha=0.3, color='red')\n",
    "        plt.show()\n",
    "        \n",
    "    \n",
    "    def plot_custom_range_predictions(self, start, end, plot_real_data=True):\n",
    "        if plot_real_data:\n",
    "            plt.plot([i for i in range(start, end)], self.channel.y_test[:, 0][start:end])\n",
    "        else:\n",
    "             plt.plot([i for i in range(start, end)], self.channel.y_hat[start:end])\n",
    "\n",
    "        anomalies = pd.read_csv(\"data/labeled_anomalies.csv\")\n",
    "        anomalies = anomalies[anomalies[\"chan_id\"] == self.channel.id]\n",
    "        anomalies_plot = anomalies['anomaly_sequences']\n",
    "        anomalies_plot = eval(anomalies_plot.iloc[0])\n",
    "\n",
    "        for rect in anomalies_plot:\n",
    "            plt.axvspan(rect[0], rect[1], alpha=0.3, color='red')\n",
    "        plt.show()\n",
    "        \n",
    "    def plot_threshold(self, error, threshold):\n",
    "        plt.figure(figsize=(20,10))\n",
    "        plt.plot(error)\n",
    "        plt.plot([threshold for i in range(len(error))])\n",
    "\n",
    "        anomalies = pd.read_csv(\"data/labeled_anomalies.csv\")\n",
    "        anomalies = anomalies[anomalies[\"chan_id\"] == self.channel.id]\n",
    "        anomalies_plot = anomalies['anomaly_sequences']\n",
    "        anomalies_plot = eval(anomalies_plot.iloc[0])\n",
    "\n",
    "        for rect in anomalies_plot:\n",
    "            plt.axvspan(rect[0], rect[1], alpha=0.3, color='red')\n",
    "        plt.show()"
   ]
  },
  {
   "cell_type": "code",
   "execution_count": 10,
   "metadata": {},
   "outputs": [
    {
     "data": {
      "image/png": "[encoded data removed]",
      "text/plain": [
       "<Figure size 432x288 with 1 Axes>"
      ]
     },
     "metadata": {
      "needs_background": "light"
     },
     "output_type": "display_data"
    },
    {
     "data": {
      "image/png": "[encoded data removed]",
      "text/plain": [
       "<Figure size 432x288 with 1 Axes>"
      ]
     },
     "metadata": {
      "needs_background": "light"
     },
     "output_type": "display_data"
    }
   ],
   "source": [
    "plotter = Plotter(new_channel)\n",
    "plotter.plot_predictions()\n",
    "plotter.plot_custom_range_predictions(4000, 5000)"
   ]
  },
  {
   "cell_type": "markdown",
   "metadata": {},
   "source": [
    "### Calculate error between real and predicted data, create smoothed error"
   ]
  },
  {
   "cell_type": "code",
   "execution_count": 25,
   "metadata": {},
   "outputs": [],
   "source": [
    "class ErrorWindow:\n",
    "    def __init__(self, channel, e_s, window_size, window_number):\n",
    "        self.channel = channel\n",
    "        self.e_s = e_s\n",
    "        self.window_num = window_number\n",
    "        self.window_size = window_size\n",
    "        self.E_seq = np.array([])\n",
    "        \n",
    "        self.mean = np.mean(self.e_s)\n",
    "        self.std = np.std(self.e_s)\n",
    "        self.epsilon = self.mean + 12 * self.std\n",
    "        self.indices_anomalies = np.array([])\n",
    "        # self.non_anom_max = np.max(self.e_s[self.e_s < self.epsilon])\n",
    "\n",
    "    def calculate_epsilon(self):\n",
    "        epsilon = 0\n",
    "        max_score = float('-inf')\n",
    "\n",
    "        for z in np.arange(2, 10, 0.5):\n",
    "            epsilon = self.mean + (self.std * z)\n",
    "\n",
    "            delta_mean = self.mean - np.mean(self.e_s[self.e_s < epsilon])\n",
    "            delta_std = self.std - np.std(self.e_s[self.e_s < epsilon])\n",
    "            e_a = self.e_s[self.e_s >= epsilon]\n",
    "\n",
    "            if len(e_a) > 0:\n",
    "                anom = np.argwhere(self.e_s >= epsilon).reshape(-1)\n",
    "                E_seq =[list(g) for g in mit.consecutive_groups(anom)]\n",
    "                E_seq_len = len(anom)\n",
    "                \n",
    "                score = ((delta_mean/self.mean) + (delta_std/self.std)) / (E_seq_len**2 + len(e_a))\n",
    "                if score > max_score:\n",
    "                    max_score = score\n",
    "                    self.epsilon = epsilon\n",
    "                    self.E_seq = E_seq\n",
    "                    self.indices_anomalies = anom\n",
    "                    # self.non_anom_max = np.max(self.e_s[self.e_s < self.epsilon])\n",
    "        return epsilon"
   ]
  },
  {
   "cell_type": "code",
   "execution_count": 43,
   "metadata": {},
   "outputs": [],
   "source": [
    "class Errors:\n",
    "    def __init__(self, channel):\n",
    "        self.channel = channel\n",
    "        self.error = np.abs(channel.y_test[:, 0] - channel.y_hat)\n",
    "        self.normalized = np.mean(self.error / np.ptp(channel.y_test))\n",
    "        self.e_s = pd.DataFrame(self.error).ewm(span=105).mean().values.flatten()\n",
    "\n",
    "        self.window_size = 30\n",
    "        self.batch_size = 70\n",
    "\n",
    "        self.n_windows = int((channel.y_test.shape[0] - (self.batch_size * self.window_size)) / self.batch_size)\n",
    "        self.epsilons = []\n",
    "\n",
    "\n",
    "    def detect_anomalies(self):\n",
    "\n",
    "        for i in range(self.n_windows + 1):\n",
    "            prior_idx = i * self.batch_size\n",
    "            idx = self.window_size * self.batch_size + prior_idx\n",
    "\n",
    "            window = ErrorWindow(self.channel, self.e_s[prior_idx:idx], self.window_size, i)\n",
    "            self.epsilons.append(window.calculate_epsilon())"
   ]
  },
  {
   "cell_type": "code",
   "execution_count": 44,
   "metadata": {},
   "outputs": [],
   "source": [
    "errors = Errors(new_channel)\n",
    "errors.detect_anomalies()\n",
    "epsilons = errors.epsilons"
   ]
  },
  {
   "cell_type": "code",
   "execution_count": 1,
   "metadata": {},
   "outputs": [
    {
     "ename": "NameError",
     "evalue": "name 'plt' is not defined",
     "output_type": "error",
     "traceback": [
      "\u001b[0;31m---------------------------------------------------------------------------\u001b[0m",
      "\u001b[0;31mNameError\u001b[0m                                 Traceback (most recent call last)",
      "Input \u001b[0;32mIn [1]\u001b[0m, in \u001b[0;36m<cell line: 1>\u001b[0;34m()\u001b[0m\n\u001b[0;32m----> 1\u001b[0m \u001b[43mplt\u001b[49m\u001b[38;5;241m.\u001b[39mplot(epsilons)\n\u001b[1;32m      2\u001b[0m plt\u001b[38;5;241m.\u001b[39mshow()\n\u001b[1;32m      3\u001b[0m plotter\u001b[38;5;241m.\u001b[39mplot_threshold(errors\u001b[38;5;241m.\u001b[39me_s, np\u001b[38;5;241m.\u001b[39mmedian(epsilons))\n",
      "\u001b[0;31mNameError\u001b[0m: name 'plt' is not defined"
     ]
    }
   ],
   "source": [
    "plt.plot(epsilons)\n",
    "plt.show()\n",
    "plotter.plot_threshold(errors.e_s, np.median(epsilons))\n",
    "print(epsilons)\n",
    "plt.show(  )\n",
    "plotter.plot_predictions()"
   ]
  },
  {
   "cell_type": "code",
   "execution_count": null,
   "metadata": {},
   "outputs": [],
   "source": []
  }
 ],
 "metadata": {
  "kernelspec": {
   "display_name": "abm",
   "language": "python",
   "name": "python3"
  },
  "language_info": {
   "codemirror_mode": {
    "name": "ipython",
    "version": 3
   },
   "file_extension": ".py",
   "mimetype": "text/x-python",
   "name": "python",
   "nbconvert_exporter": "python",
   "pygments_lexer": "ipython3",
   "version": "3.9.12"
  }
 },
 "nbformat": 4,
 "nbformat_minor": 2
}
