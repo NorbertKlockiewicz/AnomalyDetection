{
 "cells": [
  {
   "cell_type": "markdown",
   "metadata": {},
   "source": [
    "## Anomaly Detection - Project\n",
    "\n",
    "### Authors: Norbert Klockiewicz, Kacper Majchrzak, Patryk Kożuch\n",
    "\n",
    "#### Based on: <a href=\"https://arxiv.org/pdf/1802.04431.pdf\">Detecting Spacecraft Anomalies Using LSTMs and Nonparametric Dynamic Thresholding</a>\n"
   ]
  },
  {
   "cell_type": "markdown",
   "metadata": {},
   "source": [
    "Imports\n"
   ]
  },
  {
   "cell_type": "code",
   "execution_count": 13,
   "metadata": {
    "ExecuteTime": {
     "end_time": "2024-03-16T14:29:56.647423Z",
     "start_time": "2024-03-16T14:29:56.618358Z"
    }
   },
   "outputs": [],
   "source": [
    "import numpy as np\n",
    "import os\n",
    "import matplotlib.pyplot as plt\n",
    "import pandas as pd\n",
    "import more_itertools as mit\n",
    "from keras.models import Sequential\n",
    "from keras.callbacks import History, EarlyStopping\n",
    "from keras.layers import Dense, Activation, Dropout, LSTM"
   ]
  },
  {
   "cell_type": "code",
   "execution_count": 14,
   "metadata": {
    "ExecuteTime": {
     "end_time": "2024-03-16T14:29:56.664809Z",
     "start_time": "2024-03-16T14:29:56.650375Z"
    }
   },
   "outputs": [],
   "source": [
    "CHANNEL = \"D-13\""
   ]
  },
  {
   "cell_type": "markdown",
   "metadata": {},
   "source": [
    "### Class channel - load and prepare data to train model\n"
   ]
  },
  {
   "cell_type": "code",
   "execution_count": 15,
   "metadata": {
    "ExecuteTime": {
     "end_time": "2024-03-16T14:29:56.666169Z",
     "start_time": "2024-03-16T14:29:56.657681Z"
    },
    "collapsed": false
   },
   "outputs": [],
   "source": [
    "class Channel:\n",
    "    def __init__(self, chan_id):\n",
    "        self.id = chan_id\n",
    "        self.train = None\n",
    "        self.test = None\n",
    "        self.l_s = 250\n",
    "        self.n_predictions = 10\n",
    "        self.X_train = None\n",
    "        self.y_train = None\n",
    "        self.X_test = None\n",
    "        self.y_test = None\n",
    "        self.y_hat = None\n",
    "\n",
    "    def shape_data(self, arr, training=True):\n",
    "        data = []\n",
    "        for i in range(len(arr) - self.l_s - self.n_predictions):\n",
    "            data.append(arr[i: i + self.l_s + self.n_predictions])\n",
    "            \n",
    "        data = np.array(data)\n",
    "\n",
    "        if training:\n",
    "            np.random.shuffle(data)\n",
    "            self.X_train = data[:, :-self.n_predictions, :]\n",
    "            self.y_train = data[:, -self.n_predictions:, 0]\n",
    "        else:\n",
    "            self.X_test = data[:, :-self.n_predictions, :]\n",
    "            self.y_test = data[:, -self.n_predictions:, 0]\n",
    "\n",
    "    def load_data(self):\n",
    "        try:\n",
    "            self.train = np.load(os.path.join(\"data\", \"train\", \"{}.npy\".format(self.id)))\n",
    "            self.test = np.load(os.path.join(\"data\", \"test\", \"{}.npy\".format(self.id)))\n",
    "        except FileNotFoundError as e:\n",
    "            print(e)\n",
    "\n",
    "        self.shape_data(self.train)\n",
    "        self.shape_data(self.test, training=False)"
   ]
  },
  {
   "cell_type": "code",
   "execution_count": 16,
   "metadata": {
    "ExecuteTime": {
     "end_time": "2024-03-16T14:29:56.783369Z",
     "start_time": "2024-03-16T14:29:56.663905Z"
    },
    "collapsed": false
   },
   "outputs": [],
   "source": [
    "new_channel = Channel(CHANNEL)\n",
    "new_channel.load_data()"
   ]
  },
  {
   "cell_type": "markdown",
   "metadata": {},
   "source": [
    "### Class Model - create and train recurrent neural network\n"
   ]
  },
  {
   "cell_type": "code",
   "execution_count": 17,
   "metadata": {
    "ExecuteTime": {
     "end_time": "2024-03-16T14:29:56.804057Z",
     "start_time": "2024-03-16T14:29:56.782811Z"
    }
   },
   "outputs": [],
   "source": [
    "class Model:\n",
    "    def __init__(self, channel):\n",
    "        self.chan_id = channel.id\n",
    "        self.y_hat = np.array([])\n",
    "        self.model = None\n",
    "        self.train_new(channel)\n",
    "        \n",
    "\n",
    "    def train_new(self, channel):\n",
    "        cbs = [History(), EarlyStopping(monitor='val_loss',\n",
    "                                        patience=10,\n",
    "                                        min_delta=0.0003,\n",
    "                                        verbose=0)]\n",
    "\n",
    "        self.model = Sequential()\n",
    "\n",
    "        self.model.add(LSTM(\n",
    "            80,\n",
    "            input_shape=(None, channel.X_train.shape[2]),\n",
    "            return_sequences=True))\n",
    "        self.model.add(Dropout(0.3))\n",
    "\n",
    "        self.model.add(LSTM(\n",
    "            80,\n",
    "            return_sequences=False))\n",
    "        self.model.add(Dropout(0.3))\n",
    "\n",
    "        self.model.add(Dense(\n",
    "            channel.n_predictions))\n",
    "        self.model.add(Activation('linear'))\n",
    "\n",
    "        self.model.compile(loss='mse',\n",
    "                           optimizer='adam')\n",
    "\n",
    "        self.model.fit(channel.X_train,\n",
    "                       channel.y_train,\n",
    "                       batch_size=64,\n",
    "                       epochs=35,\n",
    "                       validation_split=0.2,\n",
    "                       callbacks=cbs,\n",
    "                       verbose=True)\n",
    "        \n",
    "    def aggregate_predictions(self, y_hat_batch, method='first'):\n",
    "        agg_y_hat_batch = np.array([])\n",
    "\n",
    "        for t in range(len(y_hat_batch)):\n",
    "\n",
    "            start_idx = t - 10\n",
    "            start_idx = start_idx if start_idx >= 0 else 0\n",
    "\n",
    "            # predictions pertaining to a specific timestep lie along diagonal\n",
    "            y_hat_t = np.flipud(y_hat_batch[start_idx:t+1]).diagonal()\n",
    "\n",
    "            if method == 'first':\n",
    "                agg_y_hat_batch = np.append(agg_y_hat_batch, [y_hat_t[0]])\n",
    "            elif method == 'mean':\n",
    "                agg_y_hat_batch = np.append(agg_y_hat_batch, np.mean(y_hat_t))\n",
    "\n",
    "        agg_y_hat_batch = agg_y_hat_batch.reshape(len(agg_y_hat_batch), 1)\n",
    "        self.y_hat = np.append(self.y_hat, agg_y_hat_batch)\n",
    "              \n",
    "    def batch_predict(self, channel):\n",
    "        num_batches = int((channel.y_test.shape[0] - 250)\n",
    "                          / 70)\n",
    "\n",
    "        for i in range(0, num_batches + 1):\n",
    "            prior_idx = i * 70\n",
    "            idx = (i + 1) * 70\n",
    "\n",
    "            if i + 1 == num_batches + 1:\n",
    "                idx = channel.y_test.shape[0]\n",
    "\n",
    "            X_test_batch = channel.X_test[prior_idx:idx]\n",
    "            y_hat_batch = self.model.predict(X_test_batch)\n",
    "            self.aggregate_predictions(y_hat_batch)\n",
    "\n",
    "        self.y_hat = np.reshape(self.y_hat, (self.y_hat.size,))\n",
    "\n",
    "        channel.y_hat = self.y_hat\n",
    "\n",
    "        return channel\n"
   ]
  },
  {
   "cell_type": "code",
   "execution_count": 18,
   "metadata": {
    "ExecuteTime": {
     "end_time": "2024-03-16T14:30:39.483576Z",
     "start_time": "2024-03-16T14:29:56.795185Z"
    }
   },
   "outputs": [
    {
     "name": "stdout",
     "output_type": "stream",
     "text": [
      "Metal device set to: Apple M1\n",
      "\n",
      "systemMemory: 16.00 GB\n",
      "maxCacheSize: 5.33 GB\n",
      "\n"
     ]
    },
    {
     "name": "stderr",
     "output_type": "stream",
     "text": [
      "2024-04-14 11:01:44.486125: I tensorflow/core/common_runtime/pluggable_device/pluggable_device_factory.cc:305] Could not identify NUMA node of platform GPU ID 0, defaulting to 0. Your kernel may not have been built with NUMA support.\n",
      "2024-04-14 11:01:44.486432: I tensorflow/core/common_runtime/pluggable_device/pluggable_device_factory.cc:271] Created TensorFlow device (/job:localhost/replica:0/task:0/device:GPU:0 with 0 MB memory) -> physical PluggableDevice (device: 0, name: METAL, pci bus id: <undefined>)\n"
     ]
    },
    {
     "name": "stdout",
     "output_type": "stream",
     "text": [
      "Epoch 1/35\n"
     ]
    },
    {
     "name": "stderr",
     "output_type": "stream",
     "text": [
      "2024-04-14 11:01:46.755263: W tensorflow/core/platform/profile_utils/cpu_utils.cc:128] Failed to get CPU frequency: 0 Hz\n",
      "2024-04-14 11:01:50.195139: I tensorflow/core/grappler/optimizers/custom_graph_optimizer_registry.cc:113] Plugin optimizer for device_type GPU is enabled.\n",
      "2024-04-14 11:01:50.874471: I tensorflow/core/grappler/optimizers/custom_graph_optimizer_registry.cc:113] Plugin optimizer for device_type GPU is enabled.\n",
      "2024-04-14 11:01:55.981386: I tensorflow/core/grappler/optimizers/custom_graph_optimizer_registry.cc:113] Plugin optimizer for device_type GPU is enabled.\n",
      "2024-04-14 11:02:00.518459: I tensorflow/core/grappler/optimizers/custom_graph_optimizer_registry.cc:113] Plugin optimizer for device_type GPU is enabled.\n",
      "2024-04-14 11:03:00.213793: I tensorflow/core/grappler/optimizers/custom_graph_optimizer_registry.cc:113] Plugin optimizer for device_type GPU is enabled.\n"
     ]
    },
    {
     "name": "stdout",
     "output_type": "stream",
     "text": [
      "16/16 [==============================] - ETA: 0s - loss: 0.4363"
     ]
    },
    {
     "name": "stderr",
     "output_type": "stream",
     "text": [
      "2024-04-14 11:06:03.222086: I tensorflow/core/grappler/optimizers/custom_graph_optimizer_registry.cc:113] Plugin optimizer for device_type GPU is enabled.\n",
      "2024-04-14 11:06:03.399531: I tensorflow/core/grappler/optimizers/custom_graph_optimizer_registry.cc:113] Plugin optimizer for device_type GPU is enabled.\n",
      "2024-04-14 11:06:06.757379: I tensorflow/core/grappler/optimizers/custom_graph_optimizer_registry.cc:113] Plugin optimizer for device_type GPU is enabled.\n"
     ]
    },
    {
     "name": "stdout",
     "output_type": "stream",
     "text": [
      "16/16 [==============================] - 275s 10s/step - loss: 0.4363 - val_loss: 0.0082\n",
      "Epoch 2/35\n",
      "16/16 [==============================] - 5s 323ms/step - loss: 0.0773 - val_loss: 0.0054\n",
      "Epoch 3/35\n",
      "16/16 [==============================] - 5s 297ms/step - loss: 0.0468 - val_loss: 8.5651e-04\n",
      "Epoch 4/35\n",
      "16/16 [==============================] - 7s 450ms/step - loss: 0.0340 - val_loss: 6.9458e-04\n",
      "Epoch 5/35\n",
      "16/16 [==============================] - 5s 311ms/step - loss: 0.0273 - val_loss: 6.7268e-04\n",
      "Epoch 6/35\n",
      "16/16 [==============================] - 5s 314ms/step - loss: 0.0231 - val_loss: 6.1626e-04\n",
      "Epoch 7/35\n",
      "16/16 [==============================] - 5s 304ms/step - loss: 0.0199 - val_loss: 4.3251e-04\n",
      "Epoch 8/35\n",
      "16/16 [==============================] - 5s 310ms/step - loss: 0.0174 - val_loss: 4.3018e-04\n",
      "Epoch 9/35\n",
      "16/16 [==============================] - 6s 391ms/step - loss: 0.0152 - val_loss: 6.9671e-04\n",
      "Epoch 10/35\n",
      "16/16 [==============================] - 6s 388ms/step - loss: 0.0133 - val_loss: 0.0014\n",
      "Epoch 11/35\n",
      "16/16 [==============================] - 6s 377ms/step - loss: 0.0115 - val_loss: 4.3200e-04\n",
      "Epoch 12/35\n",
      "16/16 [==============================] - 5s 312ms/step - loss: 0.0095 - val_loss: 0.0018\n",
      "Epoch 13/35\n",
      "16/16 [==============================] - 5s 291ms/step - loss: 0.0083 - val_loss: 0.0022\n",
      "Epoch 14/35\n",
      "16/16 [==============================] - 5s 290ms/step - loss: 0.0071 - val_loss: 0.0021\n",
      "Epoch 15/35\n",
      "16/16 [==============================] - 5s 300ms/step - loss: 0.0061 - val_loss: 0.0021\n",
      "Epoch 16/35\n",
      "16/16 [==============================] - 5s 293ms/step - loss: 0.0052 - val_loss: 0.0019\n",
      "Epoch 17/35\n",
      "16/16 [==============================] - 5s 294ms/step - loss: 0.0045 - val_loss: 9.6335e-04\n"
     ]
    }
   ],
   "source": [
    "model = Model(new_channel)"
   ]
  },
  {
   "cell_type": "code",
   "execution_count": 19,
   "metadata": {
    "ExecuteTime": {
     "end_time": "2024-03-16T14:31:18.049307Z",
     "start_time": "2024-03-16T14:30:39.482614Z"
    }
   },
   "outputs": [
    {
     "name": "stderr",
     "output_type": "stream",
     "text": [
      "2024-04-14 11:07:45.887982: I tensorflow/core/grappler/optimizers/custom_graph_optimizer_registry.cc:113] Plugin optimizer for device_type GPU is enabled.\n",
      "2024-04-14 11:07:46.052741: I tensorflow/core/grappler/optimizers/custom_graph_optimizer_registry.cc:113] Plugin optimizer for device_type GPU is enabled.\n",
      "2024-04-14 11:07:49.455375: I tensorflow/core/grappler/optimizers/custom_graph_optimizer_registry.cc:113] Plugin optimizer for device_type GPU is enabled.\n"
     ]
    },
    {
     "data": {
      "text/plain": [
       "<__main__.Channel at 0x17fab8d60>"
      ]
     },
     "execution_count": 19,
     "metadata": {},
     "output_type": "execute_result"
    }
   ],
   "source": [
    "model.batch_predict(new_channel)"
   ]
  },
  {
   "cell_type": "code",
   "execution_count": 20,
   "metadata": {
    "ExecuteTime": {
     "end_time": "2024-03-16T14:31:18.186160Z",
     "start_time": "2024-03-16T14:31:18.048494Z"
    }
   },
   "outputs": [
    {
     "data": {
      "text/plain": [
       "[<matplotlib.lines.Line2D at 0x388f95fa0>]"
      ]
     },
     "execution_count": 20,
     "metadata": {},
     "output_type": "execute_result"
    },
    {
     "data": {
      "image/png": "[encoded data removed]",
      "text/plain": [
       "<Figure size 1080x360 with 2 Axes>"
      ]
     },
     "metadata": {
      "needs_background": "light"
     },
     "output_type": "display_data"
    }
   ],
   "source": [
    "fig, ax = plt.subplots(1, 2)\n",
    "\n",
    "fig.set_size_inches(15, 5)\n",
    "\n",
    "fig.suptitle(\"Actual vs Predictions\")\n",
    "\n",
    "ax[0].plot(new_channel.y_test[:, 0])\n",
    "\n",
    "ax[1].plot(new_channel.y_hat)"
   ]
  },
  {
   "cell_type": "markdown",
   "metadata": {},
   "source": [
    "### Class Plotter - visualize input data, predictions and errors\n"
   ]
  },
  {
   "cell_type": "code",
   "execution_count": 21,
   "metadata": {
    "ExecuteTime": {
     "end_time": "2024-03-16T14:31:18.186668Z",
     "start_time": "2024-03-16T14:31:18.179817Z"
    }
   },
   "outputs": [],
   "source": [
    "class Plotter:\n",
    "    def __init__(self, channel):\n",
    "        self.channel = channel\n",
    "\n",
    "    def plot_predictions(self, plot_real_data=True):\n",
    "        if plot_real_data:\n",
    "            plt.plot(self.channel.y_test[:, 0])\n",
    "        else:\n",
    "            plt.plot(self.channel.y_hat)\n",
    "\n",
    "        anomalies = pd.read_csv(\"data/labeled_anomalies.csv\")\n",
    "        anomalies = anomalies[anomalies[\"chan_id\"] == self.channel.id]\n",
    "        anomalies_plot = anomalies['anomaly_sequences']\n",
    "        anomalies_plot = eval(anomalies_plot.iloc[0])\n",
    "\n",
    "        for rect in anomalies_plot:\n",
    "            plt.axvspan(rect[0], rect[1], alpha=0.3, color='red')\n",
    "        plt.show()\n",
    "        \n",
    "    \n",
    "    def plot_custom_range_predictions(self, start, end, plot_real_data=True):\n",
    "        if plot_real_data:\n",
    "            plt.plot([i for i in range(start, end)], self.channel.y_test[:, 0][start:end])\n",
    "        else:\n",
    "             plt.plot([i for i in range(start, end)], self.channel.y_hat[start:end])\n",
    "\n",
    "        anomalies = pd.read_csv(\"data/labeled_anomalies.csv\")\n",
    "        anomalies = anomalies[anomalies[\"chan_id\"] == self.channel.id]\n",
    "        anomalies_plot = anomalies['anomaly_sequences']\n",
    "        anomalies_plot = eval(anomalies_plot.iloc[0])\n",
    "\n",
    "        for rect in anomalies_plot:\n",
    "            if max(rect[0], start) <  min(rect[1], end):\n",
    "                plt.axvspan(max(rect[0], start), min(rect[1], end), alpha=0.3, color='red')\n",
    "        plt.show()\n",
    "        \n",
    "    def plot_threshold(self, error, threshold):\n",
    "        plt.figure(figsize=(20,10))\n",
    "        plt.plot(error)\n",
    "        plt.plot([threshold for i in range(len(error))])\n",
    "\n",
    "        anomalies = pd.read_csv(\"data/labeled_anomalies.csv\")\n",
    "        anomalies = anomalies[anomalies[\"chan_id\"] == self.channel.id]\n",
    "        anomalies_plot = anomalies['anomaly_sequences']\n",
    "        anomalies_plot = eval(anomalies_plot.iloc[0])\n",
    "\n",
    "        for rect in anomalies_plot:\n",
    "            plt.axvspan(rect[0], rect[1], alpha=0.3, color='red')\n",
    "        plt.show()\n",
    "\n",
    "    def plot_detected_anomalies(self, d_anomalies, plot_real_data=True):\n",
    "        if plot_real_data:\n",
    "            plt.plot(self.channel.y_test[:, 0])\n",
    "        else:\n",
    "            plt.plot(self.channel.y_hat)\n",
    "\n",
    "        for rect in d_anomalies:\n",
    "            plt.axvspan(rect[0], rect[1], alpha=0.3, color='red')\n",
    "        plt.show()"
   ]
  },
  {
   "cell_type": "code",
   "execution_count": 22,
   "metadata": {
    "ExecuteTime": {
     "end_time": "2024-03-16T14:31:18.286130Z",
     "start_time": "2024-03-16T14:31:18.188869Z"
    }
   },
   "outputs": [
    {
     "data": {
      "image/png": "[encoded data removed]",
      "text/plain": [
       "<Figure size 432x288 with 1 Axes>"
      ]
     },
     "metadata": {
      "needs_background": "light"
     },
     "output_type": "display_data"
    }
   ],
   "source": [
    "plotter = Plotter(new_channel)\n",
    "plotter.plot_predictions(plot_real_data=True)\n",
    "# plotter.plot_custom_range_predictions(4900, 7000)"
   ]
  },
  {
   "cell_type": "markdown",
   "metadata": {},
   "source": [
    "### Calculate error between real and predicted data, create smoothed error\n"
   ]
  },
  {
   "cell_type": "code",
   "execution_count": 37,
   "metadata": {
    "ExecuteTime": {
     "end_time": "2024-03-16T14:31:18.301377Z",
     "start_time": "2024-03-16T14:31:18.285263Z"
    }
   },
   "outputs": [],
   "source": [
    "class ErrorWindow:\n",
    "    def __init__(self, channel, e_s, window_size, window_number):\n",
    "        self.channel = channel\n",
    "        self.e_s = e_s\n",
    "        self.window_num = window_number\n",
    "        self.window_size = window_size\n",
    "        self.E_seq = np.array([])\n",
    "        \n",
    "        self.mean = np.mean(self.e_s)\n",
    "        self.std = np.std(self.e_s)\n",
    "        self.epsilon = self.mean + 12 * self.std\n",
    "        self.indices_anomalies = np.array([])\n",
    "        self.anom_scores = []\n",
    "        self.non_anom_max = float('-inf')\n",
    "\n",
    "    def find_anomalies(self):\n",
    "        max_score = float('-inf')\n",
    "\n",
    "        for z in np.arange(2, 10, 0.5):\n",
    "            epsilon = self.mean + (self.std * z)\n",
    "            below_epsilon = self.e_s[self.e_s < epsilon]\n",
    "\n",
    "            delta_mean = self.mean - np.mean(below_epsilon)\n",
    "            delta_std = self.std - np.std(below_epsilon)\n",
    "            e_a = self.e_s[self.e_s >= epsilon]\n",
    "\n",
    "            if len(e_a) > 0:\n",
    "                anom = np.argwhere(self.e_s >= epsilon).reshape(-1)\n",
    "                E_seq =[list(g) for g in mit.consecutive_groups(anom)]\n",
    "                E_seq_len = len(E_seq)\n",
    "                \n",
    "                score = ((delta_mean/self.mean) + (delta_std/self.std)) / (E_seq_len**2 + len(e_a))\n",
    "                if score > max_score:\n",
    "                    max_score = score\n",
    "                    self.epsilon = epsilon\n",
    "                    self.E_seq = E_seq\n",
    "                    # I have no idea why this is here\n",
    "                    # anom = anom[anom >= len(self.e_s) - 70]\n",
    "                    self.indices_anomalies = anom\n",
    "                    self.non_anom_max = max(below_epsilon)\n",
    "                    \n",
    "        return self.epsilon\n",
    "    \n",
    "    def prune_anomalies(self):\n",
    "        if len(self.E_seq) == 0:\n",
    "            return\n",
    "        \n",
    "        non_anom_max = self.non_anom_max\n",
    "        \n",
    "        E_seq_max = []\n",
    "        for e_seq in self.E_seq:\n",
    "            E_seq_max.append(max(self.e_s[e_seq[0]: e_seq[-1] + 1]))\n",
    "\n",
    "        E_seq_max_sorted = np.sort(E_seq_max)[::-1]\n",
    "        E_seq_max_sorted = np.append(E_seq_max_sorted, non_anom_max)\n",
    "\n",
    "        i_to_remove = np.array([], dtype=int)\n",
    "\n",
    "        for i in range(len(E_seq_max_sorted)-1):\n",
    "            if (E_seq_max_sorted[i] - E_seq_max_sorted[i + 1]) / E_seq_max_sorted[i] < 0.13:\n",
    "                i_to_remove = np.append(i_to_remove, np.argwhere(E_seq_max == E_seq_max_sorted[i]))\n",
    "            else:\n",
    "                i_to_remove = np.array([])\n",
    "        \n",
    "        i_to_remove[::-1].sort()\n",
    "\n",
    "        if len(i_to_remove) > 0:\n",
    "            self.E_seq = np.delete(self.E_seq, i_to_remove, axis=0)\n",
    "        \n",
    "        if len(self.E_seq) == 0:\n",
    "            self.indices_anomalies = np.array([])\n",
    "            return\n",
    "        \n",
    "        indices_to_keep = np.concatenate([range(e_seq[0], e_seq[-1] + 1) for e_seq in self.E_seq])\n",
    "\n",
    "        mask = np.isin(self.indices_anomalies, indices_to_keep)\n",
    "        self.indices_anomalies = self.indices_anomalies[mask]\n",
    "        \n",
    "\n",
    "    def score_anomalies(self, prior_idx):\n",
    "\n",
    "        groups = [list(group) for group in mit.consecutive_groups(self.indices_anomalies)]\n",
    "\n",
    "        for e_seq in groups:\n",
    "\n",
    "            score_dict = {\n",
    "                \"start_idx\": e_seq[0] + prior_idx,\n",
    "                \"end_idx\": e_seq[-1] + prior_idx,\n",
    "                \"score\": 0\n",
    "            }\n",
    "\n",
    "            score = max([abs(self.e_s[i] - self.epsilon)\n",
    "                         / (self.mean + self.std) for i in\n",
    "                         range(e_seq[0], e_seq[-1] + 1)])\n",
    "\n",
    "            score_dict['score'] = score\n",
    "            self.anom_scores.append(score_dict)"
   ]
  },
  {
   "cell_type": "code",
   "execution_count": 30,
   "metadata": {
    "ExecuteTime": {
     "end_time": "2024-03-16T14:32:23.798601Z",
     "start_time": "2024-03-16T14:32:23.781650Z"
    }
   },
   "outputs": [],
   "source": [
    "class Errors:\n",
    "    def __init__(self, channel):\n",
    "        self.channel = channel\n",
    "        # self.error = np.abs(channel.y_test[:, 0] - channel.y_hat)\n",
    "        self.error = [abs(y_h-y_t[0]) for y_h, y_t in\n",
    "                  zip(channel.y_hat, channel.y_test)]\n",
    "        self.normalized = np.mean(self.error / np.ptp(channel.y_test))\n",
    "        self.e_s = pd.DataFrame(self.error).ewm(span=105).mean().values.flatten()\n",
    "\n",
    "        self.window_size = 30\n",
    "        self.batch_size = 70\n",
    "\n",
    "        self.n_windows = int((channel.y_test.shape[0] - (self.batch_size * self.window_size)) / self.batch_size)\n",
    "        self.i_anom = np.array([])\n",
    "        self.anom_scores = []\n",
    "        self.E_seq = []\n",
    "        self.epsilons = []\n",
    "\n",
    "\n",
    "    def detect_anomalies(self):\n",
    "\n",
    "        for i in range(self.n_windows + 1):\n",
    "            prior_idx = i * self.batch_size\n",
    "            idx = self.window_size * self.batch_size + prior_idx\n",
    "            window = ErrorWindow(self.channel, self.e_s[prior_idx:idx], self.window_size, i)\n",
    "            \n",
    "            self.epsilons.append(window.find_anomalies())\n",
    "            window.prune_anomalies()\n",
    "            window.score_anomalies(prior_idx)\n",
    "\n",
    "            self.i_anom = np.append(self.i_anom, window.indices_anomalies + prior_idx)\n",
    "            self.anom_scores = self.anom_scores + window.anom_scores\n",
    "\n",
    "\n",
    "        if len(self.anom_scores) > 0:\n",
    "            self.anom_scores = sorted(self.anom_scores, key=lambda x: x['score'], reverse=True)\n",
    "            self.check_scores()\n",
    "\n",
    "    def check_scores(self):\n",
    "        self.anom_scores = sorted(self.anom_scores, key=lambda x: x['start_idx'])\n",
    "        for i in range(len(self.anom_scores)):\n",
    "            if self.anom_scores[i]['score'] > 0.1:\n",
    "                self.E_seq.append([self.anom_scores[i]['start_idx'], self.anom_scores[i]['end_idx']])\n",
    "\n",
    "        E_seq = [self.E_seq[0]]\n",
    "        for s, e in self.E_seq[1:]:\n",
    "            if max(s, E_seq[-1][0]) <= min(e, E_seq[-1][1]) or s == E_seq[-1][1] + 1:\n",
    "                E_seq[-1] = [min(s, E_seq[-1][0]), max(e, E_seq[-1][1])]\n",
    "            else:\n",
    "                E_seq.append([s, e])\n",
    "        self.E_seq = E_seq\n",
    "        # shift data to match the original data\n",
    "        self.E_seq = [(e_seq[0] + 250,\n",
    "                           e_seq[1] + 250) for e_seq in self.E_seq]"
   ]
  },
  {
   "cell_type": "code",
   "execution_count": 38,
   "metadata": {
    "ExecuteTime": {
     "end_time": "2024-03-16T14:32:25.216232Z",
     "start_time": "2024-03-16T14:32:25.041085Z"
    }
   },
   "outputs": [
    {
     "data": {
      "text/plain": [
       "({'start_idx': 4849, 'end_idx': 4899, 'score': 2.945162847665633},\n",
       " [(1090, 1160), (5099, 5149), (5185, 5217)])"
      ]
     },
     "execution_count": 38,
     "metadata": {},
     "output_type": "execute_result"
    }
   ],
   "source": [
    "errors = Errors(new_channel)\n",
    "errors.detect_anomalies()\n",
    "max(errors.anom_scores, key=lambda x: x['score']), errors.E_seq"
   ]
  },
  {
   "cell_type": "code",
   "execution_count": 43,
   "metadata": {},
   "outputs": [
    {
     "data": {
      "image/png": "[encoded data removed]",
      "text/plain": [
       "<Figure size 432x288 with 1 Axes>"
      ]
     },
     "metadata": {
      "needs_background": "light"
     },
     "output_type": "display_data"
    },
    {
     "data": {
      "image/png": "[encoded data removed]",
      "text/plain": [
       "<Figure size 432x288 with 1 Axes>"
      ]
     },
     "metadata": {
      "needs_background": "light"
     },
     "output_type": "display_data"
    }
   ],
   "source": [
    "plotter.plot_detected_anomalies(errors.E_seq, plot_real_data=False)\n",
    "plotter.plot_predictions(plot_real_data=True)"
   ]
  }
 ],
 "metadata": {
  "kernelspec": {
   "display_name": "abm",
   "language": "python",
   "name": "python3"
  },
  "language_info": {
   "codemirror_mode": {
    "name": "ipython",
    "version": 3
   },
   "file_extension": ".py",
   "mimetype": "text/x-python",
   "name": "python",
   "nbconvert_exporter": "python",
   "pygments_lexer": "ipython3",
   "version": "3.9.16"
  }
 },
 "nbformat": 4,
 "nbformat_minor": 2
}
